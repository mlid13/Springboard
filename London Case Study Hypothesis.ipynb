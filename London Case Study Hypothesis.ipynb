{
 "cells": [
  {
   "cell_type": "code",
   "execution_count": 49,
   "id": "2cb3e6a2",
   "metadata": {},
   "outputs": [],
   "source": [
    "\"\"\"Hypothesis: Prices of housing went up post-covid\"\"\"\n",
    "\n",
    "\n",
    "import geopy as gp\n",
    "from geopy import distance\n",
    "import pandas as pd\n",
    "import numpy as np\n",
    "import matplotlib.pyplot as plt\n",
    "\n",
    "from IPython.display import display, HTML\n",
    "\n",
    "import plotly.express as px"
   ]
  },
  {
   "cell_type": "code",
   "execution_count": 2,
   "id": "1832123e",
   "metadata": {},
   "outputs": [],
   "source": [
    "fn='/Users/mlid/Downloads/londonCoors.xlsx'"
   ]
  },
  {
   "cell_type": "code",
   "execution_count": 3,
   "id": "4504337b",
   "metadata": {},
   "outputs": [],
   "source": [
    "url_LondonHousePrices = \"https://data.london.gov.uk/download/uk-house-price-index/70ac0766-8902-4eb5-aab5-01951aaed773/UK%20House%20price%20index.xls\"\n",
    "\n",
    "properties = pd.read_excel(url_LondonHousePrices, sheet_name='Average price', index_col= None)"
   ]
  },
  {
   "cell_type": "code",
   "execution_count": 4,
   "id": "7fed7634",
   "metadata": {},
   "outputs": [],
   "source": [
    "df = pd.read_excel(fn)"
   ]
  },
  {
   "cell_type": "code",
   "execution_count": 5,
   "id": "f0127884",
   "metadata": {},
   "outputs": [
    {
     "name": "stdout",
     "output_type": "stream",
     "text": [
      "      Borough         Co-ordinates  Number\n",
      "0  Hillingdon  51.5441°N, 0.4760°W      33\n",
      "1      Harrow   51.5898°N 0.3346°W      32\n",
      "2      Barnet   51.6252°N 0.1517°W      31\n",
      "3     Enfield   51.6538°N 0.0799°W      30\n",
      "4    Haringey   51.6000°N 0.1119°W      29\n"
     ]
    }
   ],
   "source": [
    "print(df.head())"
   ]
  },
  {
   "cell_type": "code",
   "execution_count": 6,
   "id": "4d785733",
   "metadata": {},
   "outputs": [],
   "source": [
    "df=df.set_index('Number')"
   ]
  },
  {
   "cell_type": "code",
   "execution_count": 7,
   "id": "c3ec7079",
   "metadata": {},
   "outputs": [],
   "source": [
    "df=df.sort_index(ascending=True)"
   ]
  },
  {
   "cell_type": "code",
   "execution_count": 8,
   "id": "181debe4",
   "metadata": {},
   "outputs": [
    {
     "data": {
      "text/html": [
       "<div>\n",
       "<style scoped>\n",
       "    .dataframe tbody tr th:only-of-type {\n",
       "        vertical-align: middle;\n",
       "    }\n",
       "\n",
       "    .dataframe tbody tr th {\n",
       "        vertical-align: top;\n",
       "    }\n",
       "\n",
       "    .dataframe thead th {\n",
       "        text-align: right;\n",
       "    }\n",
       "</style>\n",
       "<table border=\"1\" class=\"dataframe\">\n",
       "  <thead>\n",
       "    <tr style=\"text-align: right;\">\n",
       "      <th></th>\n",
       "      <th>Borough</th>\n",
       "      <th>Co-ordinates</th>\n",
       "    </tr>\n",
       "    <tr>\n",
       "      <th>Number</th>\n",
       "      <th></th>\n",
       "      <th></th>\n",
       "    </tr>\n",
       "  </thead>\n",
       "  <tbody>\n",
       "    <tr>\n",
       "      <th>1</th>\n",
       "      <td>City of London</td>\n",
       "      <td>51.5155°N 0.0922°W</td>\n",
       "    </tr>\n",
       "    <tr>\n",
       "      <th>2</th>\n",
       "      <td>Westminster</td>\n",
       "      <td>51.4973°N 0.1372°W</td>\n",
       "    </tr>\n",
       "    <tr>\n",
       "      <th>3</th>\n",
       "      <td>Kensington &amp; Chelsea</td>\n",
       "      <td>51.5020°N 0.1947°W</td>\n",
       "    </tr>\n",
       "    <tr>\n",
       "      <th>4</th>\n",
       "      <td>Hammersmith &amp; Fulham</td>\n",
       "      <td>51.4927°N 0.2339°W</td>\n",
       "    </tr>\n",
       "    <tr>\n",
       "      <th>5</th>\n",
       "      <td>Wandsworth</td>\n",
       "      <td>51.4567°N 0.1910°W</td>\n",
       "    </tr>\n",
       "    <tr>\n",
       "      <th>6</th>\n",
       "      <td>Lambeth</td>\n",
       "      <td>51.4607°N 0.1163°W</td>\n",
       "    </tr>\n",
       "    <tr>\n",
       "      <th>7</th>\n",
       "      <td>Southwark</td>\n",
       "      <td>51.5035°N 0.0804°W</td>\n",
       "    </tr>\n",
       "    <tr>\n",
       "      <th>8</th>\n",
       "      <td>Tower Hamlets</td>\n",
       "      <td>51.5099°N 0.0059°W</td>\n",
       "    </tr>\n",
       "    <tr>\n",
       "      <th>9</th>\n",
       "      <td>Hackney</td>\n",
       "      <td>51.5450°N 0.0553°W</td>\n",
       "    </tr>\n",
       "    <tr>\n",
       "      <th>10</th>\n",
       "      <td>Islington</td>\n",
       "      <td>51.5416°N 0.1022°W</td>\n",
       "    </tr>\n",
       "    <tr>\n",
       "      <th>11</th>\n",
       "      <td>Camden</td>\n",
       "      <td>51.5290°N 0.1255°W</td>\n",
       "    </tr>\n",
       "    <tr>\n",
       "      <th>12</th>\n",
       "      <td>Brent</td>\n",
       "      <td>51.5588°N 0.2817°W</td>\n",
       "    </tr>\n",
       "    <tr>\n",
       "      <th>13</th>\n",
       "      <td>Ealing</td>\n",
       "      <td>51.5130°N 0.3089°W</td>\n",
       "    </tr>\n",
       "    <tr>\n",
       "      <th>14</th>\n",
       "      <td>Hounslow</td>\n",
       "      <td>51.4746°N 0.3680°W</td>\n",
       "    </tr>\n",
       "    <tr>\n",
       "      <th>15</th>\n",
       "      <td>Richmond upon Thames</td>\n",
       "      <td>51.4479°N 0.3260°W</td>\n",
       "    </tr>\n",
       "    <tr>\n",
       "      <th>16</th>\n",
       "      <td>Kingston upon Thames</td>\n",
       "      <td>51.4085°N 0.3064°W</td>\n",
       "    </tr>\n",
       "    <tr>\n",
       "      <th>17</th>\n",
       "      <td>Merton</td>\n",
       "      <td>51.4014°N 0.1958°W</td>\n",
       "    </tr>\n",
       "    <tr>\n",
       "      <th>18</th>\n",
       "      <td>Sutton</td>\n",
       "      <td>51.3618°N 0.1945°W</td>\n",
       "    </tr>\n",
       "    <tr>\n",
       "      <th>19</th>\n",
       "      <td>Croydon</td>\n",
       "      <td>51.3714°N 0.0977°W</td>\n",
       "    </tr>\n",
       "    <tr>\n",
       "      <th>20</th>\n",
       "      <td>Bromley</td>\n",
       "      <td>51.4039°N 0.0198°E</td>\n",
       "    </tr>\n",
       "    <tr>\n",
       "      <th>21</th>\n",
       "      <td>Lewisham</td>\n",
       "      <td>51.4452°N 0.0209°W</td>\n",
       "    </tr>\n",
       "    <tr>\n",
       "      <th>22</th>\n",
       "      <td>Greenwich</td>\n",
       "      <td>51.4892°N 0.0648°E</td>\n",
       "    </tr>\n",
       "    <tr>\n",
       "      <th>23</th>\n",
       "      <td>Bexley</td>\n",
       "      <td>51.4549°N 0.1505°E</td>\n",
       "    </tr>\n",
       "    <tr>\n",
       "      <th>24</th>\n",
       "      <td>Havering</td>\n",
       "      <td>51.5812°N 0.1837°E</td>\n",
       "    </tr>\n",
       "    <tr>\n",
       "      <th>25</th>\n",
       "      <td>Barking &amp; Dagenham</td>\n",
       "      <td>51.5607°N 0.1557°E</td>\n",
       "    </tr>\n",
       "    <tr>\n",
       "      <th>26</th>\n",
       "      <td>Redbridge</td>\n",
       "      <td>51.5590°N 0.0741°E</td>\n",
       "    </tr>\n",
       "    <tr>\n",
       "      <th>27</th>\n",
       "      <td>Newham</td>\n",
       "      <td>51.5077°N 0.0469°E</td>\n",
       "    </tr>\n",
       "    <tr>\n",
       "      <th>28</th>\n",
       "      <td>Waltham Forest</td>\n",
       "      <td>51.5908°N 0.0134°W</td>\n",
       "    </tr>\n",
       "    <tr>\n",
       "      <th>29</th>\n",
       "      <td>Haringey</td>\n",
       "      <td>51.6000°N 0.1119°W</td>\n",
       "    </tr>\n",
       "    <tr>\n",
       "      <th>30</th>\n",
       "      <td>Enfield</td>\n",
       "      <td>51.6538°N 0.0799°W</td>\n",
       "    </tr>\n",
       "    <tr>\n",
       "      <th>31</th>\n",
       "      <td>Barnet</td>\n",
       "      <td>51.6252°N 0.1517°W</td>\n",
       "    </tr>\n",
       "    <tr>\n",
       "      <th>32</th>\n",
       "      <td>Harrow</td>\n",
       "      <td>51.5898°N 0.3346°W</td>\n",
       "    </tr>\n",
       "    <tr>\n",
       "      <th>33</th>\n",
       "      <td>Hillingdon</td>\n",
       "      <td>51.5441°N, 0.4760°W</td>\n",
       "    </tr>\n",
       "  </tbody>\n",
       "</table>\n",
       "</div>"
      ],
      "text/plain": [
       "                     Borough         Co-ordinates\n",
       "Number                                           \n",
       "1             City of London   51.5155°N 0.0922°W\n",
       "2                Westminster   51.4973°N 0.1372°W\n",
       "3       Kensington & Chelsea   51.5020°N 0.1947°W\n",
       "4       Hammersmith & Fulham   51.4927°N 0.2339°W\n",
       "5                 Wandsworth   51.4567°N 0.1910°W\n",
       "6                    Lambeth   51.4607°N 0.1163°W\n",
       "7                  Southwark   51.5035°N 0.0804°W\n",
       "8              Tower Hamlets   51.5099°N 0.0059°W\n",
       "9                    Hackney   51.5450°N 0.0553°W\n",
       "10                 Islington   51.5416°N 0.1022°W\n",
       "11                    Camden   51.5290°N 0.1255°W\n",
       "12                     Brent   51.5588°N 0.2817°W\n",
       "13                    Ealing   51.5130°N 0.3089°W\n",
       "14                  Hounslow   51.4746°N 0.3680°W\n",
       "15      Richmond upon Thames   51.4479°N 0.3260°W\n",
       "16      Kingston upon Thames   51.4085°N 0.3064°W\n",
       "17                    Merton   51.4014°N 0.1958°W\n",
       "18                    Sutton   51.3618°N 0.1945°W\n",
       "19                   Croydon   51.3714°N 0.0977°W\n",
       "20                   Bromley   51.4039°N 0.0198°E\n",
       "21                  Lewisham   51.4452°N 0.0209°W\n",
       "22                 Greenwich   51.4892°N 0.0648°E\n",
       "23                    Bexley   51.4549°N 0.1505°E\n",
       "24                  Havering   51.5812°N 0.1837°E\n",
       "25        Barking & Dagenham   51.5607°N 0.1557°E\n",
       "26                 Redbridge   51.5590°N 0.0741°E\n",
       "27                    Newham   51.5077°N 0.0469°E\n",
       "28            Waltham Forest   51.5908°N 0.0134°W\n",
       "29                  Haringey   51.6000°N 0.1119°W\n",
       "30                   Enfield   51.6538°N 0.0799°W\n",
       "31                    Barnet   51.6252°N 0.1517°W\n",
       "32                    Harrow   51.5898°N 0.3346°W\n",
       "33                Hillingdon  51.5441°N, 0.4760°W"
      ]
     },
     "execution_count": 8,
     "metadata": {},
     "output_type": "execute_result"
    }
   ],
   "source": [
    "df"
   ]
  },
  {
   "cell_type": "code",
   "execution_count": 9,
   "id": "7819df38",
   "metadata": {},
   "outputs": [],
   "source": [
    "london=df.iloc[0,1]"
   ]
  },
  {
   "cell_type": "code",
   "execution_count": 10,
   "id": "90ed47d3",
   "metadata": {},
   "outputs": [],
   "source": [
    "df['points']=df['Co-ordinates'].apply(lambda p: gp.Point(p))"
   ]
  },
  {
   "cell_type": "code",
   "execution_count": 11,
   "id": "d0b542e7",
   "metadata": {},
   "outputs": [],
   "source": [
    "df['distFromLon (km)']=df['points'].apply(lambda p: gp.distance.geodesic(p,london).km)"
   ]
  },
  {
   "cell_type": "code",
   "execution_count": 12,
   "id": "4be27db9",
   "metadata": {},
   "outputs": [],
   "source": [
    "dT=properties.T\n",
    "dT=dT.rename(index={'Unnamed: 0': 'London_Borough'})\n",
    "dTlocs=dT.index\n",
    "dTcols=list(dT.columns.values)\n",
    "dT.index=(dT[0])\n",
    "dT[0]=dTlocs\n",
    "dT.dropna()\n",
    "relevantBs=dT[1:33]"
   ]
  },
  {
   "cell_type": "code",
   "execution_count": 13,
   "id": "bf58cd11",
   "metadata": {},
   "outputs": [],
   "source": [
    "relevantBs=relevantBs.set_index(0)"
   ]
  },
  {
   "cell_type": "code",
   "execution_count": 14,
   "id": "524f2ca7",
   "metadata": {},
   "outputs": [],
   "source": [
    "t2=df.merge(relevantBs,left_on='Borough',right_on=0,how='inner')"
   ]
  },
  {
   "cell_type": "code",
   "execution_count": 15,
   "id": "2a534c45",
   "metadata": {},
   "outputs": [],
   "source": [
    "# t2"
   ]
  },
  {
   "cell_type": "code",
   "execution_count": 16,
   "id": "7aaa9823",
   "metadata": {},
   "outputs": [],
   "source": [
    "colDf=lambda i : relevantBs[i]-relevantBs[i-1]"
   ]
  },
  {
   "cell_type": "code",
   "execution_count": 17,
   "id": "2be6c30f",
   "metadata": {},
   "outputs": [],
   "source": [
    "##Calculates MoM average price.\n",
    "\n",
    "tmpDf=[]\n",
    "tmpDfperc=[]\n",
    "for i in range(2,relevantBs.shape[1]+1):\n",
    "    tmpDf.append(colDf(i))\n",
    "    tmpDfperc.append((colDf(i)/relevantBs[i])*100)\n",
    "\n",
    "tmpDf=pd.concat(tmpDf,axis=1)\n",
    "tmpDfperc=pd.concat(tmpDfperc,axis=1)"
   ]
  },
  {
   "cell_type": "code",
   "execution_count": 18,
   "id": "4010894e",
   "metadata": {},
   "outputs": [],
   "source": [
    "#Percentage of times a specific borough has seen negative MoM price changes\n",
    "\n",
    "dsp=pd.DataFrame(tmpDf.lt(0).sum(axis=1)*100/344)\n",
    "# dsp.to_html('temp.html')"
   ]
  },
  {
   "cell_type": "code",
   "execution_count": 19,
   "id": "31df8312",
   "metadata": {},
   "outputs": [],
   "source": [
    "#Number of boroughs less than the mean\n",
    "\n",
    "# df['distFromLon (km)'].lt(df['distFromLon (km)'].mean()).sum()"
   ]
  },
  {
   "cell_type": "code",
   "execution_count": 20,
   "id": "25d9d94d",
   "metadata": {},
   "outputs": [],
   "source": [
    "# orderedDist.set_index('Borough')"
   ]
  },
  {
   "cell_type": "code",
   "execution_count": 21,
   "id": "62688b2b",
   "metadata": {},
   "outputs": [],
   "source": [
    "rbs=relevantBs.reset_index()"
   ]
  },
  {
   "cell_type": "code",
   "execution_count": 22,
   "id": "e542411c",
   "metadata": {},
   "outputs": [],
   "source": [
    "df.index-=1"
   ]
  },
  {
   "cell_type": "code",
   "execution_count": 23,
   "id": "bcab0e82",
   "metadata": {},
   "outputs": [],
   "source": [
    "rbDf=rbs.reset_index().join(df['distFromLon (km)'])"
   ]
  },
  {
   "cell_type": "code",
   "execution_count": 24,
   "id": "6d46ca5e",
   "metadata": {},
   "outputs": [],
   "source": [
    "rbDf=rbDf.fillna(0)"
   ]
  },
  {
   "cell_type": "code",
   "execution_count": 25,
   "id": "9790b35e",
   "metadata": {},
   "outputs": [],
   "source": [
    "rbDf=rbDf.sort_values('distFromLon (km)')"
   ]
  },
  {
   "cell_type": "code",
   "execution_count": 26,
   "id": "4aa12d6f",
   "metadata": {},
   "outputs": [],
   "source": [
    "closerBs=rbDf[0:16]\n",
    "furtherBs=rbDf[16:]"
   ]
  },
  {
   "cell_type": "code",
   "execution_count": 27,
   "id": "4e2dfc13",
   "metadata": {},
   "outputs": [
    {
     "data": {
      "text/html": [
       "<div>\n",
       "<style scoped>\n",
       "    .dataframe tbody tr th:only-of-type {\n",
       "        vertical-align: middle;\n",
       "    }\n",
       "\n",
       "    .dataframe tbody tr th {\n",
       "        vertical-align: top;\n",
       "    }\n",
       "\n",
       "    .dataframe thead th {\n",
       "        text-align: right;\n",
       "    }\n",
       "</style>\n",
       "<table border=\"1\" class=\"dataframe\">\n",
       "  <thead>\n",
       "    <tr style=\"text-align: right;\">\n",
       "      <th></th>\n",
       "      <th>index</th>\n",
       "      <th>0</th>\n",
       "      <th>1</th>\n",
       "      <th>2</th>\n",
       "      <th>3</th>\n",
       "      <th>4</th>\n",
       "      <th>5</th>\n",
       "      <th>6</th>\n",
       "      <th>7</th>\n",
       "      <th>8</th>\n",
       "      <th>...</th>\n",
       "      <th>338</th>\n",
       "      <th>339</th>\n",
       "      <th>340</th>\n",
       "      <th>341</th>\n",
       "      <th>342</th>\n",
       "      <th>343</th>\n",
       "      <th>344</th>\n",
       "      <th>345</th>\n",
       "      <th>346</th>\n",
       "      <th>distFromLon (km)</th>\n",
       "    </tr>\n",
       "  </thead>\n",
       "  <tbody>\n",
       "    <tr>\n",
       "      <th>0</th>\n",
       "      <td>0</td>\n",
       "      <td>City of London</td>\n",
       "      <td>91448.98487</td>\n",
       "      <td>82202.77314</td>\n",
       "      <td>79120.70256</td>\n",
       "      <td>77101.20804</td>\n",
       "      <td>84409.14932</td>\n",
       "      <td>94900.51244</td>\n",
       "      <td>110128.04230</td>\n",
       "      <td>112329.43760</td>\n",
       "      <td>...</td>\n",
       "      <td>868654</td>\n",
       "      <td>931058</td>\n",
       "      <td>905101</td>\n",
       "      <td>960392</td>\n",
       "      <td>982370</td>\n",
       "      <td>960158</td>\n",
       "      <td>888278</td>\n",
       "      <td>875234</td>\n",
       "      <td>948692</td>\n",
       "      <td>0.000000</td>\n",
       "    </tr>\n",
       "    <tr>\n",
       "      <th>6</th>\n",
       "      <td>6</td>\n",
       "      <td>Camden</td>\n",
       "      <td>120932.88810</td>\n",
       "      <td>119508.86220</td>\n",
       "      <td>120282.21310</td>\n",
       "      <td>120097.89900</td>\n",
       "      <td>119929.27820</td>\n",
       "      <td>121887.46250</td>\n",
       "      <td>124027.57680</td>\n",
       "      <td>125529.80390</td>\n",
       "      <td>...</td>\n",
       "      <td>870187</td>\n",
       "      <td>855337</td>\n",
       "      <td>870647</td>\n",
       "      <td>853825</td>\n",
       "      <td>872180</td>\n",
       "      <td>845434</td>\n",
       "      <td>857874</td>\n",
       "      <td>830524</td>\n",
       "      <td>820541</td>\n",
       "      <td>1.566402</td>\n",
       "    </tr>\n",
       "    <tr>\n",
       "      <th>10</th>\n",
       "      <td>10</td>\n",
       "      <td>Greenwich</td>\n",
       "      <td>62300.10169</td>\n",
       "      <td>60993.26863</td>\n",
       "      <td>61377.83464</td>\n",
       "      <td>61927.72460</td>\n",
       "      <td>63512.99103</td>\n",
       "      <td>64751.56404</td>\n",
       "      <td>65486.34112</td>\n",
       "      <td>65076.43195</td>\n",
       "      <td>...</td>\n",
       "      <td>440150</td>\n",
       "      <td>435674</td>\n",
       "      <td>421376</td>\n",
       "      <td>405551</td>\n",
       "      <td>407847</td>\n",
       "      <td>418014</td>\n",
       "      <td>433850</td>\n",
       "      <td>429011</td>\n",
       "      <td>426081</td>\n",
       "      <td>2.756412</td>\n",
       "    </tr>\n",
       "    <tr>\n",
       "      <th>9</th>\n",
       "      <td>9</td>\n",
       "      <td>Enfield</td>\n",
       "      <td>72514.69096</td>\n",
       "      <td>73155.19746</td>\n",
       "      <td>72190.44144</td>\n",
       "      <td>71442.92235</td>\n",
       "      <td>70630.77955</td>\n",
       "      <td>71348.31147</td>\n",
       "      <td>71837.54011</td>\n",
       "      <td>72237.94562</td>\n",
       "      <td>...</td>\n",
       "      <td>442967</td>\n",
       "      <td>436353</td>\n",
       "      <td>434394</td>\n",
       "      <td>435287</td>\n",
       "      <td>434611</td>\n",
       "      <td>439328</td>\n",
       "      <td>444642</td>\n",
       "      <td>449901</td>\n",
       "      <td>450106</td>\n",
       "      <td>2.985616</td>\n",
       "    </tr>\n",
       "    <tr>\n",
       "      <th>1</th>\n",
       "      <td>1</td>\n",
       "      <td>Barking &amp; Dagenham</td>\n",
       "      <td>50460.22660</td>\n",
       "      <td>51085.77983</td>\n",
       "      <td>51268.96956</td>\n",
       "      <td>53133.50526</td>\n",
       "      <td>53042.24852</td>\n",
       "      <td>53700.34831</td>\n",
       "      <td>52113.12157</td>\n",
       "      <td>52232.19868</td>\n",
       "      <td>...</td>\n",
       "      <td>346059</td>\n",
       "      <td>344693</td>\n",
       "      <td>347710</td>\n",
       "      <td>348002</td>\n",
       "      <td>343972</td>\n",
       "      <td>340763</td>\n",
       "      <td>343731</td>\n",
       "      <td>344255</td>\n",
       "      <td>334460</td>\n",
       "      <td>3.723168</td>\n",
       "    </tr>\n",
       "    <tr>\n",
       "      <th>8</th>\n",
       "      <td>8</td>\n",
       "      <td>Ealing</td>\n",
       "      <td>79885.89069</td>\n",
       "      <td>80897.06551</td>\n",
       "      <td>81379.86288</td>\n",
       "      <td>82188.90498</td>\n",
       "      <td>82077.05525</td>\n",
       "      <td>81630.66181</td>\n",
       "      <td>82352.22260</td>\n",
       "      <td>82706.65927</td>\n",
       "      <td>...</td>\n",
       "      <td>528381</td>\n",
       "      <td>512245</td>\n",
       "      <td>507696</td>\n",
       "      <td>504662</td>\n",
       "      <td>508547</td>\n",
       "      <td>509818</td>\n",
       "      <td>514537</td>\n",
       "      <td>515339</td>\n",
       "      <td>499337</td>\n",
       "      <td>4.162848</td>\n",
       "    </tr>\n",
       "    <tr>\n",
       "      <th>7</th>\n",
       "      <td>7</td>\n",
       "      <td>Croydon</td>\n",
       "      <td>69158.16225</td>\n",
       "      <td>68951.09542</td>\n",
       "      <td>68712.44341</td>\n",
       "      <td>68610.04641</td>\n",
       "      <td>68844.91690</td>\n",
       "      <td>69052.51103</td>\n",
       "      <td>69142.48112</td>\n",
       "      <td>68993.42545</td>\n",
       "      <td>...</td>\n",
       "      <td>427422</td>\n",
       "      <td>419254</td>\n",
       "      <td>409618</td>\n",
       "      <td>406078</td>\n",
       "      <td>402962</td>\n",
       "      <td>406623</td>\n",
       "      <td>413175</td>\n",
       "      <td>419400</td>\n",
       "      <td>401511</td>\n",
       "      <td>6.023360</td>\n",
       "    </tr>\n",
       "    <tr>\n",
       "      <th>5</th>\n",
       "      <td>5</td>\n",
       "      <td>Bromley</td>\n",
       "      <td>81671.47692</td>\n",
       "      <td>81657.55944</td>\n",
       "      <td>81449.31143</td>\n",
       "      <td>81124.41227</td>\n",
       "      <td>81542.61561</td>\n",
       "      <td>82382.83435</td>\n",
       "      <td>82898.52264</td>\n",
       "      <td>82054.37156</td>\n",
       "      <td>...</td>\n",
       "      <td>503461</td>\n",
       "      <td>496542</td>\n",
       "      <td>497231</td>\n",
       "      <td>494138</td>\n",
       "      <td>496422</td>\n",
       "      <td>500377</td>\n",
       "      <td>504524</td>\n",
       "      <td>505185</td>\n",
       "      <td>512900</td>\n",
       "      <td>6.322540</td>\n",
       "    </tr>\n",
       "    <tr>\n",
       "      <th>2</th>\n",
       "      <td>2</td>\n",
       "      <td>Barnet</td>\n",
       "      <td>93284.51832</td>\n",
       "      <td>93190.16963</td>\n",
       "      <td>92247.52435</td>\n",
       "      <td>90762.87492</td>\n",
       "      <td>90258.00033</td>\n",
       "      <td>90107.23471</td>\n",
       "      <td>91441.24768</td>\n",
       "      <td>92361.31512</td>\n",
       "      <td>...</td>\n",
       "      <td>603522</td>\n",
       "      <td>596521</td>\n",
       "      <td>585644</td>\n",
       "      <td>572257</td>\n",
       "      <td>570542</td>\n",
       "      <td>575808</td>\n",
       "      <td>586501</td>\n",
       "      <td>589399</td>\n",
       "      <td>597538</td>\n",
       "      <td>7.273068</td>\n",
       "    </tr>\n",
       "    <tr>\n",
       "      <th>20</th>\n",
       "      <td>20</td>\n",
       "      <td>Kingston upon Thames</td>\n",
       "      <td>80875.84843</td>\n",
       "      <td>81230.13524</td>\n",
       "      <td>81111.48848</td>\n",
       "      <td>81672.80476</td>\n",
       "      <td>82123.51084</td>\n",
       "      <td>82205.66822</td>\n",
       "      <td>82525.79300</td>\n",
       "      <td>83342.84552</td>\n",
       "      <td>...</td>\n",
       "      <td>550759</td>\n",
       "      <td>553117</td>\n",
       "      <td>546915</td>\n",
       "      <td>546766</td>\n",
       "      <td>542079</td>\n",
       "      <td>536956</td>\n",
       "      <td>540952</td>\n",
       "      <td>542536</td>\n",
       "      <td>557043</td>\n",
       "      <td>9.257906</td>\n",
       "    </tr>\n",
       "    <tr>\n",
       "      <th>4</th>\n",
       "      <td>4</td>\n",
       "      <td>Brent</td>\n",
       "      <td>71306.56698</td>\n",
       "      <td>72022.26197</td>\n",
       "      <td>72015.76274</td>\n",
       "      <td>72965.63094</td>\n",
       "      <td>73704.04743</td>\n",
       "      <td>74310.48167</td>\n",
       "      <td>74127.03788</td>\n",
       "      <td>73547.04110</td>\n",
       "      <td>...</td>\n",
       "      <td>535332</td>\n",
       "      <td>527101</td>\n",
       "      <td>525558</td>\n",
       "      <td>523687</td>\n",
       "      <td>526985</td>\n",
       "      <td>525460</td>\n",
       "      <td>552411</td>\n",
       "      <td>554568</td>\n",
       "      <td>542864</td>\n",
       "      <td>9.481306</td>\n",
       "    </tr>\n",
       "    <tr>\n",
       "      <th>28</th>\n",
       "      <td>28</td>\n",
       "      <td>Sutton</td>\n",
       "      <td>71536.97357</td>\n",
       "      <td>70893.20851</td>\n",
       "      <td>70306.83844</td>\n",
       "      <td>69411.94390</td>\n",
       "      <td>69759.21989</td>\n",
       "      <td>70125.24728</td>\n",
       "      <td>70789.57284</td>\n",
       "      <td>69958.41918</td>\n",
       "      <td>...</td>\n",
       "      <td>438146</td>\n",
       "      <td>436658</td>\n",
       "      <td>431737</td>\n",
       "      <td>429292</td>\n",
       "      <td>426144</td>\n",
       "      <td>426115</td>\n",
       "      <td>428589</td>\n",
       "      <td>436364</td>\n",
       "      <td>439430</td>\n",
       "      <td>9.500136</td>\n",
       "    </tr>\n",
       "    <tr>\n",
       "      <th>26</th>\n",
       "      <td>26</td>\n",
       "      <td>Richmond upon Thames</td>\n",
       "      <td>109326.12450</td>\n",
       "      <td>111103.03940</td>\n",
       "      <td>107325.47420</td>\n",
       "      <td>106875.00000</td>\n",
       "      <td>107707.67990</td>\n",
       "      <td>112865.05420</td>\n",
       "      <td>114656.60110</td>\n",
       "      <td>112320.40960</td>\n",
       "      <td>...</td>\n",
       "      <td>752804</td>\n",
       "      <td>748335</td>\n",
       "      <td>743270</td>\n",
       "      <td>741843</td>\n",
       "      <td>749167</td>\n",
       "      <td>756884</td>\n",
       "      <td>762469</td>\n",
       "      <td>770755</td>\n",
       "      <td>806462</td>\n",
       "      <td>9.695637</td>\n",
       "    </tr>\n",
       "    <tr>\n",
       "      <th>27</th>\n",
       "      <td>27</td>\n",
       "      <td>Southwark</td>\n",
       "      <td>67885.20344</td>\n",
       "      <td>64799.06480</td>\n",
       "      <td>65763.29719</td>\n",
       "      <td>63073.62117</td>\n",
       "      <td>64420.49933</td>\n",
       "      <td>64155.81449</td>\n",
       "      <td>67024.74767</td>\n",
       "      <td>65525.94434</td>\n",
       "      <td>...</td>\n",
       "      <td>541498</td>\n",
       "      <td>530689</td>\n",
       "      <td>520415</td>\n",
       "      <td>524961</td>\n",
       "      <td>531604</td>\n",
       "      <td>533775</td>\n",
       "      <td>537098</td>\n",
       "      <td>549095</td>\n",
       "      <td>538663</td>\n",
       "      <td>10.002977</td>\n",
       "    </tr>\n",
       "    <tr>\n",
       "      <th>3</th>\n",
       "      <td>3</td>\n",
       "      <td>Bexley</td>\n",
       "      <td>64958.09036</td>\n",
       "      <td>64787.92069</td>\n",
       "      <td>64367.49344</td>\n",
       "      <td>64277.66881</td>\n",
       "      <td>63997.13588</td>\n",
       "      <td>64252.32335</td>\n",
       "      <td>63722.70055</td>\n",
       "      <td>64432.60005</td>\n",
       "      <td>...</td>\n",
       "      <td>401263</td>\n",
       "      <td>395612</td>\n",
       "      <td>392642</td>\n",
       "      <td>385603</td>\n",
       "      <td>383969</td>\n",
       "      <td>387475</td>\n",
       "      <td>387360</td>\n",
       "      <td>389590</td>\n",
       "      <td>393227</td>\n",
       "      <td>10.160583</td>\n",
       "    </tr>\n",
       "    <tr>\n",
       "      <th>21</th>\n",
       "      <td>21</td>\n",
       "      <td>Lambeth</td>\n",
       "      <td>67770.98843</td>\n",
       "      <td>65381.51908</td>\n",
       "      <td>66336.51868</td>\n",
       "      <td>66388.77160</td>\n",
       "      <td>69035.11076</td>\n",
       "      <td>68881.15764</td>\n",
       "      <td>69608.72242</td>\n",
       "      <td>68840.02827</td>\n",
       "      <td>...</td>\n",
       "      <td>550907</td>\n",
       "      <td>554295</td>\n",
       "      <td>556030</td>\n",
       "      <td>550708</td>\n",
       "      <td>539661</td>\n",
       "      <td>547313</td>\n",
       "      <td>556187</td>\n",
       "      <td>577865</td>\n",
       "      <td>572212</td>\n",
       "      <td>11.287462</td>\n",
       "    </tr>\n",
       "    <tr>\n",
       "      <th>25</th>\n",
       "      <td>25</td>\n",
       "      <td>Redbridge</td>\n",
       "      <td>72189.58437</td>\n",
       "      <td>72141.62610</td>\n",
       "      <td>72501.35502</td>\n",
       "      <td>72228.60295</td>\n",
       "      <td>72366.64122</td>\n",
       "      <td>72279.43250</td>\n",
       "      <td>72880.83974</td>\n",
       "      <td>73275.16891</td>\n",
       "      <td>...</td>\n",
       "      <td>475373</td>\n",
       "      <td>470565</td>\n",
       "      <td>464307</td>\n",
       "      <td>456050</td>\n",
       "      <td>448625</td>\n",
       "      <td>453987</td>\n",
       "      <td>479119</td>\n",
       "      <td>499828</td>\n",
       "      <td>491337</td>\n",
       "      <td>12.512434</td>\n",
       "    </tr>\n",
       "    <tr>\n",
       "      <th>30</th>\n",
       "      <td>30</td>\n",
       "      <td>Waltham Forest</td>\n",
       "      <td>61319.44913</td>\n",
       "      <td>60252.12246</td>\n",
       "      <td>60871.08493</td>\n",
       "      <td>60971.39722</td>\n",
       "      <td>61494.16938</td>\n",
       "      <td>61547.79643</td>\n",
       "      <td>61933.52738</td>\n",
       "      <td>61916.42220</td>\n",
       "      <td>...</td>\n",
       "      <td>510781</td>\n",
       "      <td>503049</td>\n",
       "      <td>504409</td>\n",
       "      <td>495892</td>\n",
       "      <td>496501</td>\n",
       "      <td>491916</td>\n",
       "      <td>500489</td>\n",
       "      <td>503718</td>\n",
       "      <td>508799</td>\n",
       "      <td>12.883466</td>\n",
       "    </tr>\n",
       "    <tr>\n",
       "      <th>11</th>\n",
       "      <td>11</td>\n",
       "      <td>Hackney</td>\n",
       "      <td>61296.52637</td>\n",
       "      <td>63187.08332</td>\n",
       "      <td>63593.29935</td>\n",
       "      <td>65139.64403</td>\n",
       "      <td>66193.99212</td>\n",
       "      <td>66921.17101</td>\n",
       "      <td>68390.75300</td>\n",
       "      <td>68096.79385</td>\n",
       "      <td>...</td>\n",
       "      <td>611247</td>\n",
       "      <td>626805</td>\n",
       "      <td>619934</td>\n",
       "      <td>632959</td>\n",
       "      <td>632056</td>\n",
       "      <td>637950</td>\n",
       "      <td>616783</td>\n",
       "      <td>610147</td>\n",
       "      <td>639717</td>\n",
       "      <td>14.003046</td>\n",
       "    </tr>\n",
       "    <tr>\n",
       "      <th>16</th>\n",
       "      <td>16</td>\n",
       "      <td>Hillingdon</td>\n",
       "      <td>73834.82964</td>\n",
       "      <td>75031.06960</td>\n",
       "      <td>74188.66949</td>\n",
       "      <td>73911.40591</td>\n",
       "      <td>73117.12416</td>\n",
       "      <td>74005.00585</td>\n",
       "      <td>74671.13263</td>\n",
       "      <td>74967.86534</td>\n",
       "      <td>...</td>\n",
       "      <td>457880</td>\n",
       "      <td>451199</td>\n",
       "      <td>446896</td>\n",
       "      <td>443000</td>\n",
       "      <td>442595</td>\n",
       "      <td>439132</td>\n",
       "      <td>444367</td>\n",
       "      <td>445872</td>\n",
       "      <td>447260</td>\n",
       "      <td>14.594407</td>\n",
       "    </tr>\n",
       "    <tr>\n",
       "      <th>19</th>\n",
       "      <td>19</td>\n",
       "      <td>Kensington &amp; Chelsea</td>\n",
       "      <td>182694.83260</td>\n",
       "      <td>182345.24630</td>\n",
       "      <td>182878.82310</td>\n",
       "      <td>184176.91680</td>\n",
       "      <td>191474.11410</td>\n",
       "      <td>197265.76020</td>\n",
       "      <td>197963.31690</td>\n",
       "      <td>198037.42180</td>\n",
       "      <td>...</td>\n",
       "      <td>1334969</td>\n",
       "      <td>1357422</td>\n",
       "      <td>1314633</td>\n",
       "      <td>1336351</td>\n",
       "      <td>1376918</td>\n",
       "      <td>1366630</td>\n",
       "      <td>1348284</td>\n",
       "      <td>1277200</td>\n",
       "      <td>1352475</td>\n",
       "      <td>14.654617</td>\n",
       "    </tr>\n",
       "    <tr>\n",
       "      <th>12</th>\n",
       "      <td>12</td>\n",
       "      <td>Hammersmith &amp; Fulham</td>\n",
       "      <td>124902.86020</td>\n",
       "      <td>122087.71800</td>\n",
       "      <td>120635.94670</td>\n",
       "      <td>121424.62410</td>\n",
       "      <td>124433.53900</td>\n",
       "      <td>126175.15130</td>\n",
       "      <td>124381.51340</td>\n",
       "      <td>123625.31960</td>\n",
       "      <td>...</td>\n",
       "      <td>761327</td>\n",
       "      <td>774528</td>\n",
       "      <td>758696</td>\n",
       "      <td>785411</td>\n",
       "      <td>783166</td>\n",
       "      <td>787371</td>\n",
       "      <td>764206</td>\n",
       "      <td>766462</td>\n",
       "      <td>716048</td>\n",
       "      <td>15.045632</td>\n",
       "    </tr>\n",
       "    <tr>\n",
       "      <th>29</th>\n",
       "      <td>29</td>\n",
       "      <td>Tower Hamlets</td>\n",
       "      <td>59865.18995</td>\n",
       "      <td>62318.53353</td>\n",
       "      <td>63938.67686</td>\n",
       "      <td>66233.19383</td>\n",
       "      <td>66432.85846</td>\n",
       "      <td>66232.16372</td>\n",
       "      <td>64692.22672</td>\n",
       "      <td>63472.27558</td>\n",
       "      <td>...</td>\n",
       "      <td>479469</td>\n",
       "      <td>467820</td>\n",
       "      <td>458527</td>\n",
       "      <td>447574</td>\n",
       "      <td>439793</td>\n",
       "      <td>433366</td>\n",
       "      <td>441998</td>\n",
       "      <td>452975</td>\n",
       "      <td>450194</td>\n",
       "      <td>15.410781</td>\n",
       "    </tr>\n",
       "    <tr>\n",
       "      <th>18</th>\n",
       "      <td>18</td>\n",
       "      <td>Islington</td>\n",
       "      <td>92516.48557</td>\n",
       "      <td>94342.37334</td>\n",
       "      <td>93465.86407</td>\n",
       "      <td>93344.49305</td>\n",
       "      <td>94346.39917</td>\n",
       "      <td>97428.94311</td>\n",
       "      <td>98976.14077</td>\n",
       "      <td>98951.20791</td>\n",
       "      <td>...</td>\n",
       "      <td>683686</td>\n",
       "      <td>685486</td>\n",
       "      <td>697720</td>\n",
       "      <td>707740</td>\n",
       "      <td>705797</td>\n",
       "      <td>708885</td>\n",
       "      <td>715535</td>\n",
       "      <td>726890</td>\n",
       "      <td>737539</td>\n",
       "      <td>16.036658</td>\n",
       "    </tr>\n",
       "    <tr>\n",
       "      <th>14</th>\n",
       "      <td>14</td>\n",
       "      <td>Harrow</td>\n",
       "      <td>84769.52599</td>\n",
       "      <td>83396.10525</td>\n",
       "      <td>83416.23759</td>\n",
       "      <td>83567.88439</td>\n",
       "      <td>83853.65615</td>\n",
       "      <td>84173.24689</td>\n",
       "      <td>84226.69844</td>\n",
       "      <td>84430.61796</td>\n",
       "      <td>...</td>\n",
       "      <td>521035</td>\n",
       "      <td>513656</td>\n",
       "      <td>501548</td>\n",
       "      <td>498937</td>\n",
       "      <td>498119</td>\n",
       "      <td>504769</td>\n",
       "      <td>510100</td>\n",
       "      <td>509854</td>\n",
       "      <td>516260</td>\n",
       "      <td>17.898541</td>\n",
       "    </tr>\n",
       "    <tr>\n",
       "      <th>24</th>\n",
       "      <td>24</td>\n",
       "      <td>Newham</td>\n",
       "      <td>53539.31919</td>\n",
       "      <td>53153.88306</td>\n",
       "      <td>53458.26393</td>\n",
       "      <td>54479.75395</td>\n",
       "      <td>55803.95958</td>\n",
       "      <td>56067.76986</td>\n",
       "      <td>55458.31693</td>\n",
       "      <td>54709.35467</td>\n",
       "      <td>...</td>\n",
       "      <td>411472</td>\n",
       "      <td>401155</td>\n",
       "      <td>400148</td>\n",
       "      <td>403625</td>\n",
       "      <td>410577</td>\n",
       "      <td>408342</td>\n",
       "      <td>409032</td>\n",
       "      <td>424540</td>\n",
       "      <td>433164</td>\n",
       "      <td>17.920031</td>\n",
       "    </tr>\n",
       "    <tr>\n",
       "      <th>22</th>\n",
       "      <td>22</td>\n",
       "      <td>Lewisham</td>\n",
       "      <td>60491.26109</td>\n",
       "      <td>60869.27091</td>\n",
       "      <td>60288.03002</td>\n",
       "      <td>59471.03136</td>\n",
       "      <td>58551.38387</td>\n",
       "      <td>58041.43543</td>\n",
       "      <td>58126.37811</td>\n",
       "      <td>58151.31540</td>\n",
       "      <td>...</td>\n",
       "      <td>462765</td>\n",
       "      <td>452754</td>\n",
       "      <td>455448</td>\n",
       "      <td>446065</td>\n",
       "      <td>449117</td>\n",
       "      <td>456116</td>\n",
       "      <td>464569</td>\n",
       "      <td>474127</td>\n",
       "      <td>452240</td>\n",
       "      <td>18.156865</td>\n",
       "    </tr>\n",
       "    <tr>\n",
       "      <th>17</th>\n",
       "      <td>17</td>\n",
       "      <td>Hounslow</td>\n",
       "      <td>72231.70537</td>\n",
       "      <td>71051.55852</td>\n",
       "      <td>72097.99411</td>\n",
       "      <td>71890.28339</td>\n",
       "      <td>72877.47219</td>\n",
       "      <td>72331.08116</td>\n",
       "      <td>73717.78844</td>\n",
       "      <td>74479.94802</td>\n",
       "      <td>...</td>\n",
       "      <td>461197</td>\n",
       "      <td>457805</td>\n",
       "      <td>454328</td>\n",
       "      <td>441642</td>\n",
       "      <td>447617</td>\n",
       "      <td>444605</td>\n",
       "      <td>461582</td>\n",
       "      <td>476725</td>\n",
       "      <td>472922</td>\n",
       "      <td>18.520635</td>\n",
       "    </tr>\n",
       "    <tr>\n",
       "      <th>31</th>\n",
       "      <td>31</td>\n",
       "      <td>Wandsworth</td>\n",
       "      <td>88559.04381</td>\n",
       "      <td>88641.01678</td>\n",
       "      <td>87124.81523</td>\n",
       "      <td>87026.00225</td>\n",
       "      <td>86518.05945</td>\n",
       "      <td>88114.33510</td>\n",
       "      <td>89830.58934</td>\n",
       "      <td>90560.68078</td>\n",
       "      <td>...</td>\n",
       "      <td>630989</td>\n",
       "      <td>622809</td>\n",
       "      <td>613865</td>\n",
       "      <td>614997</td>\n",
       "      <td>616263</td>\n",
       "      <td>617229</td>\n",
       "      <td>621015</td>\n",
       "      <td>635464</td>\n",
       "      <td>628248</td>\n",
       "      <td>18.735296</td>\n",
       "    </tr>\n",
       "    <tr>\n",
       "      <th>15</th>\n",
       "      <td>15</td>\n",
       "      <td>Havering</td>\n",
       "      <td>68000.13774</td>\n",
       "      <td>69393.51294</td>\n",
       "      <td>69368.02407</td>\n",
       "      <td>69444.26215</td>\n",
       "      <td>68534.52248</td>\n",
       "      <td>68464.60664</td>\n",
       "      <td>68680.83996</td>\n",
       "      <td>69023.36482</td>\n",
       "      <td>...</td>\n",
       "      <td>431046</td>\n",
       "      <td>424097</td>\n",
       "      <td>422984</td>\n",
       "      <td>418566</td>\n",
       "      <td>418221</td>\n",
       "      <td>419311</td>\n",
       "      <td>419493</td>\n",
       "      <td>423870</td>\n",
       "      <td>419021</td>\n",
       "      <td>19.061098</td>\n",
       "    </tr>\n",
       "    <tr>\n",
       "      <th>13</th>\n",
       "      <td>13</td>\n",
       "      <td>Haringey</td>\n",
       "      <td>76287.56947</td>\n",
       "      <td>78901.21036</td>\n",
       "      <td>78521.94855</td>\n",
       "      <td>79545.57477</td>\n",
       "      <td>79374.03490</td>\n",
       "      <td>79956.36210</td>\n",
       "      <td>80746.34881</td>\n",
       "      <td>81217.69074</td>\n",
       "      <td>...</td>\n",
       "      <td>597174</td>\n",
       "      <td>592090</td>\n",
       "      <td>584317</td>\n",
       "      <td>591114</td>\n",
       "      <td>605957</td>\n",
       "      <td>609905</td>\n",
       "      <td>612605</td>\n",
       "      <td>615661</td>\n",
       "      <td>574374</td>\n",
       "      <td>19.686870</td>\n",
       "    </tr>\n",
       "    <tr>\n",
       "      <th>23</th>\n",
       "      <td>23</td>\n",
       "      <td>Merton</td>\n",
       "      <td>82070.61330</td>\n",
       "      <td>79982.74872</td>\n",
       "      <td>80661.68279</td>\n",
       "      <td>79990.54333</td>\n",
       "      <td>80873.98643</td>\n",
       "      <td>80704.92667</td>\n",
       "      <td>81055.90335</td>\n",
       "      <td>80781.09186</td>\n",
       "      <td>...</td>\n",
       "      <td>564291</td>\n",
       "      <td>562094</td>\n",
       "      <td>566129</td>\n",
       "      <td>561952</td>\n",
       "      <td>565958</td>\n",
       "      <td>570628</td>\n",
       "      <td>578428</td>\n",
       "      <td>577601</td>\n",
       "      <td>575040</td>\n",
       "      <td>20.486773</td>\n",
       "    </tr>\n",
       "  </tbody>\n",
       "</table>\n",
       "<p>32 rows × 349 columns</p>\n",
       "</div>"
      ],
      "text/plain": [
       "    index                     0             1             2             3  \\\n",
       "0       0        City of London   91448.98487   82202.77314   79120.70256   \n",
       "6       6                Camden  120932.88810  119508.86220  120282.21310   \n",
       "10     10             Greenwich   62300.10169   60993.26863   61377.83464   \n",
       "9       9               Enfield   72514.69096   73155.19746   72190.44144   \n",
       "1       1    Barking & Dagenham   50460.22660   51085.77983   51268.96956   \n",
       "8       8                Ealing   79885.89069   80897.06551   81379.86288   \n",
       "7       7               Croydon   69158.16225   68951.09542   68712.44341   \n",
       "5       5               Bromley   81671.47692   81657.55944   81449.31143   \n",
       "2       2                Barnet   93284.51832   93190.16963   92247.52435   \n",
       "20     20  Kingston upon Thames   80875.84843   81230.13524   81111.48848   \n",
       "4       4                 Brent   71306.56698   72022.26197   72015.76274   \n",
       "28     28                Sutton   71536.97357   70893.20851   70306.83844   \n",
       "26     26  Richmond upon Thames  109326.12450  111103.03940  107325.47420   \n",
       "27     27             Southwark   67885.20344   64799.06480   65763.29719   \n",
       "3       3                Bexley   64958.09036   64787.92069   64367.49344   \n",
       "21     21               Lambeth   67770.98843   65381.51908   66336.51868   \n",
       "25     25             Redbridge   72189.58437   72141.62610   72501.35502   \n",
       "30     30        Waltham Forest   61319.44913   60252.12246   60871.08493   \n",
       "11     11               Hackney   61296.52637   63187.08332   63593.29935   \n",
       "16     16            Hillingdon   73834.82964   75031.06960   74188.66949   \n",
       "19     19  Kensington & Chelsea  182694.83260  182345.24630  182878.82310   \n",
       "12     12  Hammersmith & Fulham  124902.86020  122087.71800  120635.94670   \n",
       "29     29         Tower Hamlets   59865.18995   62318.53353   63938.67686   \n",
       "18     18             Islington   92516.48557   94342.37334   93465.86407   \n",
       "14     14                Harrow   84769.52599   83396.10525   83416.23759   \n",
       "24     24                Newham   53539.31919   53153.88306   53458.26393   \n",
       "22     22              Lewisham   60491.26109   60869.27091   60288.03002   \n",
       "17     17              Hounslow   72231.70537   71051.55852   72097.99411   \n",
       "31     31            Wandsworth   88559.04381   88641.01678   87124.81523   \n",
       "15     15              Havering   68000.13774   69393.51294   69368.02407   \n",
       "13     13              Haringey   76287.56947   78901.21036   78521.94855   \n",
       "23     23                Merton   82070.61330   79982.74872   80661.68279   \n",
       "\n",
       "               4             5             6             7             8  ...  \\\n",
       "0    77101.20804   84409.14932   94900.51244  110128.04230  112329.43760  ...   \n",
       "6   120097.89900  119929.27820  121887.46250  124027.57680  125529.80390  ...   \n",
       "10   61927.72460   63512.99103   64751.56404   65486.34112   65076.43195  ...   \n",
       "9    71442.92235   70630.77955   71348.31147   71837.54011   72237.94562  ...   \n",
       "1    53133.50526   53042.24852   53700.34831   52113.12157   52232.19868  ...   \n",
       "8    82188.90498   82077.05525   81630.66181   82352.22260   82706.65927  ...   \n",
       "7    68610.04641   68844.91690   69052.51103   69142.48112   68993.42545  ...   \n",
       "5    81124.41227   81542.61561   82382.83435   82898.52264   82054.37156  ...   \n",
       "2    90762.87492   90258.00033   90107.23471   91441.24768   92361.31512  ...   \n",
       "20   81672.80476   82123.51084   82205.66822   82525.79300   83342.84552  ...   \n",
       "4    72965.63094   73704.04743   74310.48167   74127.03788   73547.04110  ...   \n",
       "28   69411.94390   69759.21989   70125.24728   70789.57284   69958.41918  ...   \n",
       "26  106875.00000  107707.67990  112865.05420  114656.60110  112320.40960  ...   \n",
       "27   63073.62117   64420.49933   64155.81449   67024.74767   65525.94434  ...   \n",
       "3    64277.66881   63997.13588   64252.32335   63722.70055   64432.60005  ...   \n",
       "21   66388.77160   69035.11076   68881.15764   69608.72242   68840.02827  ...   \n",
       "25   72228.60295   72366.64122   72279.43250   72880.83974   73275.16891  ...   \n",
       "30   60971.39722   61494.16938   61547.79643   61933.52738   61916.42220  ...   \n",
       "11   65139.64403   66193.99212   66921.17101   68390.75300   68096.79385  ...   \n",
       "16   73911.40591   73117.12416   74005.00585   74671.13263   74967.86534  ...   \n",
       "19  184176.91680  191474.11410  197265.76020  197963.31690  198037.42180  ...   \n",
       "12  121424.62410  124433.53900  126175.15130  124381.51340  123625.31960  ...   \n",
       "29   66233.19383   66432.85846   66232.16372   64692.22672   63472.27558  ...   \n",
       "18   93344.49305   94346.39917   97428.94311   98976.14077   98951.20791  ...   \n",
       "14   83567.88439   83853.65615   84173.24689   84226.69844   84430.61796  ...   \n",
       "24   54479.75395   55803.95958   56067.76986   55458.31693   54709.35467  ...   \n",
       "22   59471.03136   58551.38387   58041.43543   58126.37811   58151.31540  ...   \n",
       "17   71890.28339   72877.47219   72331.08116   73717.78844   74479.94802  ...   \n",
       "31   87026.00225   86518.05945   88114.33510   89830.58934   90560.68078  ...   \n",
       "15   69444.26215   68534.52248   68464.60664   68680.83996   69023.36482  ...   \n",
       "13   79545.57477   79374.03490   79956.36210   80746.34881   81217.69074  ...   \n",
       "23   79990.54333   80873.98643   80704.92667   81055.90335   80781.09186  ...   \n",
       "\n",
       "        338      339      340      341      342      343      344      345  \\\n",
       "0    868654   931058   905101   960392   982370   960158   888278   875234   \n",
       "6    870187   855337   870647   853825   872180   845434   857874   830524   \n",
       "10   440150   435674   421376   405551   407847   418014   433850   429011   \n",
       "9    442967   436353   434394   435287   434611   439328   444642   449901   \n",
       "1    346059   344693   347710   348002   343972   340763   343731   344255   \n",
       "8    528381   512245   507696   504662   508547   509818   514537   515339   \n",
       "7    427422   419254   409618   406078   402962   406623   413175   419400   \n",
       "5    503461   496542   497231   494138   496422   500377   504524   505185   \n",
       "2    603522   596521   585644   572257   570542   575808   586501   589399   \n",
       "20   550759   553117   546915   546766   542079   536956   540952   542536   \n",
       "4    535332   527101   525558   523687   526985   525460   552411   554568   \n",
       "28   438146   436658   431737   429292   426144   426115   428589   436364   \n",
       "26   752804   748335   743270   741843   749167   756884   762469   770755   \n",
       "27   541498   530689   520415   524961   531604   533775   537098   549095   \n",
       "3    401263   395612   392642   385603   383969   387475   387360   389590   \n",
       "21   550907   554295   556030   550708   539661   547313   556187   577865   \n",
       "25   475373   470565   464307   456050   448625   453987   479119   499828   \n",
       "30   510781   503049   504409   495892   496501   491916   500489   503718   \n",
       "11   611247   626805   619934   632959   632056   637950   616783   610147   \n",
       "16   457880   451199   446896   443000   442595   439132   444367   445872   \n",
       "19  1334969  1357422  1314633  1336351  1376918  1366630  1348284  1277200   \n",
       "12   761327   774528   758696   785411   783166   787371   764206   766462   \n",
       "29   479469   467820   458527   447574   439793   433366   441998   452975   \n",
       "18   683686   685486   697720   707740   705797   708885   715535   726890   \n",
       "14   521035   513656   501548   498937   498119   504769   510100   509854   \n",
       "24   411472   401155   400148   403625   410577   408342   409032   424540   \n",
       "22   462765   452754   455448   446065   449117   456116   464569   474127   \n",
       "17   461197   457805   454328   441642   447617   444605   461582   476725   \n",
       "31   630989   622809   613865   614997   616263   617229   621015   635464   \n",
       "15   431046   424097   422984   418566   418221   419311   419493   423870   \n",
       "13   597174   592090   584317   591114   605957   609905   612605   615661   \n",
       "23   564291   562094   566129   561952   565958   570628   578428   577601   \n",
       "\n",
       "        346  distFromLon (km)  \n",
       "0    948692          0.000000  \n",
       "6    820541          1.566402  \n",
       "10   426081          2.756412  \n",
       "9    450106          2.985616  \n",
       "1    334460          3.723168  \n",
       "8    499337          4.162848  \n",
       "7    401511          6.023360  \n",
       "5    512900          6.322540  \n",
       "2    597538          7.273068  \n",
       "20   557043          9.257906  \n",
       "4    542864          9.481306  \n",
       "28   439430          9.500136  \n",
       "26   806462          9.695637  \n",
       "27   538663         10.002977  \n",
       "3    393227         10.160583  \n",
       "21   572212         11.287462  \n",
       "25   491337         12.512434  \n",
       "30   508799         12.883466  \n",
       "11   639717         14.003046  \n",
       "16   447260         14.594407  \n",
       "19  1352475         14.654617  \n",
       "12   716048         15.045632  \n",
       "29   450194         15.410781  \n",
       "18   737539         16.036658  \n",
       "14   516260         17.898541  \n",
       "24   433164         17.920031  \n",
       "22   452240         18.156865  \n",
       "17   472922         18.520635  \n",
       "31   628248         18.735296  \n",
       "15   419021         19.061098  \n",
       "13   574374         19.686870  \n",
       "23   575040         20.486773  \n",
       "\n",
       "[32 rows x 349 columns]"
      ]
     },
     "execution_count": 27,
     "metadata": {},
     "output_type": "execute_result"
    }
   ],
   "source": [
    "rbDf"
   ]
  },
  {
   "cell_type": "code",
   "execution_count": 28,
   "id": "0b8d16d0",
   "metadata": {
    "scrolled": false
   },
   "outputs": [
    {
     "data": {
      "text/html": [
       "<div>\n",
       "<style scoped>\n",
       "    .dataframe tbody tr th:only-of-type {\n",
       "        vertical-align: middle;\n",
       "    }\n",
       "\n",
       "    .dataframe tbody tr th {\n",
       "        vertical-align: top;\n",
       "    }\n",
       "\n",
       "    .dataframe thead th {\n",
       "        text-align: right;\n",
       "    }\n",
       "</style>\n",
       "<table border=\"1\" class=\"dataframe\">\n",
       "  <thead>\n",
       "    <tr style=\"text-align: right;\">\n",
       "      <th></th>\n",
       "      <th>0</th>\n",
       "      <th>1</th>\n",
       "      <th>2</th>\n",
       "      <th>3</th>\n",
       "      <th>4</th>\n",
       "      <th>5</th>\n",
       "      <th>6</th>\n",
       "      <th>7</th>\n",
       "      <th>8</th>\n",
       "      <th>9</th>\n",
       "      <th>...</th>\n",
       "      <th>335</th>\n",
       "      <th>336</th>\n",
       "      <th>337</th>\n",
       "      <th>338</th>\n",
       "      <th>339</th>\n",
       "      <th>340</th>\n",
       "      <th>341</th>\n",
       "      <th>342</th>\n",
       "      <th>343</th>\n",
       "      <th>344</th>\n",
       "    </tr>\n",
       "    <tr>\n",
       "      <th>0</th>\n",
       "      <th></th>\n",
       "      <th></th>\n",
       "      <th></th>\n",
       "      <th></th>\n",
       "      <th></th>\n",
       "      <th></th>\n",
       "      <th></th>\n",
       "      <th></th>\n",
       "      <th></th>\n",
       "      <th></th>\n",
       "      <th></th>\n",
       "      <th></th>\n",
       "      <th></th>\n",
       "      <th></th>\n",
       "      <th></th>\n",
       "      <th></th>\n",
       "      <th></th>\n",
       "      <th></th>\n",
       "      <th></th>\n",
       "      <th></th>\n",
       "      <th></th>\n",
       "    </tr>\n",
       "  </thead>\n",
       "  <tbody>\n",
       "    <tr>\n",
       "      <th>City of London</th>\n",
       "      <td>-11.248053</td>\n",
       "      <td>-3.895403</td>\n",
       "      <td>-2.619277</td>\n",
       "      <td>8.65776</td>\n",
       "      <td>11.055117</td>\n",
       "      <td>13.827114</td>\n",
       "      <td>1.959767</td>\n",
       "      <td>-7.519952</td>\n",
       "      <td>3.299769</td>\n",
       "      <td>8.158665</td>\n",
       "      <td>...</td>\n",
       "      <td>-1.293688</td>\n",
       "      <td>-10.823642</td>\n",
       "      <td>6.702483</td>\n",
       "      <td>-2.867857</td>\n",
       "      <td>5.757128</td>\n",
       "      <td>2.237243</td>\n",
       "      <td>-2.313369</td>\n",
       "      <td>-8.092061</td>\n",
       "      <td>-1.490344</td>\n",
       "      <td>7.743082</td>\n",
       "    </tr>\n",
       "    <tr>\n",
       "      <th>Barking &amp; Dagenham</th>\n",
       "      <td>1.224515</td>\n",
       "      <td>0.357311</td>\n",
       "      <td>3.509152</td>\n",
       "      <td>-0.172045</td>\n",
       "      <td>1.225504</td>\n",
       "      <td>-3.045733</td>\n",
       "      <td>0.227976</td>\n",
       "      <td>-1.477679</td>\n",
       "      <td>0.081811</td>\n",
       "      <td>-1.307959</td>\n",
       "      <td>...</td>\n",
       "      <td>-0.817414</td>\n",
       "      <td>-1.741611</td>\n",
       "      <td>-0.396295</td>\n",
       "      <td>0.867677</td>\n",
       "      <td>0.083908</td>\n",
       "      <td>-1.171607</td>\n",
       "      <td>-0.94171</td>\n",
       "      <td>0.863466</td>\n",
       "      <td>0.152213</td>\n",
       "      <td>-2.928601</td>\n",
       "    </tr>\n",
       "    <tr>\n",
       "      <th>Barnet</th>\n",
       "      <td>-0.101243</td>\n",
       "      <td>-1.021865</td>\n",
       "      <td>-1.635745</td>\n",
       "      <td>-0.559368</td>\n",
       "      <td>-0.167318</td>\n",
       "      <td>1.458874</td>\n",
       "      <td>0.996161</td>\n",
       "      <td>0.977567</td>\n",
       "      <td>-0.762404</td>\n",
       "      <td>-1.853175</td>\n",
       "      <td>...</td>\n",
       "      <td>0.580331</td>\n",
       "      <td>0.954398</td>\n",
       "      <td>-1.173638</td>\n",
       "      <td>-1.857272</td>\n",
       "      <td>-2.339334</td>\n",
       "      <td>-0.300591</td>\n",
       "      <td>0.914541</td>\n",
       "      <td>1.823185</td>\n",
       "      <td>0.491687</td>\n",
       "      <td>1.362089</td>\n",
       "    </tr>\n",
       "    <tr>\n",
       "      <th>Bexley</th>\n",
       "      <td>-0.262656</td>\n",
       "      <td>-0.653167</td>\n",
       "      <td>-0.139745</td>\n",
       "      <td>-0.438352</td>\n",
       "      <td>0.397165</td>\n",
       "      <td>-0.831137</td>\n",
       "      <td>1.101771</td>\n",
       "      <td>0.119281</td>\n",
       "      <td>0.031597</td>\n",
       "      <td>-1.071176</td>\n",
       "      <td>...</td>\n",
       "      <td>-1.554264</td>\n",
       "      <td>-0.325722</td>\n",
       "      <td>-1.42842</td>\n",
       "      <td>-0.756414</td>\n",
       "      <td>-1.825453</td>\n",
       "      <td>-0.425555</td>\n",
       "      <td>0.904833</td>\n",
       "      <td>-0.029688</td>\n",
       "      <td>0.572397</td>\n",
       "      <td>0.924911</td>\n",
       "    </tr>\n",
       "    <tr>\n",
       "      <th>Brent</th>\n",
       "      <td>0.993714</td>\n",
       "      <td>-0.009025</td>\n",
       "      <td>1.301802</td>\n",
       "      <td>1.001867</td>\n",
       "      <td>0.816082</td>\n",
       "      <td>-0.247472</td>\n",
       "      <td>-0.788607</td>\n",
       "      <td>0.32864</td>\n",
       "      <td>-0.717254</td>\n",
       "      <td>-0.662318</td>\n",
       "      <td>...</td>\n",
       "      <td>-0.393901</td>\n",
       "      <td>-3.050443</td>\n",
       "      <td>-1.56156</td>\n",
       "      <td>-0.293593</td>\n",
       "      <td>-0.357274</td>\n",
       "      <td>0.625824</td>\n",
       "      <td>-0.290222</td>\n",
       "      <td>4.878795</td>\n",
       "      <td>0.388951</td>\n",
       "      <td>-2.155973</td>\n",
       "    </tr>\n",
       "    <tr>\n",
       "      <th>Bromley</th>\n",
       "      <td>-0.017044</td>\n",
       "      <td>-0.255678</td>\n",
       "      <td>-0.400495</td>\n",
       "      <td>0.512865</td>\n",
       "      <td>1.019895</td>\n",
       "      <td>0.622072</td>\n",
       "      <td>-1.02877</td>\n",
       "      <td>-0.753853</td>\n",
       "      <td>0.515172</td>\n",
       "      <td>0.842579</td>\n",
       "      <td>...</td>\n",
       "      <td>-0.669492</td>\n",
       "      <td>-0.989948</td>\n",
       "      <td>-1.393437</td>\n",
       "      <td>0.138567</td>\n",
       "      <td>-0.625939</td>\n",
       "      <td>0.460092</td>\n",
       "      <td>0.790404</td>\n",
       "      <td>0.821963</td>\n",
       "      <td>0.130843</td>\n",
       "      <td>1.504192</td>\n",
       "    </tr>\n",
       "    <tr>\n",
       "      <th>Camden</th>\n",
       "      <td>-1.191565</td>\n",
       "      <td>0.642947</td>\n",
       "      <td>-0.15347</td>\n",
       "      <td>-0.1406</td>\n",
       "      <td>1.606551</td>\n",
       "      <td>1.725515</td>\n",
       "      <td>1.19671</td>\n",
       "      <td>-4.090449</td>\n",
       "      <td>-2.671888</td>\n",
       "      <td>-1.767175</td>\n",
       "      <td>...</td>\n",
       "      <td>0.159312</td>\n",
       "      <td>1.249042</td>\n",
       "      <td>-1.736158</td>\n",
       "      <td>1.758462</td>\n",
       "      <td>-1.970193</td>\n",
       "      <td>2.104497</td>\n",
       "      <td>-3.163582</td>\n",
       "      <td>1.450096</td>\n",
       "      <td>-3.293102</td>\n",
       "      <td>-1.216636</td>\n",
       "    </tr>\n",
       "    <tr>\n",
       "      <th>Croydon</th>\n",
       "      <td>-0.30031</td>\n",
       "      <td>-0.34732</td>\n",
       "      <td>-0.149245</td>\n",
       "      <td>0.341159</td>\n",
       "      <td>0.300632</td>\n",
       "      <td>0.130123</td>\n",
       "      <td>-0.216043</td>\n",
       "      <td>0.576531</td>\n",
       "      <td>-0.665686</td>\n",
       "      <td>-0.079655</td>\n",
       "      <td>...</td>\n",
       "      <td>0.496176</td>\n",
       "      <td>-0.76552</td>\n",
       "      <td>-1.948222</td>\n",
       "      <td>-2.352436</td>\n",
       "      <td>-0.871754</td>\n",
       "      <td>-0.773274</td>\n",
       "      <td>0.900343</td>\n",
       "      <td>1.585769</td>\n",
       "      <td>1.484263</td>\n",
       "      <td>-4.45542</td>\n",
       "    </tr>\n",
       "    <tr>\n",
       "      <th>Ealing</th>\n",
       "      <td>1.249952</td>\n",
       "      <td>0.593264</td>\n",
       "      <td>0.984369</td>\n",
       "      <td>-0.136274</td>\n",
       "      <td>-0.546845</td>\n",
       "      <td>0.876189</td>\n",
       "      <td>0.428547</td>\n",
       "      <td>-0.848149</td>\n",
       "      <td>-1.848451</td>\n",
       "      <td>-1.577239</td>\n",
       "      <td>...</td>\n",
       "      <td>-0.14763</td>\n",
       "      <td>-0.250388</td>\n",
       "      <td>-3.150055</td>\n",
       "      <td>-0.896009</td>\n",
       "      <td>-0.601194</td>\n",
       "      <td>0.763941</td>\n",
       "      <td>0.249305</td>\n",
       "      <td>0.917135</td>\n",
       "      <td>0.155626</td>\n",
       "      <td>-3.204649</td>\n",
       "    </tr>\n",
       "    <tr>\n",
       "      <th>Enfield</th>\n",
       "      <td>0.875545</td>\n",
       "      <td>-1.336404</td>\n",
       "      <td>-1.046317</td>\n",
       "      <td>-1.149843</td>\n",
       "      <td>1.005675</td>\n",
       "      <td>0.681021</td>\n",
       "      <td>0.554287</td>\n",
       "      <td>-0.714846</td>\n",
       "      <td>0.862369</td>\n",
       "      <td>-0.501847</td>\n",
       "      <td>...</td>\n",
       "      <td>-1.999684</td>\n",
       "      <td>-1.468281</td>\n",
       "      <td>-1.515745</td>\n",
       "      <td>-0.450973</td>\n",
       "      <td>0.205152</td>\n",
       "      <td>-0.155541</td>\n",
       "      <td>1.073685</td>\n",
       "      <td>1.195119</td>\n",
       "      <td>1.168924</td>\n",
       "      <td>0.045545</td>\n",
       "    </tr>\n",
       "    <tr>\n",
       "      <th>Greenwich</th>\n",
       "      <td>-2.142586</td>\n",
       "      <td>0.626555</td>\n",
       "      <td>0.887954</td>\n",
       "      <td>2.495972</td>\n",
       "      <td>1.912808</td>\n",
       "      <td>1.122031</td>\n",
       "      <td>-0.629889</td>\n",
       "      <td>-1.686985</td>\n",
       "      <td>-0.932966</td>\n",
       "      <td>0.531444</td>\n",
       "      <td>...</td>\n",
       "      <td>0.566585</td>\n",
       "      <td>0.554356</td>\n",
       "      <td>-1.027374</td>\n",
       "      <td>-3.393169</td>\n",
       "      <td>-3.902099</td>\n",
       "      <td>0.562956</td>\n",
       "      <td>2.432215</td>\n",
       "      <td>3.650109</td>\n",
       "      <td>-1.127943</td>\n",
       "      <td>-0.687663</td>\n",
       "    </tr>\n",
       "    <tr>\n",
       "      <th>Hackney</th>\n",
       "      <td>2.991999</td>\n",
       "      <td>0.638772</td>\n",
       "      <td>2.373892</td>\n",
       "      <td>1.592815</td>\n",
       "      <td>1.08662</td>\n",
       "      <td>2.148802</td>\n",
       "      <td>-0.431678</td>\n",
       "      <td>0.953724</td>\n",
       "      <td>-1.67533</td>\n",
       "      <td>-0.568167</td>\n",
       "      <td>...</td>\n",
       "      <td>-0.246251</td>\n",
       "      <td>-1.448187</td>\n",
       "      <td>2.482112</td>\n",
       "      <td>-1.108344</td>\n",
       "      <td>2.057795</td>\n",
       "      <td>-0.142867</td>\n",
       "      <td>0.923897</td>\n",
       "      <td>-3.431839</td>\n",
       "      <td>-1.087607</td>\n",
       "      <td>4.622356</td>\n",
       "    </tr>\n",
       "    <tr>\n",
       "      <th>Hammersmith &amp; Fulham</th>\n",
       "      <td>-2.305836</td>\n",
       "      <td>-1.203432</td>\n",
       "      <td>0.64952</td>\n",
       "      <td>2.41809</td>\n",
       "      <td>1.380313</td>\n",
       "      <td>-1.442045</td>\n",
       "      <td>-0.611682</td>\n",
       "      <td>-0.431598</td>\n",
       "      <td>0.282327</td>\n",
       "      <td>-1.240479</td>\n",
       "      <td>...</td>\n",
       "      <td>3.302496</td>\n",
       "      <td>-0.891732</td>\n",
       "      <td>1.704393</td>\n",
       "      <td>-2.086738</td>\n",
       "      <td>3.401404</td>\n",
       "      <td>-0.286657</td>\n",
       "      <td>0.534056</td>\n",
       "      <td>-3.031251</td>\n",
       "      <td>0.294339</td>\n",
       "      <td>-7.040589</td>\n",
       "    </tr>\n",
       "    <tr>\n",
       "      <th>Haringey</th>\n",
       "      <td>3.312549</td>\n",
       "      <td>-0.483001</td>\n",
       "      <td>1.286842</td>\n",
       "      <td>-0.216116</td>\n",
       "      <td>0.728306</td>\n",
       "      <td>0.978356</td>\n",
       "      <td>0.580344</td>\n",
       "      <td>1.12633</td>\n",
       "      <td>-0.429639</td>\n",
       "      <td>-0.815884</td>\n",
       "      <td>...</td>\n",
       "      <td>0.764169</td>\n",
       "      <td>-1.941143</td>\n",
       "      <td>-0.858653</td>\n",
       "      <td>-1.330271</td>\n",
       "      <td>1.149863</td>\n",
       "      <td>2.449514</td>\n",
       "      <td>0.647314</td>\n",
       "      <td>0.440741</td>\n",
       "      <td>0.496377</td>\n",
       "      <td>-7.188174</td>\n",
       "    </tr>\n",
       "    <tr>\n",
       "      <th>Harrow</th>\n",
       "      <td>-1.646864</td>\n",
       "      <td>0.024135</td>\n",
       "      <td>0.181465</td>\n",
       "      <td>0.340798</td>\n",
       "      <td>0.379682</td>\n",
       "      <td>0.063462</td>\n",
       "      <td>0.241523</td>\n",
       "      <td>-0.985132</td>\n",
       "      <td>-1.350725</td>\n",
       "      <td>-0.300312</td>\n",
       "      <td>...</td>\n",
       "      <td>-0.102502</td>\n",
       "      <td>-1.297801</td>\n",
       "      <td>-1.436565</td>\n",
       "      <td>-2.414126</td>\n",
       "      <td>-0.523313</td>\n",
       "      <td>-0.164218</td>\n",
       "      <td>1.317434</td>\n",
       "      <td>1.045089</td>\n",
       "      <td>-0.048249</td>\n",
       "      <td>1.240848</td>\n",
       "    </tr>\n",
       "    <tr>\n",
       "      <th>Havering</th>\n",
       "      <td>2.007933</td>\n",
       "      <td>-0.036744</td>\n",
       "      <td>0.109783</td>\n",
       "      <td>-1.327418</td>\n",
       "      <td>-0.10212</td>\n",
       "      <td>0.314838</td>\n",
       "      <td>0.496245</td>\n",
       "      <td>-1.343713</td>\n",
       "      <td>-1.012296</td>\n",
       "      <td>-1.879436</td>\n",
       "      <td>...</td>\n",
       "      <td>-0.59484</td>\n",
       "      <td>-0.505746</td>\n",
       "      <td>-1.63854</td>\n",
       "      <td>-0.263131</td>\n",
       "      <td>-1.055509</td>\n",
       "      <td>-0.082492</td>\n",
       "      <td>0.25995</td>\n",
       "      <td>0.043386</td>\n",
       "      <td>1.032628</td>\n",
       "      <td>-1.157221</td>\n",
       "    </tr>\n",
       "    <tr>\n",
       "      <th>Hillingdon</th>\n",
       "      <td>1.594326</td>\n",
       "      <td>-1.135484</td>\n",
       "      <td>-0.37513</td>\n",
       "      <td>-1.086314</td>\n",
       "      <td>1.199759</td>\n",
       "      <td>0.892081</td>\n",
       "      <td>0.395813</td>\n",
       "      <td>-1.522561</td>\n",
       "      <td>-1.165943</td>\n",
       "      <td>-1.717402</td>\n",
       "      <td>...</td>\n",
       "      <td>-0.814857</td>\n",
       "      <td>-1.016642</td>\n",
       "      <td>-1.480721</td>\n",
       "      <td>-0.962864</td>\n",
       "      <td>-0.879458</td>\n",
       "      <td>-0.091506</td>\n",
       "      <td>-0.788601</td>\n",
       "      <td>1.17808</td>\n",
       "      <td>0.337541</td>\n",
       "      <td>0.310334</td>\n",
       "    </tr>\n",
       "    <tr>\n",
       "      <th>Hounslow</th>\n",
       "      <td>-1.660973</td>\n",
       "      <td>1.451407</td>\n",
       "      <td>-0.288927</td>\n",
       "      <td>1.354587</td>\n",
       "      <td>-0.755403</td>\n",
       "      <td>1.881103</td>\n",
       "      <td>1.023308</td>\n",
       "      <td>-0.071597</td>\n",
       "      <td>-1.063942</td>\n",
       "      <td>-0.815594</td>\n",
       "      <td>...</td>\n",
       "      <td>1.793773</td>\n",
       "      <td>0.831966</td>\n",
       "      <td>-0.740927</td>\n",
       "      <td>-0.765306</td>\n",
       "      <td>-2.872462</td>\n",
       "      <td>1.334847</td>\n",
       "      <td>-0.677455</td>\n",
       "      <td>3.678003</td>\n",
       "      <td>3.176464</td>\n",
       "      <td>-0.80415</td>\n",
       "    </tr>\n",
       "    <tr>\n",
       "      <th>Islington</th>\n",
       "      <td>1.935385</td>\n",
       "      <td>-0.937785</td>\n",
       "      <td>-0.130025</td>\n",
       "      <td>1.061944</td>\n",
       "      <td>3.163889</td>\n",
       "      <td>1.563203</td>\n",
       "      <td>-0.025197</td>\n",
       "      <td>0.634076</td>\n",
       "      <td>-2.051899</td>\n",
       "      <td>-2.683267</td>\n",
       "      <td>...</td>\n",
       "      <td>-0.721109</td>\n",
       "      <td>-1.823059</td>\n",
       "      <td>0.262587</td>\n",
       "      <td>1.753425</td>\n",
       "      <td>1.415774</td>\n",
       "      <td>-0.275292</td>\n",
       "      <td>0.435614</td>\n",
       "      <td>0.929375</td>\n",
       "      <td>1.562135</td>\n",
       "      <td>1.443856</td>\n",
       "    </tr>\n",
       "    <tr>\n",
       "      <th>Kensington &amp; Chelsea</th>\n",
       "      <td>-0.191717</td>\n",
       "      <td>0.291765</td>\n",
       "      <td>0.704808</td>\n",
       "      <td>3.811062</td>\n",
       "      <td>2.935961</td>\n",
       "      <td>0.352367</td>\n",
       "      <td>0.03742</td>\n",
       "      <td>-0.502207</td>\n",
       "      <td>1.478956</td>\n",
       "      <td>-0.165703</td>\n",
       "      <td>...</td>\n",
       "      <td>3.779117</td>\n",
       "      <td>-1.353739</td>\n",
       "      <td>1.654091</td>\n",
       "      <td>-3.254825</td>\n",
       "      <td>1.625172</td>\n",
       "      <td>2.946218</td>\n",
       "      <td>-0.752801</td>\n",
       "      <td>-1.360693</td>\n",
       "      <td>-5.565612</td>\n",
       "      <td>5.565722</td>\n",
       "    </tr>\n",
       "    <tr>\n",
       "      <th>Kingston upon Thames</th>\n",
       "      <td>0.436152</td>\n",
       "      <td>-0.146276</td>\n",
       "      <td>0.687274</td>\n",
       "      <td>0.548815</td>\n",
       "      <td>0.099941</td>\n",
       "      <td>0.387909</td>\n",
       "      <td>0.980351</td>\n",
       "      <td>2.077432</td>\n",
       "      <td>0.718568</td>\n",
       "      <td>-1.383149</td>\n",
       "      <td>...</td>\n",
       "      <td>-0.252149</td>\n",
       "      <td>-0.307212</td>\n",
       "      <td>0.426311</td>\n",
       "      <td>-1.133997</td>\n",
       "      <td>-0.027251</td>\n",
       "      <td>-0.864634</td>\n",
       "      <td>-0.954082</td>\n",
       "      <td>0.738698</td>\n",
       "      <td>0.291962</td>\n",
       "      <td>2.604287</td>\n",
       "    </tr>\n",
       "    <tr>\n",
       "      <th>Lambeth</th>\n",
       "      <td>-3.654656</td>\n",
       "      <td>1.439629</td>\n",
       "      <td>0.078707</td>\n",
       "      <td>3.833324</td>\n",
       "      <td>-0.223505</td>\n",
       "      <td>1.045221</td>\n",
       "      <td>-1.116638</td>\n",
       "      <td>1.875528</td>\n",
       "      <td>-0.775155</td>\n",
       "      <td>-2.295141</td>\n",
       "      <td>...</td>\n",
       "      <td>0.010913</td>\n",
       "      <td>0.200215</td>\n",
       "      <td>0.611227</td>\n",
       "      <td>0.312034</td>\n",
       "      <td>-0.966392</td>\n",
       "      <td>-2.047026</td>\n",
       "      <td>1.398103</td>\n",
       "      <td>1.595507</td>\n",
       "      <td>3.751395</td>\n",
       "      <td>-0.987921</td>\n",
       "    </tr>\n",
       "    <tr>\n",
       "      <th>Lewisham</th>\n",
       "      <td>0.621019</td>\n",
       "      <td>-0.964107</td>\n",
       "      <td>-1.373776</td>\n",
       "      <td>-1.570667</td>\n",
       "      <td>-0.878594</td>\n",
       "      <td>0.146134</td>\n",
       "      <td>0.042883</td>\n",
       "      <td>1.007226</td>\n",
       "      <td>-1.15346</td>\n",
       "      <td>0.002548</td>\n",
       "      <td>...</td>\n",
       "      <td>-0.845242</td>\n",
       "      <td>-0.498957</td>\n",
       "      <td>-2.211135</td>\n",
       "      <td>0.591506</td>\n",
       "      <td>-2.103505</td>\n",
       "      <td>0.679556</td>\n",
       "      <td>1.534478</td>\n",
       "      <td>1.819536</td>\n",
       "      <td>2.015916</td>\n",
       "      <td>-4.839687</td>\n",
       "    </tr>\n",
       "    <tr>\n",
       "      <th>Merton</th>\n",
       "      <td>-2.610394</td>\n",
       "      <td>0.841706</td>\n",
       "      <td>-0.839024</td>\n",
       "      <td>1.09237</td>\n",
       "      <td>-0.209479</td>\n",
       "      <td>0.433006</td>\n",
       "      <td>-0.340193</td>\n",
       "      <td>0.053955</td>\n",
       "      <td>-1.577836</td>\n",
       "      <td>0.42991</td>\n",
       "      <td>...</td>\n",
       "      <td>-1.194095</td>\n",
       "      <td>-0.26458</td>\n",
       "      <td>-0.39086</td>\n",
       "      <td>0.712735</td>\n",
       "      <td>-0.743302</td>\n",
       "      <td>0.707826</td>\n",
       "      <td>0.818397</td>\n",
       "      <td>1.348482</td>\n",
       "      <td>-0.143178</td>\n",
       "      <td>-0.44536</td>\n",
       "    </tr>\n",
       "    <tr>\n",
       "      <th>Newham</th>\n",
       "      <td>-0.725133</td>\n",
       "      <td>0.56938</td>\n",
       "      <td>1.87499</td>\n",
       "      <td>2.37296</td>\n",
       "      <td>0.47052</td>\n",
       "      <td>-1.098939</td>\n",
       "      <td>-1.368984</td>\n",
       "      <td>-0.226894</td>\n",
       "      <td>0.372428</td>\n",
       "      <td>-0.857065</td>\n",
       "      <td>...</td>\n",
       "      <td>0.093292</td>\n",
       "      <td>-2.117763</td>\n",
       "      <td>-2.571824</td>\n",
       "      <td>-0.251657</td>\n",
       "      <td>0.861443</td>\n",
       "      <td>1.693227</td>\n",
       "      <td>-0.547335</td>\n",
       "      <td>0.168691</td>\n",
       "      <td>3.652895</td>\n",
       "      <td>1.990932</td>\n",
       "    </tr>\n",
       "    <tr>\n",
       "      <th>Redbridge</th>\n",
       "      <td>-0.066478</td>\n",
       "      <td>0.496169</td>\n",
       "      <td>-0.377623</td>\n",
       "      <td>0.190748</td>\n",
       "      <td>-0.120655</td>\n",
       "      <td>0.825193</td>\n",
       "      <td>0.538148</td>\n",
       "      <td>-0.097188</td>\n",
       "      <td>-0.392982</td>\n",
       "      <td>-0.723567</td>\n",
       "      <td>...</td>\n",
       "      <td>-0.445259</td>\n",
       "      <td>-1.670478</td>\n",
       "      <td>-1.02175</td>\n",
       "      <td>-1.347815</td>\n",
       "      <td>-1.810547</td>\n",
       "      <td>-1.655057</td>\n",
       "      <td>1.181091</td>\n",
       "      <td>5.245461</td>\n",
       "      <td>4.143225</td>\n",
       "      <td>-1.728142</td>\n",
       "    </tr>\n",
       "    <tr>\n",
       "      <th>Richmond upon Thames</th>\n",
       "      <td>1.59934</td>\n",
       "      <td>-3.519728</td>\n",
       "      <td>-0.421496</td>\n",
       "      <td>0.773092</td>\n",
       "      <td>4.569505</td>\n",
       "      <td>1.562533</td>\n",
       "      <td>-2.079935</td>\n",
       "      <td>-1.716864</td>\n",
       "      <td>-1.861388</td>\n",
       "      <td>0.662674</td>\n",
       "      <td>...</td>\n",
       "      <td>0.90372</td>\n",
       "      <td>1.45868</td>\n",
       "      <td>-0.597192</td>\n",
       "      <td>-0.681448</td>\n",
       "      <td>-0.192359</td>\n",
       "      <td>0.977619</td>\n",
       "      <td>1.019575</td>\n",
       "      <td>0.732489</td>\n",
       "      <td>1.07505</td>\n",
       "      <td>4.427611</td>\n",
       "    </tr>\n",
       "    <tr>\n",
       "      <th>Southwark</th>\n",
       "      <td>-4.762628</td>\n",
       "      <td>1.466217</td>\n",
       "      <td>-4.264344</td>\n",
       "      <td>2.09076</td>\n",
       "      <td>-0.412566</td>\n",
       "      <td>4.280409</td>\n",
       "      <td>-2.287343</td>\n",
       "      <td>-3.244103</td>\n",
       "      <td>-4.239111</td>\n",
       "      <td>1.359831</td>\n",
       "      <td>...</td>\n",
       "      <td>0.255542</td>\n",
       "      <td>-2.474617</td>\n",
       "      <td>-2.036786</td>\n",
       "      <td>-1.974194</td>\n",
       "      <td>0.865969</td>\n",
       "      <td>1.249614</td>\n",
       "      <td>0.406726</td>\n",
       "      <td>0.618695</td>\n",
       "      <td>2.184868</td>\n",
       "      <td>-1.936647</td>\n",
       "    </tr>\n",
       "    <tr>\n",
       "      <th>Sutton</th>\n",
       "      <td>-0.908077</td>\n",
       "      <td>-0.834016</td>\n",
       "      <td>-1.289252</td>\n",
       "      <td>0.497821</td>\n",
       "      <td>0.521962</td>\n",
       "      <td>0.938451</td>\n",
       "      <td>-1.188068</td>\n",
       "      <td>-0.030051</td>\n",
       "      <td>0.037682</td>\n",
       "      <td>0.912937</td>\n",
       "      <td>...</td>\n",
       "      <td>0.969192</td>\n",
       "      <td>-0.907232</td>\n",
       "      <td>-0.34077</td>\n",
       "      <td>-1.139814</td>\n",
       "      <td>-0.569542</td>\n",
       "      <td>-0.738717</td>\n",
       "      <td>-0.006806</td>\n",
       "      <td>0.577243</td>\n",
       "      <td>1.781769</td>\n",
       "      <td>0.697722</td>\n",
       "    </tr>\n",
       "    <tr>\n",
       "      <th>Tower Hamlets</th>\n",
       "      <td>3.93678</td>\n",
       "      <td>2.533902</td>\n",
       "      <td>3.464301</td>\n",
       "      <td>0.300551</td>\n",
       "      <td>-0.303017</td>\n",
       "      <td>-2.380405</td>\n",
       "      <td>-1.922022</td>\n",
       "      <td>-2.082231</td>\n",
       "      <td>-0.179071</td>\n",
       "      <td>0.557284</td>\n",
       "      <td>...</td>\n",
       "      <td>-0.755613</td>\n",
       "      <td>-0.636746</td>\n",
       "      <td>-2.49006</td>\n",
       "      <td>-2.026707</td>\n",
       "      <td>-2.447193</td>\n",
       "      <td>-1.769241</td>\n",
       "      <td>-1.483042</td>\n",
       "      <td>1.95295</td>\n",
       "      <td>2.423313</td>\n",
       "      <td>-0.617734</td>\n",
       "    </tr>\n",
       "    <tr>\n",
       "      <th>Waltham Forest</th>\n",
       "      <td>-1.771434</td>\n",
       "      <td>1.016842</td>\n",
       "      <td>0.164524</td>\n",
       "      <td>0.850117</td>\n",
       "      <td>0.087131</td>\n",
       "      <td>0.622814</td>\n",
       "      <td>-0.027626</td>\n",
       "      <td>-0.598345</td>\n",
       "      <td>-1.6106</td>\n",
       "      <td>1.576958</td>\n",
       "      <td>...</td>\n",
       "      <td>-1.013153</td>\n",
       "      <td>0.077137</td>\n",
       "      <td>-1.537027</td>\n",
       "      <td>0.269622</td>\n",
       "      <td>-1.717511</td>\n",
       "      <td>0.122658</td>\n",
       "      <td>-0.93207</td>\n",
       "      <td>1.712925</td>\n",
       "      <td>0.641033</td>\n",
       "      <td>0.998626</td>\n",
       "    </tr>\n",
       "    <tr>\n",
       "      <th>Wandsworth</th>\n",
       "      <td>0.092477</td>\n",
       "      <td>-1.740264</td>\n",
       "      <td>-0.113544</td>\n",
       "      <td>-0.587095</td>\n",
       "      <td>1.811596</td>\n",
       "      <td>1.910545</td>\n",
       "      <td>0.80619</td>\n",
       "      <td>0.889772</td>\n",
       "      <td>-1.249123</td>\n",
       "      <td>-0.861004</td>\n",
       "      <td>...</td>\n",
       "      <td>0.150171</td>\n",
       "      <td>-0.257374</td>\n",
       "      <td>-1.313404</td>\n",
       "      <td>-1.456998</td>\n",
       "      <td>0.184066</td>\n",
       "      <td>0.205432</td>\n",
       "      <td>0.156506</td>\n",
       "      <td>0.609647</td>\n",
       "      <td>2.273772</td>\n",
       "      <td>-1.148591</td>\n",
       "    </tr>\n",
       "  </tbody>\n",
       "</table>\n",
       "<p>32 rows × 345 columns</p>\n",
       "</div>"
      ],
      "text/plain": [
       "                            0         1         2         3          4    \\\n",
       "0                                                                          \n",
       "City of London       -11.248053 -3.895403 -2.619277   8.65776  11.055117   \n",
       "Barking & Dagenham     1.224515  0.357311  3.509152 -0.172045   1.225504   \n",
       "Barnet                -0.101243 -1.021865 -1.635745 -0.559368  -0.167318   \n",
       "Bexley                -0.262656 -0.653167 -0.139745 -0.438352   0.397165   \n",
       "Brent                  0.993714 -0.009025  1.301802  1.001867   0.816082   \n",
       "Bromley               -0.017044 -0.255678 -0.400495  0.512865   1.019895   \n",
       "Camden                -1.191565  0.642947  -0.15347   -0.1406   1.606551   \n",
       "Croydon                -0.30031  -0.34732 -0.149245  0.341159   0.300632   \n",
       "Ealing                 1.249952  0.593264  0.984369 -0.136274  -0.546845   \n",
       "Enfield                0.875545 -1.336404 -1.046317 -1.149843   1.005675   \n",
       "Greenwich             -2.142586  0.626555  0.887954  2.495972   1.912808   \n",
       "Hackney                2.991999  0.638772  2.373892  1.592815    1.08662   \n",
       "Hammersmith & Fulham  -2.305836 -1.203432   0.64952   2.41809   1.380313   \n",
       "Haringey               3.312549 -0.483001  1.286842 -0.216116   0.728306   \n",
       "Harrow                -1.646864  0.024135  0.181465  0.340798   0.379682   \n",
       "Havering               2.007933 -0.036744  0.109783 -1.327418   -0.10212   \n",
       "Hillingdon             1.594326 -1.135484  -0.37513 -1.086314   1.199759   \n",
       "Hounslow              -1.660973  1.451407 -0.288927  1.354587  -0.755403   \n",
       "Islington              1.935385 -0.937785 -0.130025  1.061944   3.163889   \n",
       "Kensington & Chelsea  -0.191717  0.291765  0.704808  3.811062   2.935961   \n",
       "Kingston upon Thames   0.436152 -0.146276  0.687274  0.548815   0.099941   \n",
       "Lambeth               -3.654656  1.439629  0.078707  3.833324  -0.223505   \n",
       "Lewisham               0.621019 -0.964107 -1.373776 -1.570667  -0.878594   \n",
       "Merton                -2.610394  0.841706 -0.839024   1.09237  -0.209479   \n",
       "Newham                -0.725133   0.56938   1.87499   2.37296    0.47052   \n",
       "Redbridge             -0.066478  0.496169 -0.377623  0.190748  -0.120655   \n",
       "Richmond upon Thames    1.59934 -3.519728 -0.421496  0.773092   4.569505   \n",
       "Southwark             -4.762628  1.466217 -4.264344   2.09076  -0.412566   \n",
       "Sutton                -0.908077 -0.834016 -1.289252  0.497821   0.521962   \n",
       "Tower Hamlets           3.93678  2.533902  3.464301  0.300551  -0.303017   \n",
       "Waltham Forest        -1.771434  1.016842  0.164524  0.850117   0.087131   \n",
       "Wandsworth             0.092477 -1.740264 -0.113544 -0.587095   1.811596   \n",
       "\n",
       "                            5         6         7         8         9    ...  \\\n",
       "0                                                                        ...   \n",
       "City of London        13.827114  1.959767 -7.519952  3.299769  8.158665  ...   \n",
       "Barking & Dagenham    -3.045733  0.227976 -1.477679  0.081811 -1.307959  ...   \n",
       "Barnet                 1.458874  0.996161  0.977567 -0.762404 -1.853175  ...   \n",
       "Bexley                -0.831137  1.101771  0.119281  0.031597 -1.071176  ...   \n",
       "Brent                 -0.247472 -0.788607   0.32864 -0.717254 -0.662318  ...   \n",
       "Bromley                0.622072  -1.02877 -0.753853  0.515172  0.842579  ...   \n",
       "Camden                 1.725515   1.19671 -4.090449 -2.671888 -1.767175  ...   \n",
       "Croydon                0.130123 -0.216043  0.576531 -0.665686 -0.079655  ...   \n",
       "Ealing                 0.876189  0.428547 -0.848149 -1.848451 -1.577239  ...   \n",
       "Enfield                0.681021  0.554287 -0.714846  0.862369 -0.501847  ...   \n",
       "Greenwich              1.122031 -0.629889 -1.686985 -0.932966  0.531444  ...   \n",
       "Hackney                2.148802 -0.431678  0.953724  -1.67533 -0.568167  ...   \n",
       "Hammersmith & Fulham  -1.442045 -0.611682 -0.431598  0.282327 -1.240479  ...   \n",
       "Haringey               0.978356  0.580344   1.12633 -0.429639 -0.815884  ...   \n",
       "Harrow                 0.063462  0.241523 -0.985132 -1.350725 -0.300312  ...   \n",
       "Havering               0.314838  0.496245 -1.343713 -1.012296 -1.879436  ...   \n",
       "Hillingdon             0.892081  0.395813 -1.522561 -1.165943 -1.717402  ...   \n",
       "Hounslow               1.881103  1.023308 -0.071597 -1.063942 -0.815594  ...   \n",
       "Islington              1.563203 -0.025197  0.634076 -2.051899 -2.683267  ...   \n",
       "Kensington & Chelsea   0.352367   0.03742 -0.502207  1.478956 -0.165703  ...   \n",
       "Kingston upon Thames   0.387909  0.980351  2.077432  0.718568 -1.383149  ...   \n",
       "Lambeth                1.045221 -1.116638  1.875528 -0.775155 -2.295141  ...   \n",
       "Lewisham               0.146134  0.042883  1.007226  -1.15346  0.002548  ...   \n",
       "Merton                 0.433006 -0.340193  0.053955 -1.577836   0.42991  ...   \n",
       "Newham                -1.098939 -1.368984 -0.226894  0.372428 -0.857065  ...   \n",
       "Redbridge              0.825193  0.538148 -0.097188 -0.392982 -0.723567  ...   \n",
       "Richmond upon Thames   1.562533 -2.079935 -1.716864 -1.861388  0.662674  ...   \n",
       "Southwark              4.280409 -2.287343 -3.244103 -4.239111  1.359831  ...   \n",
       "Sutton                 0.938451 -1.188068 -0.030051  0.037682  0.912937  ...   \n",
       "Tower Hamlets         -2.380405 -1.922022 -2.082231 -0.179071  0.557284  ...   \n",
       "Waltham Forest         0.622814 -0.027626 -0.598345   -1.6106  1.576958  ...   \n",
       "Wandsworth             1.910545   0.80619  0.889772 -1.249123 -0.861004  ...   \n",
       "\n",
       "                           335        336       337       338       339  \\\n",
       "0                                                                         \n",
       "City of London       -1.293688 -10.823642  6.702483 -2.867857  5.757128   \n",
       "Barking & Dagenham   -0.817414  -1.741611 -0.396295  0.867677  0.083908   \n",
       "Barnet                0.580331   0.954398 -1.173638 -1.857272 -2.339334   \n",
       "Bexley               -1.554264  -0.325722  -1.42842 -0.756414 -1.825453   \n",
       "Brent                -0.393901  -3.050443  -1.56156 -0.293593 -0.357274   \n",
       "Bromley              -0.669492  -0.989948 -1.393437  0.138567 -0.625939   \n",
       "Camden                0.159312   1.249042 -1.736158  1.758462 -1.970193   \n",
       "Croydon               0.496176   -0.76552 -1.948222 -2.352436 -0.871754   \n",
       "Ealing                -0.14763  -0.250388 -3.150055 -0.896009 -0.601194   \n",
       "Enfield              -1.999684  -1.468281 -1.515745 -0.450973  0.205152   \n",
       "Greenwich             0.566585   0.554356 -1.027374 -3.393169 -3.902099   \n",
       "Hackney              -0.246251  -1.448187  2.482112 -1.108344  2.057795   \n",
       "Hammersmith & Fulham  3.302496  -0.891732  1.704393 -2.086738  3.401404   \n",
       "Haringey              0.764169  -1.941143 -0.858653 -1.330271  1.149863   \n",
       "Harrow               -0.102502  -1.297801 -1.436565 -2.414126 -0.523313   \n",
       "Havering              -0.59484  -0.505746  -1.63854 -0.263131 -1.055509   \n",
       "Hillingdon           -0.814857  -1.016642 -1.480721 -0.962864 -0.879458   \n",
       "Hounslow              1.793773   0.831966 -0.740927 -0.765306 -2.872462   \n",
       "Islington            -0.721109  -1.823059  0.262587  1.753425  1.415774   \n",
       "Kensington & Chelsea  3.779117  -1.353739  1.654091 -3.254825  1.625172   \n",
       "Kingston upon Thames -0.252149  -0.307212  0.426311 -1.133997 -0.027251   \n",
       "Lambeth               0.010913   0.200215  0.611227  0.312034 -0.966392   \n",
       "Lewisham             -0.845242  -0.498957 -2.211135  0.591506 -2.103505   \n",
       "Merton               -1.194095   -0.26458  -0.39086  0.712735 -0.743302   \n",
       "Newham                0.093292  -2.117763 -2.571824 -0.251657  0.861443   \n",
       "Redbridge            -0.445259  -1.670478  -1.02175 -1.347815 -1.810547   \n",
       "Richmond upon Thames   0.90372    1.45868 -0.597192 -0.681448 -0.192359   \n",
       "Southwark             0.255542  -2.474617 -2.036786 -1.974194  0.865969   \n",
       "Sutton                0.969192  -0.907232  -0.34077 -1.139814 -0.569542   \n",
       "Tower Hamlets        -0.755613  -0.636746  -2.49006 -2.026707 -2.447193   \n",
       "Waltham Forest       -1.013153   0.077137 -1.537027  0.269622 -1.717511   \n",
       "Wandsworth            0.150171  -0.257374 -1.313404 -1.456998  0.184066   \n",
       "\n",
       "                           340       341       342       343       344  \n",
       "0                                                                       \n",
       "City of London        2.237243 -2.313369 -8.092061 -1.490344  7.743082  \n",
       "Barking & Dagenham   -1.171607  -0.94171  0.863466  0.152213 -2.928601  \n",
       "Barnet               -0.300591  0.914541  1.823185  0.491687  1.362089  \n",
       "Bexley               -0.425555  0.904833 -0.029688  0.572397  0.924911  \n",
       "Brent                 0.625824 -0.290222  4.878795  0.388951 -2.155973  \n",
       "Bromley               0.460092  0.790404  0.821963  0.130843  1.504192  \n",
       "Camden                2.104497 -3.163582  1.450096 -3.293102 -1.216636  \n",
       "Croydon              -0.773274  0.900343  1.585769  1.484263  -4.45542  \n",
       "Ealing                0.763941  0.249305  0.917135  0.155626 -3.204649  \n",
       "Enfield              -0.155541  1.073685  1.195119  1.168924  0.045545  \n",
       "Greenwich             0.562956  2.432215  3.650109 -1.127943 -0.687663  \n",
       "Hackney              -0.142867  0.923897 -3.431839 -1.087607  4.622356  \n",
       "Hammersmith & Fulham -0.286657  0.534056 -3.031251  0.294339 -7.040589  \n",
       "Haringey              2.449514  0.647314  0.440741  0.496377 -7.188174  \n",
       "Harrow               -0.164218  1.317434  1.045089 -0.048249  1.240848  \n",
       "Havering             -0.082492   0.25995  0.043386  1.032628 -1.157221  \n",
       "Hillingdon           -0.091506 -0.788601   1.17808  0.337541  0.310334  \n",
       "Hounslow              1.334847 -0.677455  3.678003  3.176464  -0.80415  \n",
       "Islington            -0.275292  0.435614  0.929375  1.562135  1.443856  \n",
       "Kensington & Chelsea  2.946218 -0.752801 -1.360693 -5.565612  5.565722  \n",
       "Kingston upon Thames -0.864634 -0.954082  0.738698  0.291962  2.604287  \n",
       "Lambeth              -2.047026  1.398103  1.595507  3.751395 -0.987921  \n",
       "Lewisham              0.679556  1.534478  1.819536  2.015916 -4.839687  \n",
       "Merton                0.707826  0.818397  1.348482 -0.143178  -0.44536  \n",
       "Newham                1.693227 -0.547335  0.168691  3.652895  1.990932  \n",
       "Redbridge            -1.655057  1.181091  5.245461  4.143225 -1.728142  \n",
       "Richmond upon Thames  0.977619  1.019575  0.732489   1.07505  4.427611  \n",
       "Southwark             1.249614  0.406726  0.618695  2.184868 -1.936647  \n",
       "Sutton               -0.738717 -0.006806  0.577243  1.781769  0.697722  \n",
       "Tower Hamlets        -1.769241 -1.483042   1.95295  2.423313 -0.617734  \n",
       "Waltham Forest        0.122658  -0.93207  1.712925  0.641033  0.998626  \n",
       "Wandsworth            0.205432  0.156506  0.609647  2.273772 -1.148591  \n",
       "\n",
       "[32 rows x 345 columns]"
      ]
     },
     "execution_count": 28,
     "metadata": {},
     "output_type": "execute_result"
    }
   ],
   "source": [
    "tmpDfperc"
   ]
  },
  {
   "cell_type": "code",
   "execution_count": 29,
   "id": "e48c79ea",
   "metadata": {
    "scrolled": true
   },
   "outputs": [
    {
     "data": {
      "image/png": "[encoded data removed]",
      "text/plain": [
       "<Figure size 640x480 with 1 Axes>"
      ]
     },
     "metadata": {},
     "output_type": "display_data"
    }
   ],
   "source": [
    "plt.plot(relevantBs[1:].T)\n",
    "plt.title('Borough Prices over Time')\n",
    "plt.show()"
   ]
  },
  {
   "cell_type": "code",
   "execution_count": 30,
   "id": "c9b84bab",
   "metadata": {},
   "outputs": [],
   "source": [
    "# diffVec=relevantBs[345]-relevantBs[1]\n",
    "# diffVec=np.array([diffVec])\n",
    "# indx = np.argpartition(diffVec, -5)[-5:]\n",
    "# # diffVec.shape\n",
    "\n",
    "# print(indx)\n",
    "# # Return indices\n",
    "# res = diffVec[indx]\n",
    "\n",
    "# print(res)"
   ]
  },
  {
   "cell_type": "code",
   "execution_count": 34,
   "id": "e5a721ca",
   "metadata": {},
   "outputs": [
    {
     "data": {
      "text/html": [
       "<div>\n",
       "<style scoped>\n",
       "    .dataframe tbody tr th:only-of-type {\n",
       "        vertical-align: middle;\n",
       "    }\n",
       "\n",
       "    .dataframe tbody tr th {\n",
       "        vertical-align: top;\n",
       "    }\n",
       "\n",
       "    .dataframe thead th {\n",
       "        text-align: right;\n",
       "    }\n",
       "</style>\n",
       "<table border=\"1\" class=\"dataframe\">\n",
       "  <thead>\n",
       "    <tr style=\"text-align: right;\">\n",
       "      <th></th>\n",
       "      <th>0</th>\n",
       "      <th>1</th>\n",
       "      <th>2</th>\n",
       "      <th>3</th>\n",
       "      <th>4</th>\n",
       "      <th>5</th>\n",
       "      <th>6</th>\n",
       "      <th>7</th>\n",
       "      <th>8</th>\n",
       "      <th>9</th>\n",
       "      <th>...</th>\n",
       "      <th>335</th>\n",
       "      <th>336</th>\n",
       "      <th>337</th>\n",
       "      <th>338</th>\n",
       "      <th>339</th>\n",
       "      <th>340</th>\n",
       "      <th>341</th>\n",
       "      <th>342</th>\n",
       "      <th>343</th>\n",
       "      <th>344</th>\n",
       "    </tr>\n",
       "    <tr>\n",
       "      <th>0</th>\n",
       "      <th></th>\n",
       "      <th></th>\n",
       "      <th></th>\n",
       "      <th></th>\n",
       "      <th></th>\n",
       "      <th></th>\n",
       "      <th></th>\n",
       "      <th></th>\n",
       "      <th></th>\n",
       "      <th></th>\n",
       "      <th></th>\n",
       "      <th></th>\n",
       "      <th></th>\n",
       "      <th></th>\n",
       "      <th></th>\n",
       "      <th></th>\n",
       "      <th></th>\n",
       "      <th></th>\n",
       "      <th></th>\n",
       "      <th></th>\n",
       "      <th></th>\n",
       "    </tr>\n",
       "  </thead>\n",
       "  <tbody>\n",
       "    <tr>\n",
       "      <th>City of London</th>\n",
       "      <td>-9246.21173</td>\n",
       "      <td>-12328.28231</td>\n",
       "      <td>-14347.77683</td>\n",
       "      <td>-7039.83555</td>\n",
       "      <td>3451.52757</td>\n",
       "      <td>18679.05743</td>\n",
       "      <td>20880.45273</td>\n",
       "      <td>13024.12473</td>\n",
       "      <td>16589.13323</td>\n",
       "      <td>26186.62913</td>\n",
       "      <td>...</td>\n",
       "      <td>871225.01513</td>\n",
       "      <td>777205.01513</td>\n",
       "      <td>839609.01513</td>\n",
       "      <td>813652.01513</td>\n",
       "      <td>868943.01513</td>\n",
       "      <td>890921.01513</td>\n",
       "      <td>868709.01513</td>\n",
       "      <td>796829.01513</td>\n",
       "      <td>783785.01513</td>\n",
       "      <td>857243.01513</td>\n",
       "    </tr>\n",
       "    <tr>\n",
       "      <th>Barking &amp; Dagenham</th>\n",
       "      <td>625.55323</td>\n",
       "      <td>808.74296</td>\n",
       "      <td>2673.27866</td>\n",
       "      <td>2582.02192</td>\n",
       "      <td>3240.12171</td>\n",
       "      <td>1652.89497</td>\n",
       "      <td>1771.97208</td>\n",
       "      <td>1011.38693</td>\n",
       "      <td>1053.531</td>\n",
       "      <td>388.45127</td>\n",
       "      <td>...</td>\n",
       "      <td>301625.7734</td>\n",
       "      <td>295598.7734</td>\n",
       "      <td>294232.7734</td>\n",
       "      <td>297249.7734</td>\n",
       "      <td>297541.7734</td>\n",
       "      <td>293511.7734</td>\n",
       "      <td>290302.7734</td>\n",
       "      <td>293270.7734</td>\n",
       "      <td>293794.7734</td>\n",
       "      <td>283999.7734</td>\n",
       "    </tr>\n",
       "    <tr>\n",
       "      <th>Barnet</th>\n",
       "      <td>-94.34869</td>\n",
       "      <td>-1036.99397</td>\n",
       "      <td>-2521.6434</td>\n",
       "      <td>-3026.51799</td>\n",
       "      <td>-3177.28361</td>\n",
       "      <td>-1843.27064</td>\n",
       "      <td>-923.2032</td>\n",
       "      <td>-11.39587</td>\n",
       "      <td>-717.13334</td>\n",
       "      <td>-2401.35707</td>\n",
       "      <td>...</td>\n",
       "      <td>504477.48168</td>\n",
       "      <td>510237.48168</td>\n",
       "      <td>503236.48168</td>\n",
       "      <td>492359.48168</td>\n",
       "      <td>478972.48168</td>\n",
       "      <td>477257.48168</td>\n",
       "      <td>482523.48168</td>\n",
       "      <td>493216.48168</td>\n",
       "      <td>496114.48168</td>\n",
       "      <td>504253.48168</td>\n",
       "    </tr>\n",
       "    <tr>\n",
       "      <th>Bexley</th>\n",
       "      <td>-170.16967</td>\n",
       "      <td>-590.59692</td>\n",
       "      <td>-680.42155</td>\n",
       "      <td>-960.95448</td>\n",
       "      <td>-705.76701</td>\n",
       "      <td>-1235.38981</td>\n",
       "      <td>-525.49031</td>\n",
       "      <td>-448.54269</td>\n",
       "      <td>-428.15311</td>\n",
       "      <td>-1112.05666</td>\n",
       "      <td>...</td>\n",
       "      <td>337611.90964</td>\n",
       "      <td>336304.90964</td>\n",
       "      <td>330653.90964</td>\n",
       "      <td>327683.90964</td>\n",
       "      <td>320644.90964</td>\n",
       "      <td>319010.90964</td>\n",
       "      <td>322516.90964</td>\n",
       "      <td>322401.90964</td>\n",
       "      <td>324631.90964</td>\n",
       "      <td>328268.90964</td>\n",
       "    </tr>\n",
       "    <tr>\n",
       "      <th>Brent</th>\n",
       "      <td>715.69499</td>\n",
       "      <td>709.19576</td>\n",
       "      <td>1659.06396</td>\n",
       "      <td>2397.48045</td>\n",
       "      <td>3003.91469</td>\n",
       "      <td>2820.4709</td>\n",
       "      <td>2240.47412</td>\n",
       "      <td>2482.97589</td>\n",
       "      <td>1957.48687</td>\n",
       "      <td>1475.4383</td>\n",
       "      <td>...</td>\n",
       "      <td>480355.43302</td>\n",
       "      <td>464025.43302</td>\n",
       "      <td>455794.43302</td>\n",
       "      <td>454251.43302</td>\n",
       "      <td>452380.43302</td>\n",
       "      <td>455678.43302</td>\n",
       "      <td>454153.43302</td>\n",
       "      <td>481104.43302</td>\n",
       "      <td>483261.43302</td>\n",
       "      <td>471557.43302</td>\n",
       "    </tr>\n",
       "    <tr>\n",
       "      <th>Bromley</th>\n",
       "      <td>-13.91748</td>\n",
       "      <td>-222.16549</td>\n",
       "      <td>-547.06465</td>\n",
       "      <td>-128.86131</td>\n",
       "      <td>711.35743</td>\n",
       "      <td>1227.04572</td>\n",
       "      <td>382.89464</td>\n",
       "      <td>-231.04684</td>\n",
       "      <td>190.68395</td>\n",
       "      <td>886.29858</td>\n",
       "      <td>...</td>\n",
       "      <td>426773.52308</td>\n",
       "      <td>421789.52308</td>\n",
       "      <td>414870.52308</td>\n",
       "      <td>415559.52308</td>\n",
       "      <td>412466.52308</td>\n",
       "      <td>414750.52308</td>\n",
       "      <td>418705.52308</td>\n",
       "      <td>422852.52308</td>\n",
       "      <td>423513.52308</td>\n",
       "      <td>431228.52308</td>\n",
       "    </tr>\n",
       "    <tr>\n",
       "      <th>Camden</th>\n",
       "      <td>-1424.0259</td>\n",
       "      <td>-650.675</td>\n",
       "      <td>-834.9891</td>\n",
       "      <td>-1003.6099</td>\n",
       "      <td>954.5744</td>\n",
       "      <td>3094.6887</td>\n",
       "      <td>4596.9158</td>\n",
       "      <td>-336.037</td>\n",
       "      <td>-3474.3959</td>\n",
       "      <td>-5514.0485</td>\n",
       "      <td>...</td>\n",
       "      <td>738385.1119</td>\n",
       "      <td>749254.1119</td>\n",
       "      <td>734404.1119</td>\n",
       "      <td>749714.1119</td>\n",
       "      <td>732892.1119</td>\n",
       "      <td>751247.1119</td>\n",
       "      <td>724501.1119</td>\n",
       "      <td>736941.1119</td>\n",
       "      <td>709591.1119</td>\n",
       "      <td>699608.1119</td>\n",
       "    </tr>\n",
       "    <tr>\n",
       "      <th>Croydon</th>\n",
       "      <td>-207.06683</td>\n",
       "      <td>-445.71884</td>\n",
       "      <td>-548.11584</td>\n",
       "      <td>-313.24535</td>\n",
       "      <td>-105.65122</td>\n",
       "      <td>-15.68113</td>\n",
       "      <td>-164.7368</td>\n",
       "      <td>235.33798</td>\n",
       "      <td>-223.54991</td>\n",
       "      <td>-278.41591</td>\n",
       "      <td>...</td>\n",
       "      <td>361535.83775</td>\n",
       "      <td>358263.83775</td>\n",
       "      <td>350095.83775</td>\n",
       "      <td>340459.83775</td>\n",
       "      <td>336919.83775</td>\n",
       "      <td>333803.83775</td>\n",
       "      <td>337464.83775</td>\n",
       "      <td>344016.83775</td>\n",
       "      <td>350241.83775</td>\n",
       "      <td>332352.83775</td>\n",
       "    </tr>\n",
       "    <tr>\n",
       "      <th>Ealing</th>\n",
       "      <td>1011.17482</td>\n",
       "      <td>1493.97219</td>\n",
       "      <td>2303.01429</td>\n",
       "      <td>2191.16456</td>\n",
       "      <td>1744.77112</td>\n",
       "      <td>2466.33191</td>\n",
       "      <td>2820.76858</td>\n",
       "      <td>2125.19202</td>\n",
       "      <td>636.76985</td>\n",
       "      <td>-613.54451</td>\n",
       "      <td>...</td>\n",
       "      <td>449818.10931</td>\n",
       "      <td>448495.10931</td>\n",
       "      <td>432359.10931</td>\n",
       "      <td>427810.10931</td>\n",
       "      <td>424776.10931</td>\n",
       "      <td>428661.10931</td>\n",
       "      <td>429932.10931</td>\n",
       "      <td>434651.10931</td>\n",
       "      <td>435453.10931</td>\n",
       "      <td>419451.10931</td>\n",
       "    </tr>\n",
       "    <tr>\n",
       "      <th>Enfield</th>\n",
       "      <td>640.5065</td>\n",
       "      <td>-324.24952</td>\n",
       "      <td>-1071.76861</td>\n",
       "      <td>-1883.91141</td>\n",
       "      <td>-1166.37949</td>\n",
       "      <td>-677.15085</td>\n",
       "      <td>-276.74534</td>\n",
       "      <td>-789.46992</td>\n",
       "      <td>-165.55352</td>\n",
       "      <td>-526.82227</td>\n",
       "      <td>...</td>\n",
       "      <td>376956.30904</td>\n",
       "      <td>370452.30904</td>\n",
       "      <td>363838.30904</td>\n",
       "      <td>361879.30904</td>\n",
       "      <td>362772.30904</td>\n",
       "      <td>362096.30904</td>\n",
       "      <td>366813.30904</td>\n",
       "      <td>372127.30904</td>\n",
       "      <td>377386.30904</td>\n",
       "      <td>377591.30904</td>\n",
       "    </tr>\n",
       "    <tr>\n",
       "      <th>Greenwich</th>\n",
       "      <td>-1306.83306</td>\n",
       "      <td>-922.26705</td>\n",
       "      <td>-372.37709</td>\n",
       "      <td>1212.88934</td>\n",
       "      <td>2451.46235</td>\n",
       "      <td>3186.23943</td>\n",
       "      <td>2776.33026</td>\n",
       "      <td>1696.71356</td>\n",
       "      <td>1105.1643</td>\n",
       "      <td>1443.9283</td>\n",
       "      <td>...</td>\n",
       "      <td>375409.89831</td>\n",
       "      <td>377849.89831</td>\n",
       "      <td>373373.89831</td>\n",
       "      <td>359075.89831</td>\n",
       "      <td>343250.89831</td>\n",
       "      <td>345546.89831</td>\n",
       "      <td>355713.89831</td>\n",
       "      <td>371549.89831</td>\n",
       "      <td>366710.89831</td>\n",
       "      <td>363780.89831</td>\n",
       "    </tr>\n",
       "    <tr>\n",
       "      <th>Hackney</th>\n",
       "      <td>1890.55695</td>\n",
       "      <td>2296.77298</td>\n",
       "      <td>3843.11766</td>\n",
       "      <td>4897.46575</td>\n",
       "      <td>5624.64464</td>\n",
       "      <td>7094.22663</td>\n",
       "      <td>6800.26748</td>\n",
       "      <td>7455.97647</td>\n",
       "      <td>6323.12415</td>\n",
       "      <td>5941.1019</td>\n",
       "      <td>...</td>\n",
       "      <td>558802.47363</td>\n",
       "      <td>549950.47363</td>\n",
       "      <td>565508.47363</td>\n",
       "      <td>558637.47363</td>\n",
       "      <td>571662.47363</td>\n",
       "      <td>570759.47363</td>\n",
       "      <td>576653.47363</td>\n",
       "      <td>555486.47363</td>\n",
       "      <td>548850.47363</td>\n",
       "      <td>578420.47363</td>\n",
       "    </tr>\n",
       "    <tr>\n",
       "      <th>Hammersmith &amp; Fulham</th>\n",
       "      <td>-2815.1422</td>\n",
       "      <td>-4266.9135</td>\n",
       "      <td>-3478.2361</td>\n",
       "      <td>-469.3212</td>\n",
       "      <td>1272.2911</td>\n",
       "      <td>-521.3468</td>\n",
       "      <td>-1277.5406</td>\n",
       "      <td>-1808.8118</td>\n",
       "      <td>-1460.3002</td>\n",
       "      <td>-2972.8167</td>\n",
       "      <td>...</td>\n",
       "      <td>643213.1398</td>\n",
       "      <td>636424.1398</td>\n",
       "      <td>649625.1398</td>\n",
       "      <td>633793.1398</td>\n",
       "      <td>660508.1398</td>\n",
       "      <td>658263.1398</td>\n",
       "      <td>662468.1398</td>\n",
       "      <td>639303.1398</td>\n",
       "      <td>641559.1398</td>\n",
       "      <td>591145.1398</td>\n",
       "    </tr>\n",
       "    <tr>\n",
       "      <th>Haringey</th>\n",
       "      <td>2613.64089</td>\n",
       "      <td>2234.37908</td>\n",
       "      <td>3258.0053</td>\n",
       "      <td>3086.46543</td>\n",
       "      <td>3668.79263</td>\n",
       "      <td>4458.77934</td>\n",
       "      <td>4930.12127</td>\n",
       "      <td>5855.32105</td>\n",
       "      <td>5503.9129</td>\n",
       "      <td>4841.98944</td>\n",
       "      <td>...</td>\n",
       "      <td>532478.43053</td>\n",
       "      <td>520886.43053</td>\n",
       "      <td>515802.43053</td>\n",
       "      <td>508029.43053</td>\n",
       "      <td>514826.43053</td>\n",
       "      <td>529669.43053</td>\n",
       "      <td>533617.43053</td>\n",
       "      <td>536317.43053</td>\n",
       "      <td>539373.43053</td>\n",
       "      <td>498086.43053</td>\n",
       "    </tr>\n",
       "    <tr>\n",
       "      <th>Harrow</th>\n",
       "      <td>-1373.42074</td>\n",
       "      <td>-1353.2884</td>\n",
       "      <td>-1201.6416</td>\n",
       "      <td>-915.86984</td>\n",
       "      <td>-596.2791</td>\n",
       "      <td>-542.82755</td>\n",
       "      <td>-338.90803</td>\n",
       "      <td>-1162.54736</td>\n",
       "      <td>-2276.79717</td>\n",
       "      <td>-2523.79138</td>\n",
       "      <td>...</td>\n",
       "      <td>443027.47401</td>\n",
       "      <td>436265.47401</td>\n",
       "      <td>428886.47401</td>\n",
       "      <td>416778.47401</td>\n",
       "      <td>414167.47401</td>\n",
       "      <td>413349.47401</td>\n",
       "      <td>419999.47401</td>\n",
       "      <td>425330.47401</td>\n",
       "      <td>425084.47401</td>\n",
       "      <td>431490.47401</td>\n",
       "    </tr>\n",
       "    <tr>\n",
       "      <th>Havering</th>\n",
       "      <td>1393.3752</td>\n",
       "      <td>1367.88633</td>\n",
       "      <td>1444.12441</td>\n",
       "      <td>534.38474</td>\n",
       "      <td>464.4689</td>\n",
       "      <td>680.70222</td>\n",
       "      <td>1023.22708</td>\n",
       "      <td>108.04826</td>\n",
       "      <td>-574.49883</td>\n",
       "      <td>-1818.34341</td>\n",
       "      <td>...</td>\n",
       "      <td>365225.86226</td>\n",
       "      <td>363045.86226</td>\n",
       "      <td>356096.86226</td>\n",
       "      <td>354983.86226</td>\n",
       "      <td>350565.86226</td>\n",
       "      <td>350220.86226</td>\n",
       "      <td>351310.86226</td>\n",
       "      <td>351492.86226</td>\n",
       "      <td>355869.86226</td>\n",
       "      <td>351020.86226</td>\n",
       "    </tr>\n",
       "    <tr>\n",
       "      <th>Hillingdon</th>\n",
       "      <td>1196.23996</td>\n",
       "      <td>353.83985</td>\n",
       "      <td>76.57627</td>\n",
       "      <td>-717.70548</td>\n",
       "      <td>170.17621</td>\n",
       "      <td>836.30299</td>\n",
       "      <td>1133.0357</td>\n",
       "      <td>8.72275</td>\n",
       "      <td>-842.32805</td>\n",
       "      <td>-2074.73698</td>\n",
       "      <td>...</td>\n",
       "      <td>388700.17036</td>\n",
       "      <td>384045.17036</td>\n",
       "      <td>377364.17036</td>\n",
       "      <td>373061.17036</td>\n",
       "      <td>369165.17036</td>\n",
       "      <td>368760.17036</td>\n",
       "      <td>365297.17036</td>\n",
       "      <td>370532.17036</td>\n",
       "      <td>372037.17036</td>\n",
       "      <td>373425.17036</td>\n",
       "    </tr>\n",
       "    <tr>\n",
       "      <th>Hounslow</th>\n",
       "      <td>-1180.14685</td>\n",
       "      <td>-133.71126</td>\n",
       "      <td>-341.42198</td>\n",
       "      <td>645.76682</td>\n",
       "      <td>99.37579</td>\n",
       "      <td>1486.08307</td>\n",
       "      <td>2248.24265</td>\n",
       "      <td>2194.95553</td>\n",
       "      <td>1411.4349</td>\n",
       "      <td>815.66498</td>\n",
       "      <td>...</td>\n",
       "      <td>385128.29463</td>\n",
       "      <td>388965.29463</td>\n",
       "      <td>385573.29463</td>\n",
       "      <td>382096.29463</td>\n",
       "      <td>369410.29463</td>\n",
       "      <td>375385.29463</td>\n",
       "      <td>372373.29463</td>\n",
       "      <td>389350.29463</td>\n",
       "      <td>404493.29463</td>\n",
       "      <td>400690.29463</td>\n",
       "    </tr>\n",
       "    <tr>\n",
       "      <th>Islington</th>\n",
       "      <td>1825.88777</td>\n",
       "      <td>949.3785</td>\n",
       "      <td>828.00748</td>\n",
       "      <td>1829.9136</td>\n",
       "      <td>4912.45754</td>\n",
       "      <td>6459.6552</td>\n",
       "      <td>6434.72234</td>\n",
       "      <td>7066.15221</td>\n",
       "      <td>5063.90116</td>\n",
       "      <td>2513.9796</td>\n",
       "      <td>...</td>\n",
       "      <td>603633.51443</td>\n",
       "      <td>591169.51443</td>\n",
       "      <td>592969.51443</td>\n",
       "      <td>605203.51443</td>\n",
       "      <td>615223.51443</td>\n",
       "      <td>613280.51443</td>\n",
       "      <td>616368.51443</td>\n",
       "      <td>623018.51443</td>\n",
       "      <td>634373.51443</td>\n",
       "      <td>645022.51443</td>\n",
       "    </tr>\n",
       "    <tr>\n",
       "      <th>Kensington &amp; Chelsea</th>\n",
       "      <td>-349.5863</td>\n",
       "      <td>183.9905</td>\n",
       "      <td>1482.0842</td>\n",
       "      <td>8779.2815</td>\n",
       "      <td>14570.9276</td>\n",
       "      <td>15268.4843</td>\n",
       "      <td>15342.5892</td>\n",
       "      <td>14353.0007</td>\n",
       "      <td>17310.9982</td>\n",
       "      <td>16980.1307</td>\n",
       "      <td>...</td>\n",
       "      <td>1170346.1674</td>\n",
       "      <td>1152274.1674</td>\n",
       "      <td>1174727.1674</td>\n",
       "      <td>1131938.1674</td>\n",
       "      <td>1153656.1674</td>\n",
       "      <td>1194223.1674</td>\n",
       "      <td>1183935.1674</td>\n",
       "      <td>1165589.1674</td>\n",
       "      <td>1094505.1674</td>\n",
       "      <td>1169780.1674</td>\n",
       "    </tr>\n",
       "    <tr>\n",
       "      <th>Kingston upon Thames</th>\n",
       "      <td>354.28681</td>\n",
       "      <td>235.64005</td>\n",
       "      <td>796.95633</td>\n",
       "      <td>1247.66241</td>\n",
       "      <td>1329.81979</td>\n",
       "      <td>1649.94457</td>\n",
       "      <td>2466.99709</td>\n",
       "      <td>4235.11992</td>\n",
       "      <td>4851.1263</td>\n",
       "      <td>3681.57151</td>\n",
       "      <td>...</td>\n",
       "      <td>471575.15157</td>\n",
       "      <td>469883.15157</td>\n",
       "      <td>472241.15157</td>\n",
       "      <td>466039.15157</td>\n",
       "      <td>465890.15157</td>\n",
       "      <td>461203.15157</td>\n",
       "      <td>456080.15157</td>\n",
       "      <td>460076.15157</td>\n",
       "      <td>461660.15157</td>\n",
       "      <td>476167.15157</td>\n",
       "    </tr>\n",
       "    <tr>\n",
       "      <th>Lambeth</th>\n",
       "      <td>-2389.46935</td>\n",
       "      <td>-1434.46975</td>\n",
       "      <td>-1382.21683</td>\n",
       "      <td>1264.12233</td>\n",
       "      <td>1110.16921</td>\n",
       "      <td>1837.73399</td>\n",
       "      <td>1069.03984</td>\n",
       "      <td>2384.83154</td>\n",
       "      <td>1845.19846</td>\n",
       "      <td>283.25778</td>\n",
       "      <td>...</td>\n",
       "      <td>482033.01157</td>\n",
       "      <td>483136.01157</td>\n",
       "      <td>486524.01157</td>\n",
       "      <td>488259.01157</td>\n",
       "      <td>482937.01157</td>\n",
       "      <td>471890.01157</td>\n",
       "      <td>479542.01157</td>\n",
       "      <td>488416.01157</td>\n",
       "      <td>510094.01157</td>\n",
       "      <td>504441.01157</td>\n",
       "    </tr>\n",
       "    <tr>\n",
       "      <th>Lewisham</th>\n",
       "      <td>378.00982</td>\n",
       "      <td>-203.23107</td>\n",
       "      <td>-1020.22973</td>\n",
       "      <td>-1939.87722</td>\n",
       "      <td>-2449.82566</td>\n",
       "      <td>-2364.88298</td>\n",
       "      <td>-2339.94569</td>\n",
       "      <td>-1748.27075</td>\n",
       "      <td>-2418.12093</td>\n",
       "      <td>-2416.64098</td>\n",
       "      <td>...</td>\n",
       "      <td>404582.73891</td>\n",
       "      <td>402273.73891</td>\n",
       "      <td>392262.73891</td>\n",
       "      <td>394956.73891</td>\n",
       "      <td>385573.73891</td>\n",
       "      <td>388625.73891</td>\n",
       "      <td>395624.73891</td>\n",
       "      <td>404077.73891</td>\n",
       "      <td>413635.73891</td>\n",
       "      <td>391748.73891</td>\n",
       "    </tr>\n",
       "    <tr>\n",
       "      <th>Merton</th>\n",
       "      <td>-2087.86458</td>\n",
       "      <td>-1408.93051</td>\n",
       "      <td>-2080.06997</td>\n",
       "      <td>-1196.62687</td>\n",
       "      <td>-1365.68663</td>\n",
       "      <td>-1014.70995</td>\n",
       "      <td>-1289.52144</td>\n",
       "      <td>-1245.91255</td>\n",
       "      <td>-2501.38435</td>\n",
       "      <td>-2157.83115</td>\n",
       "      <td>...</td>\n",
       "      <td>483713.3867</td>\n",
       "      <td>482220.3867</td>\n",
       "      <td>480023.3867</td>\n",
       "      <td>484058.3867</td>\n",
       "      <td>479881.3867</td>\n",
       "      <td>483887.3867</td>\n",
       "      <td>488557.3867</td>\n",
       "      <td>496357.3867</td>\n",
       "      <td>495530.3867</td>\n",
       "      <td>492969.3867</td>\n",
       "    </tr>\n",
       "    <tr>\n",
       "      <th>Newham</th>\n",
       "      <td>-385.43613</td>\n",
       "      <td>-81.05526</td>\n",
       "      <td>940.43476</td>\n",
       "      <td>2264.64039</td>\n",
       "      <td>2528.45067</td>\n",
       "      <td>1918.99774</td>\n",
       "      <td>1170.03548</td>\n",
       "      <td>1046.18445</td>\n",
       "      <td>1250.23585</td>\n",
       "      <td>784.64397</td>\n",
       "      <td>...</td>\n",
       "      <td>366646.68081</td>\n",
       "      <td>357932.68081</td>\n",
       "      <td>347615.68081</td>\n",
       "      <td>346608.68081</td>\n",
       "      <td>350085.68081</td>\n",
       "      <td>357037.68081</td>\n",
       "      <td>354802.68081</td>\n",
       "      <td>355492.68081</td>\n",
       "      <td>371000.68081</td>\n",
       "      <td>379624.68081</td>\n",
       "    </tr>\n",
       "    <tr>\n",
       "      <th>Redbridge</th>\n",
       "      <td>-47.95827</td>\n",
       "      <td>311.77065</td>\n",
       "      <td>39.01858</td>\n",
       "      <td>177.05685</td>\n",
       "      <td>89.84813</td>\n",
       "      <td>691.25537</td>\n",
       "      <td>1085.58454</td>\n",
       "      <td>1014.43936</td>\n",
       "      <td>727.8871</td>\n",
       "      <td>204.07031</td>\n",
       "      <td>...</td>\n",
       "      <td>411124.41563</td>\n",
       "      <td>403183.41563</td>\n",
       "      <td>398375.41563</td>\n",
       "      <td>392117.41563</td>\n",
       "      <td>383860.41563</td>\n",
       "      <td>376435.41563</td>\n",
       "      <td>381797.41563</td>\n",
       "      <td>406929.41563</td>\n",
       "      <td>427638.41563</td>\n",
       "      <td>419147.41563</td>\n",
       "    </tr>\n",
       "    <tr>\n",
       "      <th>Richmond upon Thames</th>\n",
       "      <td>1776.9149</td>\n",
       "      <td>-2000.6503</td>\n",
       "      <td>-2451.1245</td>\n",
       "      <td>-1618.4446</td>\n",
       "      <td>3538.9297</td>\n",
       "      <td>5330.4766</td>\n",
       "      <td>2994.2851</td>\n",
       "      <td>1098.4458</td>\n",
       "      <td>-919.4239</td>\n",
       "      <td>-196.2485</td>\n",
       "      <td>...</td>\n",
       "      <td>632496.8755</td>\n",
       "      <td>643477.8755</td>\n",
       "      <td>639008.8755</td>\n",
       "      <td>633943.8755</td>\n",
       "      <td>632516.8755</td>\n",
       "      <td>639840.8755</td>\n",
       "      <td>647557.8755</td>\n",
       "      <td>653142.8755</td>\n",
       "      <td>661428.8755</td>\n",
       "      <td>697135.8755</td>\n",
       "    </tr>\n",
       "    <tr>\n",
       "      <th>Southwark</th>\n",
       "      <td>-3086.13864</td>\n",
       "      <td>-2121.90625</td>\n",
       "      <td>-4811.58227</td>\n",
       "      <td>-3464.70411</td>\n",
       "      <td>-3729.38895</td>\n",
       "      <td>-860.45577</td>\n",
       "      <td>-2359.2591</td>\n",
       "      <td>-4418.19396</td>\n",
       "      <td>-6999.21861</td>\n",
       "      <td>-6159.85802</td>\n",
       "      <td>...</td>\n",
       "      <td>487012.79656</td>\n",
       "      <td>473612.79656</td>\n",
       "      <td>462803.79656</td>\n",
       "      <td>452529.79656</td>\n",
       "      <td>457075.79656</td>\n",
       "      <td>463718.79656</td>\n",
       "      <td>465889.79656</td>\n",
       "      <td>469212.79656</td>\n",
       "      <td>481209.79656</td>\n",
       "      <td>470777.79656</td>\n",
       "    </tr>\n",
       "    <tr>\n",
       "      <th>Sutton</th>\n",
       "      <td>-643.76506</td>\n",
       "      <td>-1230.13513</td>\n",
       "      <td>-2125.02967</td>\n",
       "      <td>-1777.75368</td>\n",
       "      <td>-1411.72629</td>\n",
       "      <td>-747.40073</td>\n",
       "      <td>-1578.55439</td>\n",
       "      <td>-1599.57143</td>\n",
       "      <td>-1573.20799</td>\n",
       "      <td>-928.5983</td>\n",
       "      <td>...</td>\n",
       "      <td>370584.02643</td>\n",
       "      <td>366609.02643</td>\n",
       "      <td>365121.02643</td>\n",
       "      <td>360200.02643</td>\n",
       "      <td>357755.02643</td>\n",
       "      <td>354607.02643</td>\n",
       "      <td>354578.02643</td>\n",
       "      <td>357052.02643</td>\n",
       "      <td>364827.02643</td>\n",
       "      <td>367893.02643</td>\n",
       "    </tr>\n",
       "    <tr>\n",
       "      <th>Tower Hamlets</th>\n",
       "      <td>2453.34358</td>\n",
       "      <td>4073.48691</td>\n",
       "      <td>6368.00388</td>\n",
       "      <td>6567.66851</td>\n",
       "      <td>6366.97377</td>\n",
       "      <td>4827.03677</td>\n",
       "      <td>3607.08563</td>\n",
       "      <td>2312.4044</td>\n",
       "      <td>2201.2614</td>\n",
       "      <td>2549.08588</td>\n",
       "      <td>...</td>\n",
       "      <td>422656.81005</td>\n",
       "      <td>419603.81005</td>\n",
       "      <td>407954.81005</td>\n",
       "      <td>398661.81005</td>\n",
       "      <td>387708.81005</td>\n",
       "      <td>379927.81005</td>\n",
       "      <td>373500.81005</td>\n",
       "      <td>382132.81005</td>\n",
       "      <td>393109.81005</td>\n",
       "      <td>390328.81005</td>\n",
       "    </tr>\n",
       "    <tr>\n",
       "      <th>Waltham Forest</th>\n",
       "      <td>-1067.32667</td>\n",
       "      <td>-448.3642</td>\n",
       "      <td>-348.05191</td>\n",
       "      <td>174.72025</td>\n",
       "      <td>228.3473</td>\n",
       "      <td>614.07825</td>\n",
       "      <td>596.97307</td>\n",
       "      <td>228.70293</td>\n",
       "      <td>-746.87877</td>\n",
       "      <td>223.62947</td>\n",
       "      <td>...</td>\n",
       "      <td>449067.55087</td>\n",
       "      <td>449461.55087</td>\n",
       "      <td>441729.55087</td>\n",
       "      <td>443089.55087</td>\n",
       "      <td>434572.55087</td>\n",
       "      <td>435181.55087</td>\n",
       "      <td>430596.55087</td>\n",
       "      <td>439169.55087</td>\n",
       "      <td>442398.55087</td>\n",
       "      <td>447479.55087</td>\n",
       "    </tr>\n",
       "    <tr>\n",
       "      <th>Wandsworth</th>\n",
       "      <td>81.97297</td>\n",
       "      <td>-1434.22858</td>\n",
       "      <td>-1533.04156</td>\n",
       "      <td>-2040.98436</td>\n",
       "      <td>-444.70871</td>\n",
       "      <td>1271.54553</td>\n",
       "      <td>2001.63697</td>\n",
       "      <td>2814.65459</td>\n",
       "      <td>1687.36563</td>\n",
       "      <td>916.97398</td>\n",
       "      <td>...</td>\n",
       "      <td>544053.95619</td>\n",
       "      <td>542429.95619</td>\n",
       "      <td>534249.95619</td>\n",
       "      <td>525305.95619</td>\n",
       "      <td>526437.95619</td>\n",
       "      <td>527703.95619</td>\n",
       "      <td>528669.95619</td>\n",
       "      <td>532455.95619</td>\n",
       "      <td>546904.95619</td>\n",
       "      <td>539688.95619</td>\n",
       "    </tr>\n",
       "  </tbody>\n",
       "</table>\n",
       "<p>32 rows × 345 columns</p>\n",
       "</div>"
      ],
      "text/plain": [
       "                             0            1            2           3    \\\n",
       "0                                                                        \n",
       "City of London       -9246.21173 -12328.28231 -14347.77683 -7039.83555   \n",
       "Barking & Dagenham     625.55323    808.74296   2673.27866  2582.02192   \n",
       "Barnet                 -94.34869  -1036.99397   -2521.6434 -3026.51799   \n",
       "Bexley                -170.16967   -590.59692   -680.42155  -960.95448   \n",
       "Brent                  715.69499    709.19576   1659.06396  2397.48045   \n",
       "Bromley                -13.91748   -222.16549   -547.06465  -128.86131   \n",
       "Camden                -1424.0259     -650.675    -834.9891  -1003.6099   \n",
       "Croydon               -207.06683   -445.71884   -548.11584  -313.24535   \n",
       "Ealing                1011.17482   1493.97219   2303.01429  2191.16456   \n",
       "Enfield                 640.5065   -324.24952  -1071.76861 -1883.91141   \n",
       "Greenwich            -1306.83306   -922.26705   -372.37709  1212.88934   \n",
       "Hackney               1890.55695   2296.77298   3843.11766  4897.46575   \n",
       "Hammersmith & Fulham  -2815.1422   -4266.9135   -3478.2361   -469.3212   \n",
       "Haringey              2613.64089   2234.37908    3258.0053  3086.46543   \n",
       "Harrow               -1373.42074   -1353.2884   -1201.6416  -915.86984   \n",
       "Havering               1393.3752   1367.88633   1444.12441   534.38474   \n",
       "Hillingdon            1196.23996    353.83985     76.57627  -717.70548   \n",
       "Hounslow             -1180.14685   -133.71126   -341.42198   645.76682   \n",
       "Islington             1825.88777     949.3785    828.00748   1829.9136   \n",
       "Kensington & Chelsea   -349.5863     183.9905    1482.0842   8779.2815   \n",
       "Kingston upon Thames   354.28681    235.64005    796.95633  1247.66241   \n",
       "Lambeth              -2389.46935  -1434.46975  -1382.21683  1264.12233   \n",
       "Lewisham               378.00982   -203.23107  -1020.22973 -1939.87722   \n",
       "Merton               -2087.86458  -1408.93051  -2080.06997 -1196.62687   \n",
       "Newham                -385.43613    -81.05526    940.43476  2264.64039   \n",
       "Redbridge              -47.95827    311.77065     39.01858   177.05685   \n",
       "Richmond upon Thames   1776.9149   -2000.6503   -2451.1245  -1618.4446   \n",
       "Southwark            -3086.13864  -2121.90625  -4811.58227 -3464.70411   \n",
       "Sutton                -643.76506  -1230.13513  -2125.02967 -1777.75368   \n",
       "Tower Hamlets         2453.34358   4073.48691   6368.00388  6567.66851   \n",
       "Waltham Forest       -1067.32667    -448.3642   -348.05191   174.72025   \n",
       "Wandsworth              81.97297  -1434.22858  -1533.04156 -2040.98436   \n",
       "\n",
       "                             4            5            6            7    \\\n",
       "0                                                                         \n",
       "City of London        3451.52757  18679.05743  20880.45273  13024.12473   \n",
       "Barking & Dagenham    3240.12171   1652.89497   1771.97208   1011.38693   \n",
       "Barnet               -3177.28361  -1843.27064    -923.2032    -11.39587   \n",
       "Bexley                -705.76701  -1235.38981   -525.49031   -448.54269   \n",
       "Brent                 3003.91469    2820.4709   2240.47412   2482.97589   \n",
       "Bromley                711.35743   1227.04572    382.89464   -231.04684   \n",
       "Camden                  954.5744    3094.6887    4596.9158     -336.037   \n",
       "Croydon               -105.65122    -15.68113    -164.7368    235.33798   \n",
       "Ealing                1744.77112   2466.33191   2820.76858   2125.19202   \n",
       "Enfield              -1166.37949   -677.15085   -276.74534   -789.46992   \n",
       "Greenwich             2451.46235   3186.23943   2776.33026   1696.71356   \n",
       "Hackney               5624.64464   7094.22663   6800.26748   7455.97647   \n",
       "Hammersmith & Fulham   1272.2911    -521.3468   -1277.5406   -1808.8118   \n",
       "Haringey              3668.79263   4458.77934   4930.12127   5855.32105   \n",
       "Harrow                 -596.2791   -542.82755   -338.90803  -1162.54736   \n",
       "Havering                464.4689    680.70222   1023.22708    108.04826   \n",
       "Hillingdon             170.17621    836.30299    1133.0357      8.72275   \n",
       "Hounslow                99.37579   1486.08307   2248.24265   2194.95553   \n",
       "Islington             4912.45754    6459.6552   6434.72234   7066.15221   \n",
       "Kensington & Chelsea  14570.9276   15268.4843   15342.5892   14353.0007   \n",
       "Kingston upon Thames  1329.81979   1649.94457   2466.99709   4235.11992   \n",
       "Lambeth               1110.16921   1837.73399   1069.03984   2384.83154   \n",
       "Lewisham             -2449.82566  -2364.88298  -2339.94569  -1748.27075   \n",
       "Merton               -1365.68663  -1014.70995  -1289.52144  -1245.91255   \n",
       "Newham                2528.45067   1918.99774   1170.03548   1046.18445   \n",
       "Redbridge               89.84813    691.25537   1085.58454   1014.43936   \n",
       "Richmond upon Thames   3538.9297    5330.4766    2994.2851    1098.4458   \n",
       "Southwark            -3729.38895   -860.45577   -2359.2591  -4418.19396   \n",
       "Sutton               -1411.72629   -747.40073  -1578.55439  -1599.57143   \n",
       "Tower Hamlets         6366.97377   4827.03677   3607.08563    2312.4044   \n",
       "Waltham Forest          228.3473    614.07825    596.97307    228.70293   \n",
       "Wandsworth            -444.70871   1271.54553   2001.63697   2814.65459   \n",
       "\n",
       "                              8            9    ...           335  \\\n",
       "0                                               ...                 \n",
       "City of London        16589.13323  26186.62913  ...  871225.01513   \n",
       "Barking & Dagenham       1053.531    388.45127  ...   301625.7734   \n",
       "Barnet                 -717.13334  -2401.35707  ...  504477.48168   \n",
       "Bexley                 -428.15311  -1112.05666  ...  337611.90964   \n",
       "Brent                  1957.48687    1475.4383  ...  480355.43302   \n",
       "Bromley                 190.68395    886.29858  ...  426773.52308   \n",
       "Camden                 -3474.3959   -5514.0485  ...   738385.1119   \n",
       "Croydon                -223.54991   -278.41591  ...  361535.83775   \n",
       "Ealing                  636.76985   -613.54451  ...  449818.10931   \n",
       "Enfield                -165.55352   -526.82227  ...  376956.30904   \n",
       "Greenwich               1105.1643    1443.9283  ...  375409.89831   \n",
       "Hackney                6323.12415    5941.1019  ...  558802.47363   \n",
       "Hammersmith & Fulham   -1460.3002   -2972.8167  ...   643213.1398   \n",
       "Haringey                5503.9129   4841.98944  ...  532478.43053   \n",
       "Harrow                -2276.79717  -2523.79138  ...  443027.47401   \n",
       "Havering               -574.49883  -1818.34341  ...  365225.86226   \n",
       "Hillingdon             -842.32805  -2074.73698  ...  388700.17036   \n",
       "Hounslow                1411.4349    815.66498  ...  385128.29463   \n",
       "Islington              5063.90116    2513.9796  ...  603633.51443   \n",
       "Kensington & Chelsea   17310.9982   16980.1307  ...  1170346.1674   \n",
       "Kingston upon Thames    4851.1263   3681.57151  ...  471575.15157   \n",
       "Lambeth                1845.19846    283.25778  ...  482033.01157   \n",
       "Lewisham              -2418.12093  -2416.64098  ...  404582.73891   \n",
       "Merton                -2501.38435  -2157.83115  ...   483713.3867   \n",
       "Newham                 1250.23585    784.64397  ...  366646.68081   \n",
       "Redbridge                727.8871    204.07031  ...  411124.41563   \n",
       "Richmond upon Thames    -919.4239    -196.2485  ...   632496.8755   \n",
       "Southwark             -6999.21861  -6159.85802  ...  487012.79656   \n",
       "Sutton                -1573.20799    -928.5983  ...  370584.02643   \n",
       "Tower Hamlets           2201.2614   2549.08588  ...  422656.81005   \n",
       "Waltham Forest         -746.87877    223.62947  ...  449067.55087   \n",
       "Wandsworth             1687.36563    916.97398  ...  544053.95619   \n",
       "\n",
       "                               336           337           338           339  \\\n",
       "0                                                                              \n",
       "City of London        777205.01513  839609.01513  813652.01513  868943.01513   \n",
       "Barking & Dagenham     295598.7734   294232.7734   297249.7734   297541.7734   \n",
       "Barnet                510237.48168  503236.48168  492359.48168  478972.48168   \n",
       "Bexley                336304.90964  330653.90964  327683.90964  320644.90964   \n",
       "Brent                 464025.43302  455794.43302  454251.43302  452380.43302   \n",
       "Bromley               421789.52308  414870.52308  415559.52308  412466.52308   \n",
       "Camden                 749254.1119   734404.1119   749714.1119   732892.1119   \n",
       "Croydon               358263.83775  350095.83775  340459.83775  336919.83775   \n",
       "Ealing                448495.10931  432359.10931  427810.10931  424776.10931   \n",
       "Enfield               370452.30904  363838.30904  361879.30904  362772.30904   \n",
       "Greenwich             377849.89831  373373.89831  359075.89831  343250.89831   \n",
       "Hackney               549950.47363  565508.47363  558637.47363  571662.47363   \n",
       "Hammersmith & Fulham   636424.1398   649625.1398   633793.1398   660508.1398   \n",
       "Haringey              520886.43053  515802.43053  508029.43053  514826.43053   \n",
       "Harrow                436265.47401  428886.47401  416778.47401  414167.47401   \n",
       "Havering              363045.86226  356096.86226  354983.86226  350565.86226   \n",
       "Hillingdon            384045.17036  377364.17036  373061.17036  369165.17036   \n",
       "Hounslow              388965.29463  385573.29463  382096.29463  369410.29463   \n",
       "Islington             591169.51443  592969.51443  605203.51443  615223.51443   \n",
       "Kensington & Chelsea  1152274.1674  1174727.1674  1131938.1674  1153656.1674   \n",
       "Kingston upon Thames  469883.15157  472241.15157  466039.15157  465890.15157   \n",
       "Lambeth               483136.01157  486524.01157  488259.01157  482937.01157   \n",
       "Lewisham              402273.73891  392262.73891  394956.73891  385573.73891   \n",
       "Merton                 482220.3867   480023.3867   484058.3867   479881.3867   \n",
       "Newham                357932.68081  347615.68081  346608.68081  350085.68081   \n",
       "Redbridge             403183.41563  398375.41563  392117.41563  383860.41563   \n",
       "Richmond upon Thames   643477.8755   639008.8755   633943.8755   632516.8755   \n",
       "Southwark             473612.79656  462803.79656  452529.79656  457075.79656   \n",
       "Sutton                366609.02643  365121.02643  360200.02643  357755.02643   \n",
       "Tower Hamlets         419603.81005  407954.81005  398661.81005  387708.81005   \n",
       "Waltham Forest        449461.55087  441729.55087  443089.55087  434572.55087   \n",
       "Wandsworth            542429.95619  534249.95619  525305.95619  526437.95619   \n",
       "\n",
       "                               340           341           342           343  \\\n",
       "0                                                                              \n",
       "City of London        890921.01513  868709.01513  796829.01513  783785.01513   \n",
       "Barking & Dagenham     293511.7734   290302.7734   293270.7734   293794.7734   \n",
       "Barnet                477257.48168  482523.48168  493216.48168  496114.48168   \n",
       "Bexley                319010.90964  322516.90964  322401.90964  324631.90964   \n",
       "Brent                 455678.43302  454153.43302  481104.43302  483261.43302   \n",
       "Bromley               414750.52308  418705.52308  422852.52308  423513.52308   \n",
       "Camden                 751247.1119   724501.1119   736941.1119   709591.1119   \n",
       "Croydon               333803.83775  337464.83775  344016.83775  350241.83775   \n",
       "Ealing                428661.10931  429932.10931  434651.10931  435453.10931   \n",
       "Enfield               362096.30904  366813.30904  372127.30904  377386.30904   \n",
       "Greenwich             345546.89831  355713.89831  371549.89831  366710.89831   \n",
       "Hackney               570759.47363  576653.47363  555486.47363  548850.47363   \n",
       "Hammersmith & Fulham   658263.1398   662468.1398   639303.1398   641559.1398   \n",
       "Haringey              529669.43053  533617.43053  536317.43053  539373.43053   \n",
       "Harrow                413349.47401  419999.47401  425330.47401  425084.47401   \n",
       "Havering              350220.86226  351310.86226  351492.86226  355869.86226   \n",
       "Hillingdon            368760.17036  365297.17036  370532.17036  372037.17036   \n",
       "Hounslow              375385.29463  372373.29463  389350.29463  404493.29463   \n",
       "Islington             613280.51443  616368.51443  623018.51443  634373.51443   \n",
       "Kensington & Chelsea  1194223.1674  1183935.1674  1165589.1674  1094505.1674   \n",
       "Kingston upon Thames  461203.15157  456080.15157  460076.15157  461660.15157   \n",
       "Lambeth               471890.01157  479542.01157  488416.01157  510094.01157   \n",
       "Lewisham              388625.73891  395624.73891  404077.73891  413635.73891   \n",
       "Merton                 483887.3867   488557.3867   496357.3867   495530.3867   \n",
       "Newham                357037.68081  354802.68081  355492.68081  371000.68081   \n",
       "Redbridge             376435.41563  381797.41563  406929.41563  427638.41563   \n",
       "Richmond upon Thames   639840.8755   647557.8755   653142.8755   661428.8755   \n",
       "Southwark             463718.79656  465889.79656  469212.79656  481209.79656   \n",
       "Sutton                354607.02643  354578.02643  357052.02643  364827.02643   \n",
       "Tower Hamlets         379927.81005  373500.81005  382132.81005  393109.81005   \n",
       "Waltham Forest        435181.55087  430596.55087  439169.55087  442398.55087   \n",
       "Wandsworth            527703.95619  528669.95619  532455.95619  546904.95619   \n",
       "\n",
       "                               344  \n",
       "0                                   \n",
       "City of London        857243.01513  \n",
       "Barking & Dagenham     283999.7734  \n",
       "Barnet                504253.48168  \n",
       "Bexley                328268.90964  \n",
       "Brent                 471557.43302  \n",
       "Bromley               431228.52308  \n",
       "Camden                 699608.1119  \n",
       "Croydon               332352.83775  \n",
       "Ealing                419451.10931  \n",
       "Enfield               377591.30904  \n",
       "Greenwich             363780.89831  \n",
       "Hackney               578420.47363  \n",
       "Hammersmith & Fulham   591145.1398  \n",
       "Haringey              498086.43053  \n",
       "Harrow                431490.47401  \n",
       "Havering              351020.86226  \n",
       "Hillingdon            373425.17036  \n",
       "Hounslow              400690.29463  \n",
       "Islington             645022.51443  \n",
       "Kensington & Chelsea  1169780.1674  \n",
       "Kingston upon Thames  476167.15157  \n",
       "Lambeth               504441.01157  \n",
       "Lewisham              391748.73891  \n",
       "Merton                 492969.3867  \n",
       "Newham                379624.68081  \n",
       "Redbridge             419147.41563  \n",
       "Richmond upon Thames   697135.8755  \n",
       "Southwark             470777.79656  \n",
       "Sutton                367893.02643  \n",
       "Tower Hamlets         390328.81005  \n",
       "Waltham Forest        447479.55087  \n",
       "Wandsworth            539688.95619  \n",
       "\n",
       "[32 rows x 345 columns]"
      ]
     },
     "execution_count": 34,
     "metadata": {},
     "output_type": "execute_result"
    }
   ],
   "source": [
    "tmpDf.cumsum(axis=1)"
   ]
  },
  {
   "cell_type": "code",
   "execution_count": 35,
   "id": "82cd32b9",
   "metadata": {},
   "outputs": [],
   "source": [
    "lst=[0.1865530237215323,\n",
    " 0.2031506829950872,\n",
    " 0.22767858352744275,\n",
    " 0.23342505427984456,\n",
    " 0.20194037630771233,\n",
    " 0.2418750472199296,\n",
    " 0.20266979018130085,\n",
    " 0.2356901109638676,\n",
    " 0.2312347720059324,\n",
    " 0.2336344932412798,\n",
    " 0.20789311864129992,\n",
    " 0.1591879415667593,\n",
    " 0.2404707793640174,\n",
    " 0.19373303029045455,\n",
    " 0.2442760761461356,\n",
    " 0.22961054730948405,\n",
    " 0.23635179169692055,\n",
    " 0.2492858397689723,\n",
    " 0.20439595996303264,\n",
    " 0.1964634916904271,\n",
    " 0.23252018956439635,\n",
    " 0.19947058467045872,\n",
    " 0.18267753453916727,\n",
    " 0.2100266611046671,\n",
    " 0.1872116609159464,\n",
    " 0.22300689473290425,\n",
    " 0.24621185459796358,\n",
    " 0.1789317277535508,\n",
    " 0.24111343121969114,\n",
    " 0.21234586253457458,\n",
    " 0.17023055505257234,\n",
    " 0.20871076380852469]"
   ]
  },
  {
   "cell_type": "code",
   "execution_count": 37,
   "id": "600d6d9e",
   "metadata": {},
   "outputs": [],
   "source": [
    "dfLst=pd.DataFrame(lst)"
   ]
  },
  {
   "cell_type": "code",
   "execution_count": 54,
   "id": "04e7eeb1",
   "metadata": {},
   "outputs": [],
   "source": [
    "# dfLst.index\n",
    "\n",
    "ratioDistance=dfLst.join(df['distFromLon (km)'])\n",
    "ratioDistance.columns=['Ratio Perc', 'Distance from London (km)']"
   ]
  },
  {
   "cell_type": "code",
   "execution_count": 66,
   "id": "b80f83b5",
   "metadata": {},
   "outputs": [
    {
     "data": {
      "application/vnd.plotly.v1+json": {
       "config": {
        "plotlyServerURL": "https://plot.ly"
       },
       "data": [
        {
         "alignmentgroup": "True",
         "hovertemplate": "Distance from London (km)=%{x}<br>Ratio Perc=%{y}<extra></extra>",
         "legendgroup": "",
         "marker": {
          "color": "black",
          "pattern": {
           "shape": ""
          }
         },
         "name": "",
         "offsetgroup": "",
         "orientation": "v",
         "showlegend": false,
         "textposition": "auto",
         "type": "bar",
         "width": 0.1,
         "x": [
          0,
          3.7231684467536934,
          7.27306849893464,
          10.160583093394965,
          9.48130649261904,
          6.322539824543259,
          1.5664022030669782,
          6.0233604693588365,
          4.16284789492341,
          2.9856161950027333,
          2.756412095481797,
          14.003045823854993,
          15.045632474121383,
          19.686870384018107,
          17.898540544049755,
          19.061098357792513,
          14.594407019939032,
          18.520635266397107,
          16.036658074251694,
          14.654616691910524,
          9.257906441819351,
          11.287461679429125,
          18.15686520691674,
          20.486772699030467,
          17.92003081700597,
          12.512433584879084,
          9.695637178577574,
          10.002976870216113,
          9.500135754629762,
          15.410781064580906,
          12.883465693228418,
          18.735296447224812
         ],
         "xaxis": "x",
         "y": [
          0.1865530237215323,
          0.2031506829950872,
          0.22767858352744275,
          0.23342505427984456,
          0.20194037630771233,
          0.2418750472199296,
          0.20266979018130085,
          0.2356901109638676,
          0.2312347720059324,
          0.2336344932412798,
          0.20789311864129992,
          0.1591879415667593,
          0.2404707793640174,
          0.19373303029045455,
          0.2442760761461356,
          0.22961054730948405,
          0.23635179169692055,
          0.2492858397689723,
          0.20439595996303264,
          0.1964634916904271,
          0.23252018956439635,
          0.19947058467045872,
          0.18267753453916727,
          0.2100266611046671,
          0.1872116609159464,
          0.22300689473290425,
          0.24621185459796358,
          0.1789317277535508,
          0.24111343121969114,
          0.21234586253457458,
          0.17023055505257234,
          0.20871076380852469
         ],
         "yaxis": "y"
        }
       ],
       "layout": {
        "barmode": "relative",
        "legend": {
         "tracegroupgap": 0
        },
        "margin": {
         "t": 60
        },
        "template": {
         "data": {
          "bar": [
           {
            "error_x": {
             "color": "#2a3f5f"
            },
            "error_y": {
             "color": "#2a3f5f"
            },
            "marker": {
             "line": {
              "color": "#E5ECF6",
              "width": 0.5
             },
             "pattern": {
              "fillmode": "overlay",
              "size": 10,
              "solidity": 0.2
             }
            },
            "type": "bar"
           }
          ],
          "barpolar": [
           {
            "marker": {
             "line": {
              "color": "#E5ECF6",
              "width": 0.5
             },
             "pattern": {
              "fillmode": "overlay",
              "size": 10,
              "solidity": 0.2
             }
            },
            "type": "barpolar"
           }
          ],
          "carpet": [
           {
            "aaxis": {
             "endlinecolor": "#2a3f5f",
             "gridcolor": "white",
             "linecolor": "white",
             "minorgridcolor": "white",
             "startlinecolor": "#2a3f5f"
            },
            "baxis": {
             "endlinecolor": "#2a3f5f",
             "gridcolor": "white",
             "linecolor": "white",
             "minorgridcolor": "white",
             "startlinecolor": "#2a3f5f"
            },
            "type": "carpet"
           }
          ],
          "choropleth": [
           {
            "colorbar": {
             "outlinewidth": 0,
             "ticks": ""
            },
            "type": "choropleth"
           }
          ],
          "contour": [
           {
            "colorbar": {
             "outlinewidth": 0,
             "ticks": ""
            },
            "colorscale": [
             [
              0,
              "#0d0887"
             ],
             [
              0.1111111111111111,
              "#46039f"
             ],
             [
              0.2222222222222222,
              "#7201a8"
             ],
             [
              0.3333333333333333,
              "#9c179e"
             ],
             [
              0.4444444444444444,
              "#bd3786"
             ],
             [
              0.5555555555555556,
              "#d8576b"
             ],
             [
              0.6666666666666666,
              "#ed7953"
             ],
             [
              0.7777777777777778,
              "#fb9f3a"
             ],
             [
              0.8888888888888888,
              "#fdca26"
             ],
             [
              1,
              "#f0f921"
             ]
            ],
            "type": "contour"
           }
          ],
          "contourcarpet": [
           {
            "colorbar": {
             "outlinewidth": 0,
             "ticks": ""
            },
            "type": "contourcarpet"
           }
          ],
          "heatmap": [
           {
            "colorbar": {
             "outlinewidth": 0,
             "ticks": ""
            },
            "colorscale": [
             [
              0,
              "#0d0887"
             ],
             [
              0.1111111111111111,
              "#46039f"
             ],
             [
              0.2222222222222222,
              "#7201a8"
             ],
             [
              0.3333333333333333,
              "#9c179e"
             ],
             [
              0.4444444444444444,
              "#bd3786"
             ],
             [
              0.5555555555555556,
              "#d8576b"
             ],
             [
              0.6666666666666666,
              "#ed7953"
             ],
             [
              0.7777777777777778,
              "#fb9f3a"
             ],
             [
              0.8888888888888888,
              "#fdca26"
             ],
             [
              1,
              "#f0f921"
             ]
            ],
            "type": "heatmap"
           }
          ],
          "heatmapgl": [
           {
            "colorbar": {
             "outlinewidth": 0,
             "ticks": ""
            },
            "colorscale": [
             [
              0,
              "#0d0887"
             ],
             [
              0.1111111111111111,
              "#46039f"
             ],
             [
              0.2222222222222222,
              "#7201a8"
             ],
             [
              0.3333333333333333,
              "#9c179e"
             ],
             [
              0.4444444444444444,
              "#bd3786"
             ],
             [
              0.5555555555555556,
              "#d8576b"
             ],
             [
              0.6666666666666666,
              "#ed7953"
             ],
             [
              0.7777777777777778,
              "#fb9f3a"
             ],
             [
              0.8888888888888888,
              "#fdca26"
             ],
             [
              1,
              "#f0f921"
             ]
            ],
            "type": "heatmapgl"
           }
          ],
          "histogram": [
           {
            "marker": {
             "pattern": {
              "fillmode": "overlay",
              "size": 10,
              "solidity": 0.2
             }
            },
            "type": "histogram"
           }
          ],
          "histogram2d": [
           {
            "colorbar": {
             "outlinewidth": 0,
             "ticks": ""
            },
            "colorscale": [
             [
              0,
              "#0d0887"
             ],
             [
              0.1111111111111111,
              "#46039f"
             ],
             [
              0.2222222222222222,
              "#7201a8"
             ],
             [
              0.3333333333333333,
              "#9c179e"
             ],
             [
              0.4444444444444444,
              "#bd3786"
             ],
             [
              0.5555555555555556,
              "#d8576b"
             ],
             [
              0.6666666666666666,
              "#ed7953"
             ],
             [
              0.7777777777777778,
              "#fb9f3a"
             ],
             [
              0.8888888888888888,
              "#fdca26"
             ],
             [
              1,
              "#f0f921"
             ]
            ],
            "type": "histogram2d"
           }
          ],
          "histogram2dcontour": [
           {
            "colorbar": {
             "outlinewidth": 0,
             "ticks": ""
            },
            "colorscale": [
             [
              0,
              "#0d0887"
             ],
             [
              0.1111111111111111,
              "#46039f"
             ],
             [
              0.2222222222222222,
              "#7201a8"
             ],
             [
              0.3333333333333333,
              "#9c179e"
             ],
             [
              0.4444444444444444,
              "#bd3786"
             ],
             [
              0.5555555555555556,
              "#d8576b"
             ],
             [
              0.6666666666666666,
              "#ed7953"
             ],
             [
              0.7777777777777778,
              "#fb9f3a"
             ],
             [
              0.8888888888888888,
              "#fdca26"
             ],
             [
              1,
              "#f0f921"
             ]
            ],
            "type": "histogram2dcontour"
           }
          ],
          "mesh3d": [
           {
            "colorbar": {
             "outlinewidth": 0,
             "ticks": ""
            },
            "type": "mesh3d"
           }
          ],
          "parcoords": [
           {
            "line": {
             "colorbar": {
              "outlinewidth": 0,
              "ticks": ""
             }
            },
            "type": "parcoords"
           }
          ],
          "pie": [
           {
            "automargin": true,
            "type": "pie"
           }
          ],
          "scatter": [
           {
            "fillpattern": {
             "fillmode": "overlay",
             "size": 10,
             "solidity": 0.2
            },
            "type": "scatter"
           }
          ],
          "scatter3d": [
           {
            "line": {
             "colorbar": {
              "outlinewidth": 0,
              "ticks": ""
             }
            },
            "marker": {
             "colorbar": {
              "outlinewidth": 0,
              "ticks": ""
             }
            },
            "type": "scatter3d"
           }
          ],
          "scattercarpet": [
           {
            "marker": {
             "colorbar": {
              "outlinewidth": 0,
              "ticks": ""
             }
            },
            "type": "scattercarpet"
           }
          ],
          "scattergeo": [
           {
            "marker": {
             "colorbar": {
              "outlinewidth": 0,
              "ticks": ""
             }
            },
            "type": "scattergeo"
           }
          ],
          "scattergl": [
           {
            "marker": {
             "colorbar": {
              "outlinewidth": 0,
              "ticks": ""
             }
            },
            "type": "scattergl"
           }
          ],
          "scattermapbox": [
           {
            "marker": {
             "colorbar": {
              "outlinewidth": 0,
              "ticks": ""
             }
            },
            "type": "scattermapbox"
           }
          ],
          "scatterpolar": [
           {
            "marker": {
             "colorbar": {
              "outlinewidth": 0,
              "ticks": ""
             }
            },
            "type": "scatterpolar"
           }
          ],
          "scatterpolargl": [
           {
            "marker": {
             "colorbar": {
              "outlinewidth": 0,
              "ticks": ""
             }
            },
            "type": "scatterpolargl"
           }
          ],
          "scatterternary": [
           {
            "marker": {
             "colorbar": {
              "outlinewidth": 0,
              "ticks": ""
             }
            },
            "type": "scatterternary"
           }
          ],
          "surface": [
           {
            "colorbar": {
             "outlinewidth": 0,
             "ticks": ""
            },
            "colorscale": [
             [
              0,
              "#0d0887"
             ],
             [
              0.1111111111111111,
              "#46039f"
             ],
             [
              0.2222222222222222,
              "#7201a8"
             ],
             [
              0.3333333333333333,
              "#9c179e"
             ],
             [
              0.4444444444444444,
              "#bd3786"
             ],
             [
              0.5555555555555556,
              "#d8576b"
             ],
             [
              0.6666666666666666,
              "#ed7953"
             ],
             [
              0.7777777777777778,
              "#fb9f3a"
             ],
             [
              0.8888888888888888,
              "#fdca26"
             ],
             [
              1,
              "#f0f921"
             ]
            ],
            "type": "surface"
           }
          ],
          "table": [
           {
            "cells": {
             "fill": {
              "color": "#EBF0F8"
             },
             "line": {
              "color": "white"
             }
            },
            "header": {
             "fill": {
              "color": "#C8D4E3"
             },
             "line": {
              "color": "white"
             }
            },
            "type": "table"
           }
          ]
         },
         "layout": {
          "annotationdefaults": {
           "arrowcolor": "#2a3f5f",
           "arrowhead": 0,
           "arrowwidth": 1
          },
          "autotypenumbers": "strict",
          "coloraxis": {
           "colorbar": {
            "outlinewidth": 0,
            "ticks": ""
           }
          },
          "colorscale": {
           "diverging": [
            [
             0,
             "#8e0152"
            ],
            [
             0.1,
             "#c51b7d"
            ],
            [
             0.2,
             "#de77ae"
            ],
            [
             0.3,
             "#f1b6da"
            ],
            [
             0.4,
             "#fde0ef"
            ],
            [
             0.5,
             "#f7f7f7"
            ],
            [
             0.6,
             "#e6f5d0"
            ],
            [
             0.7,
             "#b8e186"
            ],
            [
             0.8,
             "#7fbc41"
            ],
            [
             0.9,
             "#4d9221"
            ],
            [
             1,
             "#276419"
            ]
           ],
           "sequential": [
            [
             0,
             "#0d0887"
            ],
            [
             0.1111111111111111,
             "#46039f"
            ],
            [
             0.2222222222222222,
             "#7201a8"
            ],
            [
             0.3333333333333333,
             "#9c179e"
            ],
            [
             0.4444444444444444,
             "#bd3786"
            ],
            [
             0.5555555555555556,
             "#d8576b"
            ],
            [
             0.6666666666666666,
             "#ed7953"
            ],
            [
             0.7777777777777778,
             "#fb9f3a"
            ],
            [
             0.8888888888888888,
             "#fdca26"
            ],
            [
             1,
             "#f0f921"
            ]
           ],
           "sequentialminus": [
            [
             0,
             "#0d0887"
            ],
            [
             0.1111111111111111,
             "#46039f"
            ],
            [
             0.2222222222222222,
             "#7201a8"
            ],
            [
             0.3333333333333333,
             "#9c179e"
            ],
            [
             0.4444444444444444,
             "#bd3786"
            ],
            [
             0.5555555555555556,
             "#d8576b"
            ],
            [
             0.6666666666666666,
             "#ed7953"
            ],
            [
             0.7777777777777778,
             "#fb9f3a"
            ],
            [
             0.8888888888888888,
             "#fdca26"
            ],
            [
             1,
             "#f0f921"
            ]
           ]
          },
          "colorway": [
           "#636efa",
           "#EF553B",
           "#00cc96",
           "#ab63fa",
           "#FFA15A",
           "#19d3f3",
           "#FF6692",
           "#B6E880",
           "#FF97FF",
           "#FECB52"
          ],
          "font": {
           "color": "#2a3f5f"
          },
          "geo": {
           "bgcolor": "white",
           "lakecolor": "white",
           "landcolor": "#E5ECF6",
           "showlakes": true,
           "showland": true,
           "subunitcolor": "white"
          },
          "hoverlabel": {
           "align": "left"
          },
          "hovermode": "closest",
          "mapbox": {
           "style": "light"
          },
          "paper_bgcolor": "white",
          "plot_bgcolor": "#E5ECF6",
          "polar": {
           "angularaxis": {
            "gridcolor": "white",
            "linecolor": "white",
            "ticks": ""
           },
           "bgcolor": "#E5ECF6",
           "radialaxis": {
            "gridcolor": "white",
            "linecolor": "white",
            "ticks": ""
           }
          },
          "scene": {
           "xaxis": {
            "backgroundcolor": "#E5ECF6",
            "gridcolor": "white",
            "gridwidth": 2,
            "linecolor": "white",
            "showbackground": true,
            "ticks": "",
            "zerolinecolor": "white"
           },
           "yaxis": {
            "backgroundcolor": "#E5ECF6",
            "gridcolor": "white",
            "gridwidth": 2,
            "linecolor": "white",
            "showbackground": true,
            "ticks": "",
            "zerolinecolor": "white"
           },
           "zaxis": {
            "backgroundcolor": "#E5ECF6",
            "gridcolor": "white",
            "gridwidth": 2,
            "linecolor": "white",
            "showbackground": true,
            "ticks": "",
            "zerolinecolor": "white"
           }
          },
          "shapedefaults": {
           "line": {
            "color": "#2a3f5f"
           }
          },
          "ternary": {
           "aaxis": {
            "gridcolor": "white",
            "linecolor": "white",
            "ticks": ""
           },
           "baxis": {
            "gridcolor": "white",
            "linecolor": "white",
            "ticks": ""
           },
           "bgcolor": "#E5ECF6",
           "caxis": {
            "gridcolor": "white",
            "linecolor": "white",
            "ticks": ""
           }
          },
          "title": {
           "x": 0.05
          },
          "xaxis": {
           "automargin": true,
           "gridcolor": "white",
           "linecolor": "white",
           "ticks": "",
           "title": {
            "standoff": 15
           },
           "zerolinecolor": "white",
           "zerolinewidth": 2
          },
          "yaxis": {
           "automargin": true,
           "gridcolor": "white",
           "linecolor": "white",
           "ticks": "",
           "title": {
            "standoff": 15
           },
           "zerolinecolor": "white",
           "zerolinewidth": 2
          }
         }
        },
        "xaxis": {
         "anchor": "y",
         "domain": [
          0,
          1
         ],
         "title": {
          "text": "Distance from London (km)"
         }
        },
        "yaxis": {
         "anchor": "x",
         "domain": [
          0,
          1
         ],
         "title": {
          "text": "Ratio Perc"
         }
        }
       }
      },
      "text/html": [
       "<div>                            <div id=\"dbca9674-a4c0-4d3c-be44-fd03424dd14a\" class=\"plotly-graph-div\" style=\"height:525px; width:100%;\"></div>            <script type=\"text/javascript\">                require([\"plotly\"], function(Plotly) {                    window.PLOTLYENV=window.PLOTLYENV || {};                                    if (document.getElementById(\"dbca9674-a4c0-4d3c-be44-fd03424dd14a\")) {                    Plotly.newPlot(                        \"dbca9674-a4c0-4d3c-be44-fd03424dd14a\",                        [{\"alignmentgroup\":\"True\",\"hovertemplate\":\"Distance from London (km)=%{x}<br>Ratio Perc=%{y}<extra></extra>\",\"legendgroup\":\"\",\"marker\":{\"color\":\"black\",\"pattern\":{\"shape\":\"\"}},\"name\":\"\",\"offsetgroup\":\"\",\"orientation\":\"v\",\"showlegend\":false,\"textposition\":\"auto\",\"x\":[0.0,3.7231684467536934,7.27306849893464,10.160583093394965,9.48130649261904,6.322539824543259,1.5664022030669782,6.0233604693588365,4.16284789492341,2.9856161950027333,2.756412095481797,14.003045823854993,15.045632474121383,19.686870384018107,17.898540544049755,19.061098357792513,14.594407019939032,18.520635266397107,16.036658074251694,14.654616691910524,9.257906441819351,11.287461679429125,18.15686520691674,20.486772699030467,17.92003081700597,12.512433584879084,9.695637178577574,10.002976870216113,9.500135754629762,15.410781064580906,12.883465693228418,18.735296447224812],\"xaxis\":\"x\",\"y\":[0.1865530237215323,0.2031506829950872,0.22767858352744275,0.23342505427984456,0.20194037630771233,0.2418750472199296,0.20266979018130085,0.2356901109638676,0.2312347720059324,0.2336344932412798,0.20789311864129992,0.1591879415667593,0.2404707793640174,0.19373303029045455,0.2442760761461356,0.22961054730948405,0.23635179169692055,0.2492858397689723,0.20439595996303264,0.1964634916904271,0.23252018956439635,0.19947058467045872,0.18267753453916727,0.2100266611046671,0.1872116609159464,0.22300689473290425,0.24621185459796358,0.1789317277535508,0.24111343121969114,0.21234586253457458,0.17023055505257234,0.20871076380852469],\"yaxis\":\"y\",\"type\":\"bar\",\"width\":0.1}],                        {\"template\":{\"data\":{\"histogram2dcontour\":[{\"type\":\"histogram2dcontour\",\"colorbar\":{\"outlinewidth\":0,\"ticks\":\"\"},\"colorscale\":[[0.0,\"#0d0887\"],[0.1111111111111111,\"#46039f\"],[0.2222222222222222,\"#7201a8\"],[0.3333333333333333,\"#9c179e\"],[0.4444444444444444,\"#bd3786\"],[0.5555555555555556,\"#d8576b\"],[0.6666666666666666,\"#ed7953\"],[0.7777777777777778,\"#fb9f3a\"],[0.8888888888888888,\"#fdca26\"],[1.0,\"#f0f921\"]]}],\"choropleth\":[{\"type\":\"choropleth\",\"colorbar\":{\"outlinewidth\":0,\"ticks\":\"\"}}],\"histogram2d\":[{\"type\":\"histogram2d\",\"colorbar\":{\"outlinewidth\":0,\"ticks\":\"\"},\"colorscale\":[[0.0,\"#0d0887\"],[0.1111111111111111,\"#46039f\"],[0.2222222222222222,\"#7201a8\"],[0.3333333333333333,\"#9c179e\"],[0.4444444444444444,\"#bd3786\"],[0.5555555555555556,\"#d8576b\"],[0.6666666666666666,\"#ed7953\"],[0.7777777777777778,\"#fb9f3a\"],[0.8888888888888888,\"#fdca26\"],[1.0,\"#f0f921\"]]}],\"heatmap\":[{\"type\":\"heatmap\",\"colorbar\":{\"outlinewidth\":0,\"ticks\":\"\"},\"colorscale\":[[0.0,\"#0d0887\"],[0.1111111111111111,\"#46039f\"],[0.2222222222222222,\"#7201a8\"],[0.3333333333333333,\"#9c179e\"],[0.4444444444444444,\"#bd3786\"],[0.5555555555555556,\"#d8576b\"],[0.6666666666666666,\"#ed7953\"],[0.7777777777777778,\"#fb9f3a\"],[0.8888888888888888,\"#fdca26\"],[1.0,\"#f0f921\"]]}],\"heatmapgl\":[{\"type\":\"heatmapgl\",\"colorbar\":{\"outlinewidth\":0,\"ticks\":\"\"},\"colorscale\":[[0.0,\"#0d0887\"],[0.1111111111111111,\"#46039f\"],[0.2222222222222222,\"#7201a8\"],[0.3333333333333333,\"#9c179e\"],[0.4444444444444444,\"#bd3786\"],[0.5555555555555556,\"#d8576b\"],[0.6666666666666666,\"#ed7953\"],[0.7777777777777778,\"#fb9f3a\"],[0.8888888888888888,\"#fdca26\"],[1.0,\"#f0f921\"]]}],\"contourcarpet\":[{\"type\":\"contourcarpet\",\"colorbar\":{\"outlinewidth\":0,\"ticks\":\"\"}}],\"contour\":[{\"type\":\"contour\",\"colorbar\":{\"outlinewidth\":0,\"ticks\":\"\"},\"colorscale\":[[0.0,\"#0d0887\"],[0.1111111111111111,\"#46039f\"],[0.2222222222222222,\"#7201a8\"],[0.3333333333333333,\"#9c179e\"],[0.4444444444444444,\"#bd3786\"],[0.5555555555555556,\"#d8576b\"],[0.6666666666666666,\"#ed7953\"],[0.7777777777777778,\"#fb9f3a\"],[0.8888888888888888,\"#fdca26\"],[1.0,\"#f0f921\"]]}],\"surface\":[{\"type\":\"surface\",\"colorbar\":{\"outlinewidth\":0,\"ticks\":\"\"},\"colorscale\":[[0.0,\"#0d0887\"],[0.1111111111111111,\"#46039f\"],[0.2222222222222222,\"#7201a8\"],[0.3333333333333333,\"#9c179e\"],[0.4444444444444444,\"#bd3786\"],[0.5555555555555556,\"#d8576b\"],[0.6666666666666666,\"#ed7953\"],[0.7777777777777778,\"#fb9f3a\"],[0.8888888888888888,\"#fdca26\"],[1.0,\"#f0f921\"]]}],\"mesh3d\":[{\"type\":\"mesh3d\",\"colorbar\":{\"outlinewidth\":0,\"ticks\":\"\"}}],\"scatter\":[{\"fillpattern\":{\"fillmode\":\"overlay\",\"size\":10,\"solidity\":0.2},\"type\":\"scatter\"}],\"parcoords\":[{\"type\":\"parcoords\",\"line\":{\"colorbar\":{\"outlinewidth\":0,\"ticks\":\"\"}}}],\"scatterpolargl\":[{\"type\":\"scatterpolargl\",\"marker\":{\"colorbar\":{\"outlinewidth\":0,\"ticks\":\"\"}}}],\"bar\":[{\"error_x\":{\"color\":\"#2a3f5f\"},\"error_y\":{\"color\":\"#2a3f5f\"},\"marker\":{\"line\":{\"color\":\"#E5ECF6\",\"width\":0.5},\"pattern\":{\"fillmode\":\"overlay\",\"size\":10,\"solidity\":0.2}},\"type\":\"bar\"}],\"scattergeo\":[{\"type\":\"scattergeo\",\"marker\":{\"colorbar\":{\"outlinewidth\":0,\"ticks\":\"\"}}}],\"scatterpolar\":[{\"type\":\"scatterpolar\",\"marker\":{\"colorbar\":{\"outlinewidth\":0,\"ticks\":\"\"}}}],\"histogram\":[{\"marker\":{\"pattern\":{\"fillmode\":\"overlay\",\"size\":10,\"solidity\":0.2}},\"type\":\"histogram\"}],\"scattergl\":[{\"type\":\"scattergl\",\"marker\":{\"colorbar\":{\"outlinewidth\":0,\"ticks\":\"\"}}}],\"scatter3d\":[{\"type\":\"scatter3d\",\"line\":{\"colorbar\":{\"outlinewidth\":0,\"ticks\":\"\"}},\"marker\":{\"colorbar\":{\"outlinewidth\":0,\"ticks\":\"\"}}}],\"scattermapbox\":[{\"type\":\"scattermapbox\",\"marker\":{\"colorbar\":{\"outlinewidth\":0,\"ticks\":\"\"}}}],\"scatterternary\":[{\"type\":\"scatterternary\",\"marker\":{\"colorbar\":{\"outlinewidth\":0,\"ticks\":\"\"}}}],\"scattercarpet\":[{\"type\":\"scattercarpet\",\"marker\":{\"colorbar\":{\"outlinewidth\":0,\"ticks\":\"\"}}}],\"carpet\":[{\"aaxis\":{\"endlinecolor\":\"#2a3f5f\",\"gridcolor\":\"white\",\"linecolor\":\"white\",\"minorgridcolor\":\"white\",\"startlinecolor\":\"#2a3f5f\"},\"baxis\":{\"endlinecolor\":\"#2a3f5f\",\"gridcolor\":\"white\",\"linecolor\":\"white\",\"minorgridcolor\":\"white\",\"startlinecolor\":\"#2a3f5f\"},\"type\":\"carpet\"}],\"table\":[{\"cells\":{\"fill\":{\"color\":\"#EBF0F8\"},\"line\":{\"color\":\"white\"}},\"header\":{\"fill\":{\"color\":\"#C8D4E3\"},\"line\":{\"color\":\"white\"}},\"type\":\"table\"}],\"barpolar\":[{\"marker\":{\"line\":{\"color\":\"#E5ECF6\",\"width\":0.5},\"pattern\":{\"fillmode\":\"overlay\",\"size\":10,\"solidity\":0.2}},\"type\":\"barpolar\"}],\"pie\":[{\"automargin\":true,\"type\":\"pie\"}]},\"layout\":{\"autotypenumbers\":\"strict\",\"colorway\":[\"#636efa\",\"#EF553B\",\"#00cc96\",\"#ab63fa\",\"#FFA15A\",\"#19d3f3\",\"#FF6692\",\"#B6E880\",\"#FF97FF\",\"#FECB52\"],\"font\":{\"color\":\"#2a3f5f\"},\"hovermode\":\"closest\",\"hoverlabel\":{\"align\":\"left\"},\"paper_bgcolor\":\"white\",\"plot_bgcolor\":\"#E5ECF6\",\"polar\":{\"bgcolor\":\"#E5ECF6\",\"angularaxis\":{\"gridcolor\":\"white\",\"linecolor\":\"white\",\"ticks\":\"\"},\"radialaxis\":{\"gridcolor\":\"white\",\"linecolor\":\"white\",\"ticks\":\"\"}},\"ternary\":{\"bgcolor\":\"#E5ECF6\",\"aaxis\":{\"gridcolor\":\"white\",\"linecolor\":\"white\",\"ticks\":\"\"},\"baxis\":{\"gridcolor\":\"white\",\"linecolor\":\"white\",\"ticks\":\"\"},\"caxis\":{\"gridcolor\":\"white\",\"linecolor\":\"white\",\"ticks\":\"\"}},\"coloraxis\":{\"colorbar\":{\"outlinewidth\":0,\"ticks\":\"\"}},\"colorscale\":{\"sequential\":[[0.0,\"#0d0887\"],[0.1111111111111111,\"#46039f\"],[0.2222222222222222,\"#7201a8\"],[0.3333333333333333,\"#9c179e\"],[0.4444444444444444,\"#bd3786\"],[0.5555555555555556,\"#d8576b\"],[0.6666666666666666,\"#ed7953\"],[0.7777777777777778,\"#fb9f3a\"],[0.8888888888888888,\"#fdca26\"],[1.0,\"#f0f921\"]],\"sequentialminus\":[[0.0,\"#0d0887\"],[0.1111111111111111,\"#46039f\"],[0.2222222222222222,\"#7201a8\"],[0.3333333333333333,\"#9c179e\"],[0.4444444444444444,\"#bd3786\"],[0.5555555555555556,\"#d8576b\"],[0.6666666666666666,\"#ed7953\"],[0.7777777777777778,\"#fb9f3a\"],[0.8888888888888888,\"#fdca26\"],[1.0,\"#f0f921\"]],\"diverging\":[[0,\"#8e0152\"],[0.1,\"#c51b7d\"],[0.2,\"#de77ae\"],[0.3,\"#f1b6da\"],[0.4,\"#fde0ef\"],[0.5,\"#f7f7f7\"],[0.6,\"#e6f5d0\"],[0.7,\"#b8e186\"],[0.8,\"#7fbc41\"],[0.9,\"#4d9221\"],[1,\"#276419\"]]},\"xaxis\":{\"gridcolor\":\"white\",\"linecolor\":\"white\",\"ticks\":\"\",\"title\":{\"standoff\":15},\"zerolinecolor\":\"white\",\"automargin\":true,\"zerolinewidth\":2},\"yaxis\":{\"gridcolor\":\"white\",\"linecolor\":\"white\",\"ticks\":\"\",\"title\":{\"standoff\":15},\"zerolinecolor\":\"white\",\"automargin\":true,\"zerolinewidth\":2},\"scene\":{\"xaxis\":{\"backgroundcolor\":\"#E5ECF6\",\"gridcolor\":\"white\",\"linecolor\":\"white\",\"showbackground\":true,\"ticks\":\"\",\"zerolinecolor\":\"white\",\"gridwidth\":2},\"yaxis\":{\"backgroundcolor\":\"#E5ECF6\",\"gridcolor\":\"white\",\"linecolor\":\"white\",\"showbackground\":true,\"ticks\":\"\",\"zerolinecolor\":\"white\",\"gridwidth\":2},\"zaxis\":{\"backgroundcolor\":\"#E5ECF6\",\"gridcolor\":\"white\",\"linecolor\":\"white\",\"showbackground\":true,\"ticks\":\"\",\"zerolinecolor\":\"white\",\"gridwidth\":2}},\"shapedefaults\":{\"line\":{\"color\":\"#2a3f5f\"}},\"annotationdefaults\":{\"arrowcolor\":\"#2a3f5f\",\"arrowhead\":0,\"arrowwidth\":1},\"geo\":{\"bgcolor\":\"white\",\"landcolor\":\"#E5ECF6\",\"subunitcolor\":\"white\",\"showland\":true,\"showlakes\":true,\"lakecolor\":\"white\"},\"title\":{\"x\":0.05},\"mapbox\":{\"style\":\"light\"}}},\"xaxis\":{\"anchor\":\"y\",\"domain\":[0.0,1.0],\"title\":{\"text\":\"Distance from London (km)\"}},\"yaxis\":{\"anchor\":\"x\",\"domain\":[0.0,1.0],\"title\":{\"text\":\"Ratio Perc\"}},\"legend\":{\"tracegroupgap\":0},\"margin\":{\"t\":60},\"barmode\":\"relative\"},                        {\"responsive\": true}                    ).then(function(){\n",
       "                            \n",
       "var gd = document.getElementById('dbca9674-a4c0-4d3c-be44-fd03424dd14a');\n",
       "var x = new MutationObserver(function (mutations, observer) {{\n",
       "        var display = window.getComputedStyle(gd).display;\n",
       "        if (!display || display === 'none') {{\n",
       "            console.log([gd, 'removed!']);\n",
       "            Plotly.purge(gd);\n",
       "            observer.disconnect();\n",
       "        }}\n",
       "}});\n",
       "\n",
       "// Listen for the removal of the full notebook cells\n",
       "var notebookContainer = gd.closest('#notebook-container');\n",
       "if (notebookContainer) {{\n",
       "    x.observe(notebookContainer, {childList: true});\n",
       "}}\n",
       "\n",
       "// Listen for the clearing of the current output cell\n",
       "var outputEl = gd.closest('.output');\n",
       "if (outputEl) {{\n",
       "    x.observe(outputEl, {childList: true});\n",
       "}}\n",
       "\n",
       "                        })                };                });            </script>        </div>"
      ]
     },
     "metadata": {},
     "output_type": "display_data"
    }
   ],
   "source": [
    "fig = px.bar(ratioDistance, y='Ratio Perc', x='Distance from London (km)')\n",
    "fig.update_traces(marker_color='black',width=.1)\n",
    "fig.show()"
   ]
  },
  {
   "cell_type": "code",
   "execution_count": 101,
   "id": "ca4dd23f",
   "metadata": {},
   "outputs": [
    {
     "name": "stdout",
     "output_type": "stream",
     "text": [
      "[(180, 119, 222), (118, 229, 81), (167, 138, 27), (236, 255, 238), (62, 23, 158), (34, 61, 168), (160, 139, 223), (65, 127, 7), (197, 150, 196), (158, 217, 239), (28, 199, 219), (43, 22, 47), (138, 70, 249), (112, 55, 43), (174, 25, 157), (115, 253, 78), (52, 87, 230), (243, 20, 9), (174, 90, 91), (32, 187, 151), (222, 241, 154), (213, 9, 115), (95, 142, 12), (71, 90, 9), (184, 178, 127), (212, 254, 168), (245, 209, 93), (241, 124, 198), (135, 95, 192), (118, 144, 148), (70, 98, 36), (238, 217, 91), (50, 56, 1)]\n"
     ]
    }
   ],
   "source": [
    "import random\n",
    "\n",
    "def hex_to_rgb(hex):\n",
    "  rgb = []\n",
    "  for i in (0, 2, 4):\n",
    "    decimal = int(hex[i:i+2], 16)\n",
    "    rgb.append(decimal)\n",
    "  \n",
    "  return tuple(rgb)\n",
    "\n",
    "# Generating a random number in between 0 and 2^24\n",
    "clr=[]\n",
    "for i in range(0,33):\n",
    "    color = random.randrange(0, 2**24)\n",
    "\n",
    "    # Converting that number from base-10 (decimal) to base-16 (hexadecimal)\n",
    "    hex_color = hex(color)\n",
    "\n",
    "    std_color = hex_color[2:]\n",
    "    \n",
    "    clr.append(hex_to_rgb(std_color))\n",
    "\n",
    "    \n",
    "print(clr)"
   ]
  },
  {
   "cell_type": "code",
   "execution_count": 72,
   "id": "6ff3f378",
   "metadata": {},
   "outputs": [],
   "source": [
    "clr=pd.DataFrame(clr)"
   ]
  },
  {
   "cell_type": "code",
   "execution_count": 77,
   "id": "f5fd2156",
   "metadata": {},
   "outputs": [],
   "source": [
    "rtDist=ratioDistance.join(clr)"
   ]
  },
  {
   "cell_type": "code",
   "execution_count": 80,
   "id": "cfd310a6",
   "metadata": {},
   "outputs": [],
   "source": [
    "rtDist.columns=['Ratio Perc', 'Distance from London (km)', 'color']"
   ]
  },
  {
   "cell_type": "code",
   "execution_count": 90,
   "id": "899b0d49",
   "metadata": {},
   "outputs": [
    {
     "data": {
      "application/vnd.plotly.v1+json": {
       "config": {
        "plotlyServerURL": "https://plot.ly"
       },
       "data": [
        {
         "alignmentgroup": "True",
         "hovertemplate": "Distance from London (km)=%{x}<br>Ratio Perc=%{y}<extra></extra>",
         "legendgroup": "",
         "marker": {
          "color": "#3249b8",
          "pattern": {
           "shape": ""
          }
         },
         "name": "",
         "offsetgroup": "",
         "orientation": "v",
         "showlegend": false,
         "textposition": "auto",
         "type": "bar",
         "width": 0.1,
         "x": [
          0,
          3.7231684467536934,
          7.27306849893464,
          10.160583093394965,
          9.48130649261904,
          6.322539824543259,
          1.5664022030669782,
          6.0233604693588365,
          4.16284789492341,
          2.9856161950027333,
          2.756412095481797,
          14.003045823854993,
          15.045632474121383,
          19.686870384018107,
          17.898540544049755,
          19.061098357792513,
          14.594407019939032,
          18.520635266397107,
          16.036658074251694,
          14.654616691910524,
          9.257906441819351,
          11.287461679429125,
          18.15686520691674,
          20.486772699030467,
          17.92003081700597,
          12.512433584879084,
          9.695637178577574,
          10.002976870216113,
          9.500135754629762,
          15.410781064580906,
          12.883465693228418,
          18.735296447224812
         ],
         "xaxis": "x",
         "y": [
          0.1865530237215323,
          0.2031506829950872,
          0.22767858352744275,
          0.23342505427984456,
          0.20194037630771233,
          0.2418750472199296,
          0.20266979018130085,
          0.2356901109638676,
          0.2312347720059324,
          0.2336344932412798,
          0.20789311864129992,
          0.1591879415667593,
          0.2404707793640174,
          0.19373303029045455,
          0.2442760761461356,
          0.22961054730948405,
          0.23635179169692055,
          0.2492858397689723,
          0.20439595996303264,
          0.1964634916904271,
          0.23252018956439635,
          0.19947058467045872,
          0.18267753453916727,
          0.2100266611046671,
          0.1872116609159464,
          0.22300689473290425,
          0.24621185459796358,
          0.1789317277535508,
          0.24111343121969114,
          0.21234586253457458,
          0.17023055505257234,
          0.20871076380852469
         ],
         "yaxis": "y"
        }
       ],
       "layout": {
        "barmode": "relative",
        "legend": {
         "tracegroupgap": 0
        },
        "margin": {
         "t": 60
        },
        "template": {
         "data": {
          "bar": [
           {
            "error_x": {
             "color": "#2a3f5f"
            },
            "error_y": {
             "color": "#2a3f5f"
            },
            "marker": {
             "line": {
              "color": "#E5ECF6",
              "width": 0.5
             },
             "pattern": {
              "fillmode": "overlay",
              "size": 10,
              "solidity": 0.2
             }
            },
            "type": "bar"
           }
          ],
          "barpolar": [
           {
            "marker": {
             "line": {
              "color": "#E5ECF6",
              "width": 0.5
             },
             "pattern": {
              "fillmode": "overlay",
              "size": 10,
              "solidity": 0.2
             }
            },
            "type": "barpolar"
           }
          ],
          "carpet": [
           {
            "aaxis": {
             "endlinecolor": "#2a3f5f",
             "gridcolor": "white",
             "linecolor": "white",
             "minorgridcolor": "white",
             "startlinecolor": "#2a3f5f"
            },
            "baxis": {
             "endlinecolor": "#2a3f5f",
             "gridcolor": "white",
             "linecolor": "white",
             "minorgridcolor": "white",
             "startlinecolor": "#2a3f5f"
            },
            "type": "carpet"
           }
          ],
          "choropleth": [
           {
            "colorbar": {
             "outlinewidth": 0,
             "ticks": ""
            },
            "type": "choropleth"
           }
          ],
          "contour": [
           {
            "colorbar": {
             "outlinewidth": 0,
             "ticks": ""
            },
            "colorscale": [
             [
              0,
              "#0d0887"
             ],
             [
              0.1111111111111111,
              "#46039f"
             ],
             [
              0.2222222222222222,
              "#7201a8"
             ],
             [
              0.3333333333333333,
              "#9c179e"
             ],
             [
              0.4444444444444444,
              "#bd3786"
             ],
             [
              0.5555555555555556,
              "#d8576b"
             ],
             [
              0.6666666666666666,
              "#ed7953"
             ],
             [
              0.7777777777777778,
              "#fb9f3a"
             ],
             [
              0.8888888888888888,
              "#fdca26"
             ],
             [
              1,
              "#f0f921"
             ]
            ],
            "type": "contour"
           }
          ],
          "contourcarpet": [
           {
            "colorbar": {
             "outlinewidth": 0,
             "ticks": ""
            },
            "type": "contourcarpet"
           }
          ],
          "heatmap": [
           {
            "colorbar": {
             "outlinewidth": 0,
             "ticks": ""
            },
            "colorscale": [
             [
              0,
              "#0d0887"
             ],
             [
              0.1111111111111111,
              "#46039f"
             ],
             [
              0.2222222222222222,
              "#7201a8"
             ],
             [
              0.3333333333333333,
              "#9c179e"
             ],
             [
              0.4444444444444444,
              "#bd3786"
             ],
             [
              0.5555555555555556,
              "#d8576b"
             ],
             [
              0.6666666666666666,
              "#ed7953"
             ],
             [
              0.7777777777777778,
              "#fb9f3a"
             ],
             [
              0.8888888888888888,
              "#fdca26"
             ],
             [
              1,
              "#f0f921"
             ]
            ],
            "type": "heatmap"
           }
          ],
          "heatmapgl": [
           {
            "colorbar": {
             "outlinewidth": 0,
             "ticks": ""
            },
            "colorscale": [
             [
              0,
              "#0d0887"
             ],
             [
              0.1111111111111111,
              "#46039f"
             ],
             [
              0.2222222222222222,
              "#7201a8"
             ],
             [
              0.3333333333333333,
              "#9c179e"
             ],
             [
              0.4444444444444444,
              "#bd3786"
             ],
             [
              0.5555555555555556,
              "#d8576b"
             ],
             [
              0.6666666666666666,
              "#ed7953"
             ],
             [
              0.7777777777777778,
              "#fb9f3a"
             ],
             [
              0.8888888888888888,
              "#fdca26"
             ],
             [
              1,
              "#f0f921"
             ]
            ],
            "type": "heatmapgl"
           }
          ],
          "histogram": [
           {
            "marker": {
             "pattern": {
              "fillmode": "overlay",
              "size": 10,
              "solidity": 0.2
             }
            },
            "type": "histogram"
           }
          ],
          "histogram2d": [
           {
            "colorbar": {
             "outlinewidth": 0,
             "ticks": ""
            },
            "colorscale": [
             [
              0,
              "#0d0887"
             ],
             [
              0.1111111111111111,
              "#46039f"
             ],
             [
              0.2222222222222222,
              "#7201a8"
             ],
             [
              0.3333333333333333,
              "#9c179e"
             ],
             [
              0.4444444444444444,
              "#bd3786"
             ],
             [
              0.5555555555555556,
              "#d8576b"
             ],
             [
              0.6666666666666666,
              "#ed7953"
             ],
             [
              0.7777777777777778,
              "#fb9f3a"
             ],
             [
              0.8888888888888888,
              "#fdca26"
             ],
             [
              1,
              "#f0f921"
             ]
            ],
            "type": "histogram2d"
           }
          ],
          "histogram2dcontour": [
           {
            "colorbar": {
             "outlinewidth": 0,
             "ticks": ""
            },
            "colorscale": [
             [
              0,
              "#0d0887"
             ],
             [
              0.1111111111111111,
              "#46039f"
             ],
             [
              0.2222222222222222,
              "#7201a8"
             ],
             [
              0.3333333333333333,
              "#9c179e"
             ],
             [
              0.4444444444444444,
              "#bd3786"
             ],
             [
              0.5555555555555556,
              "#d8576b"
             ],
             [
              0.6666666666666666,
              "#ed7953"
             ],
             [
              0.7777777777777778,
              "#fb9f3a"
             ],
             [
              0.8888888888888888,
              "#fdca26"
             ],
             [
              1,
              "#f0f921"
             ]
            ],
            "type": "histogram2dcontour"
           }
          ],
          "mesh3d": [
           {
            "colorbar": {
             "outlinewidth": 0,
             "ticks": ""
            },
            "type": "mesh3d"
           }
          ],
          "parcoords": [
           {
            "line": {
             "colorbar": {
              "outlinewidth": 0,
              "ticks": ""
             }
            },
            "type": "parcoords"
           }
          ],
          "pie": [
           {
            "automargin": true,
            "type": "pie"
           }
          ],
          "scatter": [
           {
            "fillpattern": {
             "fillmode": "overlay",
             "size": 10,
             "solidity": 0.2
            },
            "type": "scatter"
           }
          ],
          "scatter3d": [
           {
            "line": {
             "colorbar": {
              "outlinewidth": 0,
              "ticks": ""
             }
            },
            "marker": {
             "colorbar": {
              "outlinewidth": 0,
              "ticks": ""
             }
            },
            "type": "scatter3d"
           }
          ],
          "scattercarpet": [
           {
            "marker": {
             "colorbar": {
              "outlinewidth": 0,
              "ticks": ""
             }
            },
            "type": "scattercarpet"
           }
          ],
          "scattergeo": [
           {
            "marker": {
             "colorbar": {
              "outlinewidth": 0,
              "ticks": ""
             }
            },
            "type": "scattergeo"
           }
          ],
          "scattergl": [
           {
            "marker": {
             "colorbar": {
              "outlinewidth": 0,
              "ticks": ""
             }
            },
            "type": "scattergl"
           }
          ],
          "scattermapbox": [
           {
            "marker": {
             "colorbar": {
              "outlinewidth": 0,
              "ticks": ""
             }
            },
            "type": "scattermapbox"
           }
          ],
          "scatterpolar": [
           {
            "marker": {
             "colorbar": {
              "outlinewidth": 0,
              "ticks": ""
             }
            },
            "type": "scatterpolar"
           }
          ],
          "scatterpolargl": [
           {
            "marker": {
             "colorbar": {
              "outlinewidth": 0,
              "ticks": ""
             }
            },
            "type": "scatterpolargl"
           }
          ],
          "scatterternary": [
           {
            "marker": {
             "colorbar": {
              "outlinewidth": 0,
              "ticks": ""
             }
            },
            "type": "scatterternary"
           }
          ],
          "surface": [
           {
            "colorbar": {
             "outlinewidth": 0,
             "ticks": ""
            },
            "colorscale": [
             [
              0,
              "#0d0887"
             ],
             [
              0.1111111111111111,
              "#46039f"
             ],
             [
              0.2222222222222222,
              "#7201a8"
             ],
             [
              0.3333333333333333,
              "#9c179e"
             ],
             [
              0.4444444444444444,
              "#bd3786"
             ],
             [
              0.5555555555555556,
              "#d8576b"
             ],
             [
              0.6666666666666666,
              "#ed7953"
             ],
             [
              0.7777777777777778,
              "#fb9f3a"
             ],
             [
              0.8888888888888888,
              "#fdca26"
             ],
             [
              1,
              "#f0f921"
             ]
            ],
            "type": "surface"
           }
          ],
          "table": [
           {
            "cells": {
             "fill": {
              "color": "#EBF0F8"
             },
             "line": {
              "color": "white"
             }
            },
            "header": {
             "fill": {
              "color": "#C8D4E3"
             },
             "line": {
              "color": "white"
             }
            },
            "type": "table"
           }
          ]
         },
         "layout": {
          "annotationdefaults": {
           "arrowcolor": "#2a3f5f",
           "arrowhead": 0,
           "arrowwidth": 1
          },
          "autotypenumbers": "strict",
          "coloraxis": {
           "colorbar": {
            "outlinewidth": 0,
            "ticks": ""
           }
          },
          "colorscale": {
           "diverging": [
            [
             0,
             "#8e0152"
            ],
            [
             0.1,
             "#c51b7d"
            ],
            [
             0.2,
             "#de77ae"
            ],
            [
             0.3,
             "#f1b6da"
            ],
            [
             0.4,
             "#fde0ef"
            ],
            [
             0.5,
             "#f7f7f7"
            ],
            [
             0.6,
             "#e6f5d0"
            ],
            [
             0.7,
             "#b8e186"
            ],
            [
             0.8,
             "#7fbc41"
            ],
            [
             0.9,
             "#4d9221"
            ],
            [
             1,
             "#276419"
            ]
           ],
           "sequential": [
            [
             0,
             "#0d0887"
            ],
            [
             0.1111111111111111,
             "#46039f"
            ],
            [
             0.2222222222222222,
             "#7201a8"
            ],
            [
             0.3333333333333333,
             "#9c179e"
            ],
            [
             0.4444444444444444,
             "#bd3786"
            ],
            [
             0.5555555555555556,
             "#d8576b"
            ],
            [
             0.6666666666666666,
             "#ed7953"
            ],
            [
             0.7777777777777778,
             "#fb9f3a"
            ],
            [
             0.8888888888888888,
             "#fdca26"
            ],
            [
             1,
             "#f0f921"
            ]
           ],
           "sequentialminus": [
            [
             0,
             "#0d0887"
            ],
            [
             0.1111111111111111,
             "#46039f"
            ],
            [
             0.2222222222222222,
             "#7201a8"
            ],
            [
             0.3333333333333333,
             "#9c179e"
            ],
            [
             0.4444444444444444,
             "#bd3786"
            ],
            [
             0.5555555555555556,
             "#d8576b"
            ],
            [
             0.6666666666666666,
             "#ed7953"
            ],
            [
             0.7777777777777778,
             "#fb9f3a"
            ],
            [
             0.8888888888888888,
             "#fdca26"
            ],
            [
             1,
             "#f0f921"
            ]
           ]
          },
          "colorway": [
           "#636efa",
           "#EF553B",
           "#00cc96",
           "#ab63fa",
           "#FFA15A",
           "#19d3f3",
           "#FF6692",
           "#B6E880",
           "#FF97FF",
           "#FECB52"
          ],
          "font": {
           "color": "#2a3f5f"
          },
          "geo": {
           "bgcolor": "white",
           "lakecolor": "white",
           "landcolor": "#E5ECF6",
           "showlakes": true,
           "showland": true,
           "subunitcolor": "white"
          },
          "hoverlabel": {
           "align": "left"
          },
          "hovermode": "closest",
          "mapbox": {
           "style": "light"
          },
          "paper_bgcolor": "white",
          "plot_bgcolor": "#E5ECF6",
          "polar": {
           "angularaxis": {
            "gridcolor": "white",
            "linecolor": "white",
            "ticks": ""
           },
           "bgcolor": "#E5ECF6",
           "radialaxis": {
            "gridcolor": "white",
            "linecolor": "white",
            "ticks": ""
           }
          },
          "scene": {
           "xaxis": {
            "backgroundcolor": "#E5ECF6",
            "gridcolor": "white",
            "gridwidth": 2,
            "linecolor": "white",
            "showbackground": true,
            "ticks": "",
            "zerolinecolor": "white"
           },
           "yaxis": {
            "backgroundcolor": "#E5ECF6",
            "gridcolor": "white",
            "gridwidth": 2,
            "linecolor": "white",
            "showbackground": true,
            "ticks": "",
            "zerolinecolor": "white"
           },
           "zaxis": {
            "backgroundcolor": "#E5ECF6",
            "gridcolor": "white",
            "gridwidth": 2,
            "linecolor": "white",
            "showbackground": true,
            "ticks": "",
            "zerolinecolor": "white"
           }
          },
          "shapedefaults": {
           "line": {
            "color": "#2a3f5f"
           }
          },
          "ternary": {
           "aaxis": {
            "gridcolor": "white",
            "linecolor": "white",
            "ticks": ""
           },
           "baxis": {
            "gridcolor": "white",
            "linecolor": "white",
            "ticks": ""
           },
           "bgcolor": "#E5ECF6",
           "caxis": {
            "gridcolor": "white",
            "linecolor": "white",
            "ticks": ""
           }
          },
          "title": {
           "x": 0.05
          },
          "xaxis": {
           "automargin": true,
           "gridcolor": "white",
           "linecolor": "white",
           "ticks": "",
           "title": {
            "standoff": 15
           },
           "zerolinecolor": "white",
           "zerolinewidth": 2
          },
          "yaxis": {
           "automargin": true,
           "gridcolor": "white",
           "linecolor": "white",
           "ticks": "",
           "title": {
            "standoff": 15
           },
           "zerolinecolor": "white",
           "zerolinewidth": 2
          }
         }
        },
        "xaxis": {
         "anchor": "y",
         "domain": [
          0,
          1
         ],
         "title": {
          "text": "Distance from London (km)"
         }
        },
        "yaxis": {
         "anchor": "x",
         "domain": [
          0,
          1
         ],
         "title": {
          "text": "Ratio Perc"
         }
        }
       }
      },
      "text/html": [
       "<div>                            <div id=\"bd0def2d-ba23-41e8-9be9-7325d6371cc5\" class=\"plotly-graph-div\" style=\"height:525px; width:100%;\"></div>            <script type=\"text/javascript\">                require([\"plotly\"], function(Plotly) {                    window.PLOTLYENV=window.PLOTLYENV || {};                                    if (document.getElementById(\"bd0def2d-ba23-41e8-9be9-7325d6371cc5\")) {                    Plotly.newPlot(                        \"bd0def2d-ba23-41e8-9be9-7325d6371cc5\",                        [{\"alignmentgroup\":\"True\",\"hovertemplate\":\"Distance from London (km)=%{x}<br>Ratio Perc=%{y}<extra></extra>\",\"legendgroup\":\"\",\"marker\":{\"color\":\"#3249b8\",\"pattern\":{\"shape\":\"\"}},\"name\":\"\",\"offsetgroup\":\"\",\"orientation\":\"v\",\"showlegend\":false,\"textposition\":\"auto\",\"x\":[0.0,3.7231684467536934,7.27306849893464,10.160583093394965,9.48130649261904,6.322539824543259,1.5664022030669782,6.0233604693588365,4.16284789492341,2.9856161950027333,2.756412095481797,14.003045823854993,15.045632474121383,19.686870384018107,17.898540544049755,19.061098357792513,14.594407019939032,18.520635266397107,16.036658074251694,14.654616691910524,9.257906441819351,11.287461679429125,18.15686520691674,20.486772699030467,17.92003081700597,12.512433584879084,9.695637178577574,10.002976870216113,9.500135754629762,15.410781064580906,12.883465693228418,18.735296447224812],\"xaxis\":\"x\",\"y\":[0.1865530237215323,0.2031506829950872,0.22767858352744275,0.23342505427984456,0.20194037630771233,0.2418750472199296,0.20266979018130085,0.2356901109638676,0.2312347720059324,0.2336344932412798,0.20789311864129992,0.1591879415667593,0.2404707793640174,0.19373303029045455,0.2442760761461356,0.22961054730948405,0.23635179169692055,0.2492858397689723,0.20439595996303264,0.1964634916904271,0.23252018956439635,0.19947058467045872,0.18267753453916727,0.2100266611046671,0.1872116609159464,0.22300689473290425,0.24621185459796358,0.1789317277535508,0.24111343121969114,0.21234586253457458,0.17023055505257234,0.20871076380852469],\"yaxis\":\"y\",\"type\":\"bar\",\"width\":0.1}],                        {\"template\":{\"data\":{\"histogram2dcontour\":[{\"type\":\"histogram2dcontour\",\"colorbar\":{\"outlinewidth\":0,\"ticks\":\"\"},\"colorscale\":[[0.0,\"#0d0887\"],[0.1111111111111111,\"#46039f\"],[0.2222222222222222,\"#7201a8\"],[0.3333333333333333,\"#9c179e\"],[0.4444444444444444,\"#bd3786\"],[0.5555555555555556,\"#d8576b\"],[0.6666666666666666,\"#ed7953\"],[0.7777777777777778,\"#fb9f3a\"],[0.8888888888888888,\"#fdca26\"],[1.0,\"#f0f921\"]]}],\"choropleth\":[{\"type\":\"choropleth\",\"colorbar\":{\"outlinewidth\":0,\"ticks\":\"\"}}],\"histogram2d\":[{\"type\":\"histogram2d\",\"colorbar\":{\"outlinewidth\":0,\"ticks\":\"\"},\"colorscale\":[[0.0,\"#0d0887\"],[0.1111111111111111,\"#46039f\"],[0.2222222222222222,\"#7201a8\"],[0.3333333333333333,\"#9c179e\"],[0.4444444444444444,\"#bd3786\"],[0.5555555555555556,\"#d8576b\"],[0.6666666666666666,\"#ed7953\"],[0.7777777777777778,\"#fb9f3a\"],[0.8888888888888888,\"#fdca26\"],[1.0,\"#f0f921\"]]}],\"heatmap\":[{\"type\":\"heatmap\",\"colorbar\":{\"outlinewidth\":0,\"ticks\":\"\"},\"colorscale\":[[0.0,\"#0d0887\"],[0.1111111111111111,\"#46039f\"],[0.2222222222222222,\"#7201a8\"],[0.3333333333333333,\"#9c179e\"],[0.4444444444444444,\"#bd3786\"],[0.5555555555555556,\"#d8576b\"],[0.6666666666666666,\"#ed7953\"],[0.7777777777777778,\"#fb9f3a\"],[0.8888888888888888,\"#fdca26\"],[1.0,\"#f0f921\"]]}],\"heatmapgl\":[{\"type\":\"heatmapgl\",\"colorbar\":{\"outlinewidth\":0,\"ticks\":\"\"},\"colorscale\":[[0.0,\"#0d0887\"],[0.1111111111111111,\"#46039f\"],[0.2222222222222222,\"#7201a8\"],[0.3333333333333333,\"#9c179e\"],[0.4444444444444444,\"#bd3786\"],[0.5555555555555556,\"#d8576b\"],[0.6666666666666666,\"#ed7953\"],[0.7777777777777778,\"#fb9f3a\"],[0.8888888888888888,\"#fdca26\"],[1.0,\"#f0f921\"]]}],\"contourcarpet\":[{\"type\":\"contourcarpet\",\"colorbar\":{\"outlinewidth\":0,\"ticks\":\"\"}}],\"contour\":[{\"type\":\"contour\",\"colorbar\":{\"outlinewidth\":0,\"ticks\":\"\"},\"colorscale\":[[0.0,\"#0d0887\"],[0.1111111111111111,\"#46039f\"],[0.2222222222222222,\"#7201a8\"],[0.3333333333333333,\"#9c179e\"],[0.4444444444444444,\"#bd3786\"],[0.5555555555555556,\"#d8576b\"],[0.6666666666666666,\"#ed7953\"],[0.7777777777777778,\"#fb9f3a\"],[0.8888888888888888,\"#fdca26\"],[1.0,\"#f0f921\"]]}],\"surface\":[{\"type\":\"surface\",\"colorbar\":{\"outlinewidth\":0,\"ticks\":\"\"},\"colorscale\":[[0.0,\"#0d0887\"],[0.1111111111111111,\"#46039f\"],[0.2222222222222222,\"#7201a8\"],[0.3333333333333333,\"#9c179e\"],[0.4444444444444444,\"#bd3786\"],[0.5555555555555556,\"#d8576b\"],[0.6666666666666666,\"#ed7953\"],[0.7777777777777778,\"#fb9f3a\"],[0.8888888888888888,\"#fdca26\"],[1.0,\"#f0f921\"]]}],\"mesh3d\":[{\"type\":\"mesh3d\",\"colorbar\":{\"outlinewidth\":0,\"ticks\":\"\"}}],\"scatter\":[{\"fillpattern\":{\"fillmode\":\"overlay\",\"size\":10,\"solidity\":0.2},\"type\":\"scatter\"}],\"parcoords\":[{\"type\":\"parcoords\",\"line\":{\"colorbar\":{\"outlinewidth\":0,\"ticks\":\"\"}}}],\"scatterpolargl\":[{\"type\":\"scatterpolargl\",\"marker\":{\"colorbar\":{\"outlinewidth\":0,\"ticks\":\"\"}}}],\"bar\":[{\"error_x\":{\"color\":\"#2a3f5f\"},\"error_y\":{\"color\":\"#2a3f5f\"},\"marker\":{\"line\":{\"color\":\"#E5ECF6\",\"width\":0.5},\"pattern\":{\"fillmode\":\"overlay\",\"size\":10,\"solidity\":0.2}},\"type\":\"bar\"}],\"scattergeo\":[{\"type\":\"scattergeo\",\"marker\":{\"colorbar\":{\"outlinewidth\":0,\"ticks\":\"\"}}}],\"scatterpolar\":[{\"type\":\"scatterpolar\",\"marker\":{\"colorbar\":{\"outlinewidth\":0,\"ticks\":\"\"}}}],\"histogram\":[{\"marker\":{\"pattern\":{\"fillmode\":\"overlay\",\"size\":10,\"solidity\":0.2}},\"type\":\"histogram\"}],\"scattergl\":[{\"type\":\"scattergl\",\"marker\":{\"colorbar\":{\"outlinewidth\":0,\"ticks\":\"\"}}}],\"scatter3d\":[{\"type\":\"scatter3d\",\"line\":{\"colorbar\":{\"outlinewidth\":0,\"ticks\":\"\"}},\"marker\":{\"colorbar\":{\"outlinewidth\":0,\"ticks\":\"\"}}}],\"scattermapbox\":[{\"type\":\"scattermapbox\",\"marker\":{\"colorbar\":{\"outlinewidth\":0,\"ticks\":\"\"}}}],\"scatterternary\":[{\"type\":\"scatterternary\",\"marker\":{\"colorbar\":{\"outlinewidth\":0,\"ticks\":\"\"}}}],\"scattercarpet\":[{\"type\":\"scattercarpet\",\"marker\":{\"colorbar\":{\"outlinewidth\":0,\"ticks\":\"\"}}}],\"carpet\":[{\"aaxis\":{\"endlinecolor\":\"#2a3f5f\",\"gridcolor\":\"white\",\"linecolor\":\"white\",\"minorgridcolor\":\"white\",\"startlinecolor\":\"#2a3f5f\"},\"baxis\":{\"endlinecolor\":\"#2a3f5f\",\"gridcolor\":\"white\",\"linecolor\":\"white\",\"minorgridcolor\":\"white\",\"startlinecolor\":\"#2a3f5f\"},\"type\":\"carpet\"}],\"table\":[{\"cells\":{\"fill\":{\"color\":\"#EBF0F8\"},\"line\":{\"color\":\"white\"}},\"header\":{\"fill\":{\"color\":\"#C8D4E3\"},\"line\":{\"color\":\"white\"}},\"type\":\"table\"}],\"barpolar\":[{\"marker\":{\"line\":{\"color\":\"#E5ECF6\",\"width\":0.5},\"pattern\":{\"fillmode\":\"overlay\",\"size\":10,\"solidity\":0.2}},\"type\":\"barpolar\"}],\"pie\":[{\"automargin\":true,\"type\":\"pie\"}]},\"layout\":{\"autotypenumbers\":\"strict\",\"colorway\":[\"#636efa\",\"#EF553B\",\"#00cc96\",\"#ab63fa\",\"#FFA15A\",\"#19d3f3\",\"#FF6692\",\"#B6E880\",\"#FF97FF\",\"#FECB52\"],\"font\":{\"color\":\"#2a3f5f\"},\"hovermode\":\"closest\",\"hoverlabel\":{\"align\":\"left\"},\"paper_bgcolor\":\"white\",\"plot_bgcolor\":\"#E5ECF6\",\"polar\":{\"bgcolor\":\"#E5ECF6\",\"angularaxis\":{\"gridcolor\":\"white\",\"linecolor\":\"white\",\"ticks\":\"\"},\"radialaxis\":{\"gridcolor\":\"white\",\"linecolor\":\"white\",\"ticks\":\"\"}},\"ternary\":{\"bgcolor\":\"#E5ECF6\",\"aaxis\":{\"gridcolor\":\"white\",\"linecolor\":\"white\",\"ticks\":\"\"},\"baxis\":{\"gridcolor\":\"white\",\"linecolor\":\"white\",\"ticks\":\"\"},\"caxis\":{\"gridcolor\":\"white\",\"linecolor\":\"white\",\"ticks\":\"\"}},\"coloraxis\":{\"colorbar\":{\"outlinewidth\":0,\"ticks\":\"\"}},\"colorscale\":{\"sequential\":[[0.0,\"#0d0887\"],[0.1111111111111111,\"#46039f\"],[0.2222222222222222,\"#7201a8\"],[0.3333333333333333,\"#9c179e\"],[0.4444444444444444,\"#bd3786\"],[0.5555555555555556,\"#d8576b\"],[0.6666666666666666,\"#ed7953\"],[0.7777777777777778,\"#fb9f3a\"],[0.8888888888888888,\"#fdca26\"],[1.0,\"#f0f921\"]],\"sequentialminus\":[[0.0,\"#0d0887\"],[0.1111111111111111,\"#46039f\"],[0.2222222222222222,\"#7201a8\"],[0.3333333333333333,\"#9c179e\"],[0.4444444444444444,\"#bd3786\"],[0.5555555555555556,\"#d8576b\"],[0.6666666666666666,\"#ed7953\"],[0.7777777777777778,\"#fb9f3a\"],[0.8888888888888888,\"#fdca26\"],[1.0,\"#f0f921\"]],\"diverging\":[[0,\"#8e0152\"],[0.1,\"#c51b7d\"],[0.2,\"#de77ae\"],[0.3,\"#f1b6da\"],[0.4,\"#fde0ef\"],[0.5,\"#f7f7f7\"],[0.6,\"#e6f5d0\"],[0.7,\"#b8e186\"],[0.8,\"#7fbc41\"],[0.9,\"#4d9221\"],[1,\"#276419\"]]},\"xaxis\":{\"gridcolor\":\"white\",\"linecolor\":\"white\",\"ticks\":\"\",\"title\":{\"standoff\":15},\"zerolinecolor\":\"white\",\"automargin\":true,\"zerolinewidth\":2},\"yaxis\":{\"gridcolor\":\"white\",\"linecolor\":\"white\",\"ticks\":\"\",\"title\":{\"standoff\":15},\"zerolinecolor\":\"white\",\"automargin\":true,\"zerolinewidth\":2},\"scene\":{\"xaxis\":{\"backgroundcolor\":\"#E5ECF6\",\"gridcolor\":\"white\",\"linecolor\":\"white\",\"showbackground\":true,\"ticks\":\"\",\"zerolinecolor\":\"white\",\"gridwidth\":2},\"yaxis\":{\"backgroundcolor\":\"#E5ECF6\",\"gridcolor\":\"white\",\"linecolor\":\"white\",\"showbackground\":true,\"ticks\":\"\",\"zerolinecolor\":\"white\",\"gridwidth\":2},\"zaxis\":{\"backgroundcolor\":\"#E5ECF6\",\"gridcolor\":\"white\",\"linecolor\":\"white\",\"showbackground\":true,\"ticks\":\"\",\"zerolinecolor\":\"white\",\"gridwidth\":2}},\"shapedefaults\":{\"line\":{\"color\":\"#2a3f5f\"}},\"annotationdefaults\":{\"arrowcolor\":\"#2a3f5f\",\"arrowhead\":0,\"arrowwidth\":1},\"geo\":{\"bgcolor\":\"white\",\"landcolor\":\"#E5ECF6\",\"subunitcolor\":\"white\",\"showland\":true,\"showlakes\":true,\"lakecolor\":\"white\"},\"title\":{\"x\":0.05},\"mapbox\":{\"style\":\"light\"}}},\"xaxis\":{\"anchor\":\"y\",\"domain\":[0.0,1.0],\"title\":{\"text\":\"Distance from London (km)\"}},\"yaxis\":{\"anchor\":\"x\",\"domain\":[0.0,1.0],\"title\":{\"text\":\"Ratio Perc\"}},\"legend\":{\"tracegroupgap\":0},\"margin\":{\"t\":60},\"barmode\":\"relative\"},                        {\"responsive\": true}                    ).then(function(){\n",
       "                            \n",
       "var gd = document.getElementById('bd0def2d-ba23-41e8-9be9-7325d6371cc5');\n",
       "var x = new MutationObserver(function (mutations, observer) {{\n",
       "        var display = window.getComputedStyle(gd).display;\n",
       "        if (!display || display === 'none') {{\n",
       "            console.log([gd, 'removed!']);\n",
       "            Plotly.purge(gd);\n",
       "            observer.disconnect();\n",
       "        }}\n",
       "}});\n",
       "\n",
       "// Listen for the removal of the full notebook cells\n",
       "var notebookContainer = gd.closest('#notebook-container');\n",
       "if (notebookContainer) {{\n",
       "    x.observe(notebookContainer, {childList: true});\n",
       "}}\n",
       "\n",
       "// Listen for the clearing of the current output cell\n",
       "var outputEl = gd.closest('.output');\n",
       "if (outputEl) {{\n",
       "    x.observe(outputEl, {childList: true});\n",
       "}}\n",
       "\n",
       "                        })                };                });            </script>        </div>"
      ]
     },
     "metadata": {},
     "output_type": "display_data"
    }
   ],
   "source": [
    "marker_dict = {'color': clr}\n",
    "# fig = px.bar(x=categories, y=values, marker=marker_dict)\n",
    "fig = px.bar(ratioDistance, y='Ratio Perc', x='Distance from London (km)',color_discrete_sequence=clr)\n",
    "fig.update_traces(width=.1)\n",
    "fig.show()"
   ]
  },
  {
   "cell_type": "code",
   "execution_count": 103,
   "id": "805b95c7",
   "metadata": {},
   "outputs": [
    {
     "ename": "ValueError",
     "evalue": "RGBA values should be within 0-1 range",
     "output_type": "error",
     "traceback": [
      "\u001b[0;31m---------------------------------------------------------------------------\u001b[0m",
      "\u001b[0;31mValueError\u001b[0m                                Traceback (most recent call last)",
      "Cell \u001b[0;32mIn[103], line 2\u001b[0m\n\u001b[1;32m      1\u001b[0m fig, ax \u001b[38;5;241m=\u001b[39m plt\u001b[38;5;241m.\u001b[39msubplots()\n\u001b[0;32m----> 2\u001b[0m ax\u001b[38;5;241m.\u001b[39mbar(ratioDistance[\u001b[38;5;124m'\u001b[39m\u001b[38;5;124mDistance from London (km)\u001b[39m\u001b[38;5;124m'\u001b[39m], ratioDistance[\u001b[38;5;124m'\u001b[39m\u001b[38;5;124mRatio Perc\u001b[39m\u001b[38;5;124m'\u001b[39m],\n\u001b[1;32m      3\u001b[0m        color\u001b[38;5;241m=\u001b[39mnp\u001b[38;5;241m.\u001b[39msqueeze(clr))\n\u001b[1;32m      5\u001b[0m \u001b[38;5;66;03m# Show graph\u001b[39;00m\n\u001b[1;32m      6\u001b[0m plt\u001b[38;5;241m.\u001b[39mshow()\n",
      "File \u001b[0;32m~/anaconda3/lib/python3.11/site-packages/matplotlib/__init__.py:1446\u001b[0m, in \u001b[0;36m_preprocess_data.<locals>.inner\u001b[0;34m(ax, data, *args, **kwargs)\u001b[0m\n\u001b[1;32m   1443\u001b[0m \u001b[38;5;129m@functools\u001b[39m\u001b[38;5;241m.\u001b[39mwraps(func)\n\u001b[1;32m   1444\u001b[0m \u001b[38;5;28;01mdef\u001b[39;00m \u001b[38;5;21minner\u001b[39m(ax, \u001b[38;5;241m*\u001b[39margs, data\u001b[38;5;241m=\u001b[39m\u001b[38;5;28;01mNone\u001b[39;00m, \u001b[38;5;241m*\u001b[39m\u001b[38;5;241m*\u001b[39mkwargs):\n\u001b[1;32m   1445\u001b[0m     \u001b[38;5;28;01mif\u001b[39;00m data \u001b[38;5;129;01mis\u001b[39;00m \u001b[38;5;28;01mNone\u001b[39;00m:\n\u001b[0;32m-> 1446\u001b[0m         \u001b[38;5;28;01mreturn\u001b[39;00m func(ax, \u001b[38;5;241m*\u001b[39m\u001b[38;5;28mmap\u001b[39m(sanitize_sequence, args), \u001b[38;5;241m*\u001b[39m\u001b[38;5;241m*\u001b[39mkwargs)\n\u001b[1;32m   1448\u001b[0m     bound \u001b[38;5;241m=\u001b[39m new_sig\u001b[38;5;241m.\u001b[39mbind(ax, \u001b[38;5;241m*\u001b[39margs, \u001b[38;5;241m*\u001b[39m\u001b[38;5;241m*\u001b[39mkwargs)\n\u001b[1;32m   1449\u001b[0m     auto_label \u001b[38;5;241m=\u001b[39m (bound\u001b[38;5;241m.\u001b[39marguments\u001b[38;5;241m.\u001b[39mget(label_namer)\n\u001b[1;32m   1450\u001b[0m                   \u001b[38;5;129;01mor\u001b[39;00m bound\u001b[38;5;241m.\u001b[39mkwargs\u001b[38;5;241m.\u001b[39mget(label_namer))\n",
      "File \u001b[0;32m~/anaconda3/lib/python3.11/site-packages/matplotlib/axes/_axes.py:2433\u001b[0m, in \u001b[0;36mAxes.bar\u001b[0;34m(self, x, height, width, bottom, align, **kwargs)\u001b[0m\n\u001b[1;32m   2431\u001b[0m linewidth \u001b[38;5;241m=\u001b[39m itertools\u001b[38;5;241m.\u001b[39mcycle(np\u001b[38;5;241m.\u001b[39matleast_1d(linewidth))\n\u001b[1;32m   2432\u001b[0m hatch \u001b[38;5;241m=\u001b[39m itertools\u001b[38;5;241m.\u001b[39mcycle(np\u001b[38;5;241m.\u001b[39matleast_1d(hatch))\n\u001b[0;32m-> 2433\u001b[0m color \u001b[38;5;241m=\u001b[39m itertools\u001b[38;5;241m.\u001b[39mchain(itertools\u001b[38;5;241m.\u001b[39mcycle(mcolors\u001b[38;5;241m.\u001b[39mto_rgba_array(color)),\n\u001b[1;32m   2434\u001b[0m                         \u001b[38;5;66;03m# Fallback if color == \"none\".\u001b[39;00m\n\u001b[1;32m   2435\u001b[0m                         itertools\u001b[38;5;241m.\u001b[39mrepeat(\u001b[38;5;124m'\u001b[39m\u001b[38;5;124mnone\u001b[39m\u001b[38;5;124m'\u001b[39m))\n\u001b[1;32m   2436\u001b[0m \u001b[38;5;28;01mif\u001b[39;00m edgecolor \u001b[38;5;129;01mis\u001b[39;00m \u001b[38;5;28;01mNone\u001b[39;00m:\n\u001b[1;32m   2437\u001b[0m     edgecolor \u001b[38;5;241m=\u001b[39m itertools\u001b[38;5;241m.\u001b[39mrepeat(\u001b[38;5;28;01mNone\u001b[39;00m)\n",
      "File \u001b[0;32m~/anaconda3/lib/python3.11/site-packages/matplotlib/colors.py:454\u001b[0m, in \u001b[0;36mto_rgba_array\u001b[0;34m(c, alpha)\u001b[0m\n\u001b[1;32m    452\u001b[0m         result[mask] \u001b[38;5;241m=\u001b[39m \u001b[38;5;241m0\u001b[39m\n\u001b[1;32m    453\u001b[0m     \u001b[38;5;28;01mif\u001b[39;00m np\u001b[38;5;241m.\u001b[39many((result \u001b[38;5;241m<\u001b[39m \u001b[38;5;241m0\u001b[39m) \u001b[38;5;241m|\u001b[39m (result \u001b[38;5;241m>\u001b[39m \u001b[38;5;241m1\u001b[39m)):\n\u001b[0;32m--> 454\u001b[0m         \u001b[38;5;28;01mraise\u001b[39;00m \u001b[38;5;167;01mValueError\u001b[39;00m(\u001b[38;5;124m\"\u001b[39m\u001b[38;5;124mRGBA values should be within 0-1 range\u001b[39m\u001b[38;5;124m\"\u001b[39m)\n\u001b[1;32m    455\u001b[0m     \u001b[38;5;28;01mreturn\u001b[39;00m result\n\u001b[1;32m    456\u001b[0m \u001b[38;5;66;03m# Handle single values.\u001b[39;00m\n\u001b[1;32m    457\u001b[0m \u001b[38;5;66;03m# Note that this occurs *after* handling inputs that are already arrays, as\u001b[39;00m\n\u001b[1;32m    458\u001b[0m \u001b[38;5;66;03m# `to_rgba(c, alpha)` (below) is expensive for such inputs, due to the need\u001b[39;00m\n\u001b[1;32m    459\u001b[0m \u001b[38;5;66;03m# to format the array in the ValueError message(!).\u001b[39;00m\n",
      "\u001b[0;31mValueError\u001b[0m: RGBA values should be within 0-1 range"
     ]
    },
    {
     "data": {
      "image/png": "[encoded data removed]",
      "text/plain": [
       "<Figure size 640x480 with 1 Axes>"
      ]
     },
     "metadata": {},
     "output_type": "display_data"
    }
   ],
   "source": [
    "fig, ax = plt.subplots()\n",
    "ax.bar(ratioDistance['Distance from London (km)'], ratioDistance['Ratio Perc'],\n",
    "       color=np.squeeze(clr))\n",
    "\n",
    "# Show graph\n",
    "plt.show()"
   ]
  }
 ],
 "metadata": {
  "kernelspec": {
   "display_name": "Python 3 (ipykernel)",
   "language": "python",
   "name": "python3"
  },
  "language_info": {
   "codemirror_mode": {
    "name": "ipython",
    "version": 3
   },
   "file_extension": ".py",
   "mimetype": "text/x-python",
   "name": "python",
   "nbconvert_exporter": "python",
   "pygments_lexer": "ipython3",
   "version": "3.11.5"
  },
  "varInspector": {
   "cols": {
    "lenName": 16,
    "lenType": 16,
    "lenVar": 40
   },
   "kernels_config": {
    "python": {
     "delete_cmd_postfix": "",
     "delete_cmd_prefix": "del ",
     "library": "var_list.py",
     "varRefreshCmd": "print(var_dic_list())"
    },
    "r": {
     "delete_cmd_postfix": ") ",
     "delete_cmd_prefix": "rm(",
     "library": "var_list.r",
     "varRefreshCmd": "cat(var_dic_list()) "
    }
   },
   "types_to_exclude": [
    "module",
    "function",
    "builtin_function_or_method",
    "instance",
    "_Feature"
   ],
   "window_display": false
  }
 },
 "nbformat": 4,
 "nbformat_minor": 5
}
