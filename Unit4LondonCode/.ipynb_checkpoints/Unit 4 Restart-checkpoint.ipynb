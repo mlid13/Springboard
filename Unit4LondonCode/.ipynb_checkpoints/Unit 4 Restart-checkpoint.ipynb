{
 "cells": [
  {
   "cell_type": "code",
   "execution_count": 1,
   "id": "82599a76",
   "metadata": {},
   "outputs": [],
   "source": [
    "# Let's import the pandas, numpy libraries as pd\n",
    "# , and np respectively. \n",
    "import pandas as pd\n",
    "import numpy as np\n",
    "import datetime as dt\n",
    "\n",
    "# Load the pyplot collection of functions from matplotlib, as plt \n",
    "from matplotlib import pyplot as plt"
   ]
  },
  {
   "cell_type": "code",
   "execution_count": 2,
   "id": "864a03e3",
   "metadata": {},
   "outputs": [],
   "source": [
    "###Reference Functions\n",
    "\n",
    "def returnBname(df,rowNum):\n",
    "    return df[0].iloc[rowNum]\n",
    "\n",
    "def returnRangeIndexVals(df,startYear,endYear):\n",
    "    x = np.where(np.logical_and(np.array(df)>=startYear, np.array(df)<=endYear))\n",
    "    x = np.array(x)\n",
    "    startIndex=x.flat[0]\n",
    "    endIndex=x.flat[-1]\n",
    "    return startIndex,endIndex,x\n",
    "\n",
    "def rtnYrIndx(df,year):\n",
    "    x = np.where(np.array(df)>=year)\n",
    "    a=np.array(x)\n",
    "    a=np.min(a)\n",
    "    return a\n",
    "\n",
    "def returnYrAvg(df):\n",
    "    df=np.array(df.iloc[0:12])\n",
    "    return df.mean(axis=1)\n",
    "\n",
    "def yrAvg(df,sY,eY):\n",
    "        \n",
    "        fltrDf=np.array(relevantBs.iloc[0:,sY:eY])\n",
    "        aAvg=[fltrDf.mean(axis=1)]\n",
    "        bAvg=[df.mean(axis=1)]\n",
    "        ratio=[aAvg/bAvg]\n",
    "        return aAvg,bAvg,ratio"
   ]
  },
  {
   "cell_type": "code",
   "execution_count": 3,
   "id": "23919335",
   "metadata": {},
   "outputs": [],
   "source": [
    "# Get Data\n",
    "\n",
    "url_LondonHousePrices = \"https://data.london.gov.uk/download/uk-house-price-index/70ac0766-8902-4eb5-aab5-01951aaed773/UK%20House%20price%20index.xls\"\n",
    "\n",
    "properties = pd.read_excel(url_LondonHousePrices, sheet_name='Average price', index_col= None)"
   ]
  },
  {
   "cell_type": "code",
   "execution_count": 4,
   "id": "6fde2e38",
   "metadata": {},
   "outputs": [],
   "source": [
    "#Transpose and get relevant boroughs###\n",
    "\n",
    "dT=properties.T\n",
    "dT=dT.rename(index={'Unnamed: 0': 'London_Borough'})\n",
    "dTlocs=dT.index\n",
    "dTcols=list(dT.columns.values)\n",
    "dT.index=(dT[0])\n",
    "dT[0]=dTlocs\n",
    "dT.dropna()\n",
    "relevantBs=dT[1:33]"
   ]
  },
  {
   "cell_type": "code",
   "execution_count": 5,
   "id": "fb64b18e",
   "metadata": {},
   "outputs": [],
   "source": [
    "##Melt per instructions, Seemingly unnessary wide -> stacked\n",
    "mRB=pd.melt(relevantBs)"
   ]
  },
  {
   "cell_type": "code",
   "execution_count": 6,
   "id": "d4dfa865",
   "metadata": {},
   "outputs": [],
   "source": [
    "## Timeseries Filter\n",
    "tSeries=enumerate(pd.to_datetime(dT.iloc[0][1:])) "
   ]
  },
  {
   "cell_type": "code",
   "execution_count": 7,
   "id": "5b640746",
   "metadata": {},
   "outputs": [],
   "source": [
    "##Index value, month, year vectors\n",
    "colNum=[]\n",
    "mCol=[]\n",
    "yCol=[]\n",
    "\n",
    "for x,y in tSeries:\n",
    "    colNum.append(x)\n",
    "    dTime=pd.to_datetime(y)\n",
    "    mCol.append(dTime.month)\n",
    "    yCol.append(dTime.year)"
   ]
  },
  {
   "cell_type": "code",
   "execution_count": 8,
   "id": "50bc9473",
   "metadata": {},
   "outputs": [],
   "source": [
    "##Diff between beginning and end\n",
    "df=[relevantBs[345]-relevantBs[1]]\n",
    "df=np.array(df) \n"
   ]
  },
  {
   "cell_type": "code",
   "execution_count": 9,
   "id": "22aa6691",
   "metadata": {},
   "outputs": [
    {
     "name": "stdout",
     "output_type": "stream",
     "text": [
      "19\n"
     ]
    }
   ],
   "source": [
    "##Location of biggest difference 1995-2023\n",
    "maxChng=df.argmax()\n",
    "print(maxChng)"
   ]
  },
  {
   "cell_type": "code",
   "execution_count": 10,
   "id": "b77df6b3",
   "metadata": {},
   "outputs": [
    {
     "name": "stdout",
     "output_type": "stream",
     "text": [
      "Kensington & Chelsea\n"
     ]
    }
   ],
   "source": [
    "##Name of biggest change 1995->2023\n",
    "print(returnBname(relevantBs,maxChng))"
   ]
  },
  {
   "cell_type": "code",
   "execution_count": 11,
   "id": "9337c4ac",
   "metadata": {},
   "outputs": [
    {
     "name": "stdout",
     "output_type": "stream",
     "text": [
      "*********\n",
      "[0\n",
      "E09000001    0.186553\n",
      "E09000002    0.203151\n",
      "E09000003    0.227679\n",
      "E09000004    0.233425\n",
      "E09000005     0.20194\n",
      "E09000006    0.241875\n",
      "E09000007     0.20267\n",
      "E09000008     0.23569\n",
      "E09000009    0.231235\n",
      "E09000010    0.233634\n",
      "E09000011    0.207893\n",
      "E09000012    0.159188\n",
      "E09000013    0.240471\n",
      "E09000014    0.193733\n",
      "E09000015    0.244276\n",
      "E09000016    0.229611\n",
      "E09000017    0.236352\n",
      "E09000018    0.249286\n",
      "E09000019    0.204396\n",
      "E09000020    0.196463\n",
      "E09000021     0.23252\n",
      "E09000022    0.199471\n",
      "E09000023    0.182678\n",
      "E09000024    0.210027\n",
      "E09000025    0.187212\n",
      "E09000026    0.223007\n",
      "E09000027    0.246212\n",
      "E09000028    0.178932\n",
      "E09000029    0.241113\n",
      "E09000030    0.212346\n",
      "E09000031    0.170231\n",
      "E09000032    0.208711\n",
      "dtype: object]\n"
     ]
    }
   ],
   "source": [
    "#Return start and end positions for years 1998-2018\n",
    "sI,eI,rangeIdx=returnRangeIndexVals(yCol,1998,2018)\n",
    "\n",
    "#Compute Ratios of average of 1998 and 2018\n",
    "avg1998=relevantBs.iloc[0:,rtnYrIndx(yCol,1998):rtnYrIndx(yCol,1998)+12]\n",
    "avg2018=relevantBs.iloc[0:,rtnYrIndx(yCol,2018):rtnYrIndx(yCol,2018)+12]\n",
    "m98=avg1998.mean(axis=1)\n",
    "print('*********')\n",
    "m18=avg2018.mean(axis=1)\n",
    "\n",
    "ratio=[m98/m18]\n",
    "print(ratio)"
   ]
  },
  {
   "cell_type": "code",
   "execution_count": 14,
   "id": "9a99f0dd",
   "metadata": {},
   "outputs": [
    {
     "data": {
      "text/plain": [
       "0.2492858397689723"
      ]
     },
     "execution_count": 14,
     "metadata": {},
     "output_type": "execute_result"
    }
   ],
   "source": [
    "np.max(ratio)"
   ]
  },
  {
   "cell_type": "code",
   "execution_count": 15,
   "id": "8ccd21cc",
   "metadata": {},
   "outputs": [
    {
     "ename": "AttributeError",
     "evalue": "'list' object has no attribute 'arg'",
     "output_type": "error",
     "traceback": [
      "\u001b[0;31m---------------------------------------------------------------------------\u001b[0m",
      "\u001b[0;31mAttributeError\u001b[0m                            Traceback (most recent call last)",
      "Cell \u001b[0;32mIn[15], line 1\u001b[0m\n\u001b[0;32m----> 1\u001b[0m ratio\u001b[38;5;241m.\u001b[39marg(np\u001b[38;5;241m.\u001b[39mmax(ratio))\n",
      "\u001b[0;31mAttributeError\u001b[0m: 'list' object has no attribute 'arg'"
     ]
    }
   ],
   "source": [
    "ratio.arg(np.max(ratio))"
   ]
  }
 ],
 "metadata": {
  "kernelspec": {
   "display_name": "Python 3 (ipykernel)",
   "language": "python",
   "name": "python3"
  },
  "language_info": {
   "codemirror_mode": {
    "name": "ipython",
    "version": 3
   },
   "file_extension": ".py",
   "mimetype": "text/x-python",
   "name": "python",
   "nbconvert_exporter": "python",
   "pygments_lexer": "ipython3",
   "version": "3.11.5"
  },
  "varInspector": {
   "cols": {
    "lenName": 16,
    "lenType": 16,
    "lenVar": 40
   },
   "kernels_config": {
    "python": {
     "delete_cmd_postfix": "",
     "delete_cmd_prefix": "del ",
     "library": "var_list.py",
     "varRefreshCmd": "print(var_dic_list())"
    },
    "r": {
     "delete_cmd_postfix": ") ",
     "delete_cmd_prefix": "rm(",
     "library": "var_list.r",
     "varRefreshCmd": "cat(var_dic_list()) "
    }
   },
   "types_to_exclude": [
    "module",
    "function",
    "builtin_function_or_method",
    "instance",
    "_Feature"
   ],
   "window_display": false
  }
 },
 "nbformat": 4,
 "nbformat_minor": 5
}
