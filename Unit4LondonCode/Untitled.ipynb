{
 "cells": [
  {
   "cell_type": "code",
   "execution_count": 1,
   "id": "ec48191c-5306-4026-bb17-c67cf726cc50",
   "metadata": {},
   "outputs": [],
   "source": [
    "from sqlalchemy import create_engine, inspect\n",
    "import pandas as pd\n",
    "import datetime as dt\n",
    "\n",
    "engine = create_engine('sqlite:////Users/mlid/Desktop/SpringboardDS/SQLFiles Tier 2/sqlite_db_pythonsqlite.db')\n"
   ]
  },
  {
   "cell_type": "code",
   "execution_count": 46,
   "id": "963a7a2e-7b53-4c1a-a4b4-b1d8151cfe29",
   "metadata": {
    "tags": []
   },
   "outputs": [
    {
     "name": "stdout",
     "output_type": "stream",
     "text": [
      "******Q10**********\n",
      "             name  totalRevenue\n",
      "0     Pool Table           270\n",
      "1  Snooker Table           240\n",
      "2   Table Tennis           180\n"
     ]
    }
   ],
   "source": [
    "with engine.connect() as con:\n",
    "    rs=con.execute('With revTable as (\\\n",
    "        SELECT \\\n",
    "            Facilities.name,\\\n",
    "        sum(CASE\\\n",
    "            WHEN Bookings.memid = 0 THEN Facilities.guestcost * Bookings.slots\\\n",
    "            ELSE Facilities.membercost * Bookings.slots \\\n",
    "        END) as totalRevenue\\\n",
    "        from Bookings\\\n",
    "        left join Facilities on Facilities.facid=Bookings.facid\\\n",
    "        left join Members on Members.memid=Bookings.memid\\\n",
    "        where(\\\n",
    "            case\\\n",
    "                when Bookings.memid=0 then Facilities.guestcost*Bookings.slots\\\n",
    "                else Facilities.membercost*slots\\\n",
    "                end)\\\n",
    "        group by name)\\\n",
    "        select name, totalRevenue\\\n",
    "        from revTable\\\n",
    "        where totalRevenue < 1000')\n",
    "            \n",
    "    df=pd.DataFrame(rs.fetchall())\n",
    "    print('******Q10**********\\n',df)"
   ]
  },
  {
   "cell_type": "code",
   "execution_count": 48,
   "id": "656fb956-1095-45b9-8649-e927bbc17666",
   "metadata": {
    "tags": []
   },
   "outputs": [
    {
     "name": "stdout",
     "output_type": "stream",
     "text": [
      "******Q11**********\n",
      "                 RecBy                   Member\n",
      "0      Bader Florence         Sarwin Ramnaresh\n",
      "1       Baker Timothy              Coplin Joan\n",
      "2      Butters Gerald          Genting Matthew\n",
      "3      Farrell Jemima            Baker Timothy\n",
      "4      Farrell Jemima             Pinker David\n",
      "5     Genting Matthew         Rumney Henrietta\n",
      "6         Jones David            Jones Douglas\n",
      "7     Joplette Janice               Dare Nancy\n",
      "8     Joplette Janice              Jones David\n",
      "9   Purview Millicent                Hunt John\n",
      "10         Rownam Tim               Boothe Tim\n",
      "11       Smith Darren          Joplette Janice\n",
      "12       Smith Darren           Butters Gerald\n",
      "13       Smith Darren             Owen Charles\n",
      "14       Smith Darren               Smith Jack\n",
      "15       Smith Darren           Mackenzie Anna\n",
      "16        Smith Tracy  Worthington-Smyth Henry\n",
      "17        Smith Tracy        Purview Millicent\n",
      "18        Smith Tracy            Crumpet Erica\n",
      "19    Stibbons Ponder               Baker Anne\n",
      "20    Stibbons Ponder           Bader Florence\n",
      "21       Tracy Burton          Stibbons Ponder\n"
     ]
    }
   ],
   "source": [
    "with engine.connect() as con:\n",
    "    rs=con.execute('SELECT m.surname || \" \" || m.firstname AS \"RecBy\",\\\n",
    "       e.surname || \" \" || e.firstname AS \"Member\" \\\n",
    "    FROM Members e\\\n",
    "    INNER JOIN Members m ON m.memid = e.recommendedby\\\n",
    "    ORDER BY RecBy')\n",
    "\n",
    "            \n",
    "    df=pd.DataFrame(rs.fetchall())\n",
    "    print('******Q11**********\\n',df)"
   ]
  },
  {
   "cell_type": "code",
   "execution_count": 49,
   "id": "c1494a89-f5dd-4475-b447-c89fbec961f6",
   "metadata": {
    "tags": []
   },
   "outputs": [
    {
     "name": "stdout",
     "output_type": "stream",
     "text": [
      "******Q12**********\n",
      "    facid  Booked\n",
      "0      0     308\n",
      "1      1     276\n",
      "2      2     344\n",
      "3      3     385\n",
      "4      4     421\n",
      "5      5      27\n",
      "6      6     195\n",
      "7      7     421\n",
      "8      8     783\n"
     ]
    }
   ],
   "source": [
    "with engine.connect() as con:\n",
    "    rs=con.execute('SELECT Bookings.facid, count(Bookings.memid) as \"Booked\" FROM Bookings where Bookings.memid<>0\\\n",
    "    group by Bookings.facid')\n",
    "\n",
    "            \n",
    "    df=pd.DataFrame(rs.fetchall())\n",
    "    print('******Q12**********\\n',df)"
   ]
  }
 ],
 "metadata": {
  "kernelspec": {
   "display_name": "Python 3 (ipykernel)",
   "language": "python",
   "name": "python3"
  },
  "language_info": {
   "codemirror_mode": {
    "name": "ipython",
    "version": 3
   },
   "file_extension": ".py",
   "mimetype": "text/x-python",
   "name": "python",
   "nbconvert_exporter": "python",
   "pygments_lexer": "ipython3",
   "version": "3.11.5"
  }
 },
 "nbformat": 4,
 "nbformat_minor": 5
}
