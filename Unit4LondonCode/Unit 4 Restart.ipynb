{
 "cells": [
  {
   "cell_type": "code",
   "execution_count": 1,
   "id": "82599a76",
   "metadata": {},
   "outputs": [],
   "source": [
    "# Let's import the pandas, numpy libraries as pd\n",
    "# , and np respectively. \n",
    "import pandas as pd\n",
    "import numpy as np\n",
    "import datetime as dt\n",
    "\n",
    "# Load the pyplot collection of functions from matplotlib, as plt \n",
    "from matplotlib import pyplot as plt"
   ]
  },
  {
   "cell_type": "code",
   "execution_count": 2,
   "id": "864a03e3",
   "metadata": {},
   "outputs": [],
   "source": [
    "###Reference Functions\n",
    "\n",
    "def returnBname(df,rowNum):\n",
    "    return df[0].iloc[rowNum]\n",
    "\n",
    "def returnRangeIndexVals(df,startYear,endYear):\n",
    "    x = np.where(np.logical_and(np.array(df)>=startYear, np.array(df)<=endYear))\n",
    "    x = np.array(x)\n",
    "    startIndex=x.flat[0]\n",
    "    endIndex=x.flat[-1]\n",
    "    return startIndex,endIndex,x\n",
    "\n",
    "def rtnYrIndx(df,year):\n",
    "    x = np.where(np.array(df)>=year)\n",
    "    a=np.array(x)\n",
    "    a=np.min(a)\n",
    "    return a\n",
    "\n",
    "def returnYrAvg(df):\n",
    "    df=np.array(df.iloc[0:12])\n",
    "    return df.mean(axis=1)\n",
    "\n",
    "def yrAvg(df,sY,eY):\n",
    "        \n",
    "        fltrDf=np.array(relevantBs.iloc[0:,sY:eY])\n",
    "        aAvg=[fltrDf.mean(axis=1)]\n",
    "        bAvg=[df.mean(axis=1)]\n",
    "        ratio=[aAvg/bAvg]\n",
    "        return aAvg,bAvg,ratio"
   ]
  },
  {
   "cell_type": "code",
   "execution_count": 3,
   "id": "23919335",
   "metadata": {},
   "outputs": [],
   "source": [
    "# Get Data\n",
    "\n",
    "url_LondonHousePrices = \"https://data.london.gov.uk/download/uk-house-price-index/70ac0766-8902-4eb5-aab5-01951aaed773/UK%20House%20price%20index.xls\"\n",
    "\n",
    "properties = pd.read_excel(url_LondonHousePrices, sheet_name='Average price', index_col= None)"
   ]
  },
  {
   "cell_type": "code",
   "execution_count": 4,
   "id": "6fde2e38",
   "metadata": {},
   "outputs": [],
   "source": [
    "#Transpose and get relevant boroughs###\n",
    "\n",
    "dT=properties.T\n",
    "dT=dT.rename(index={'Unnamed: 0': 'London_Borough'})\n",
    "dTlocs=dT.index\n",
    "dTcols=list(dT.columns.values)\n",
    "dT.index=(dT[0])\n",
    "dT[0]=dTlocs\n",
    "dT.dropna()\n",
    "relevantBs=dT[1:33]"
   ]
  },
  {
   "cell_type": "code",
   "execution_count": 5,
   "id": "fb64b18e",
   "metadata": {},
   "outputs": [],
   "source": [
    "##Melt per instructions, Seemingly unnessary wide -> stacked\n",
    "mRB=pd.melt(relevantBs)"
   ]
  },
  {
   "cell_type": "code",
   "execution_count": 6,
   "id": "d4dfa865",
   "metadata": {},
   "outputs": [],
   "source": [
    "## Timeseries Filter\n",
    "tSeries=enumerate(pd.to_datetime(dT.iloc[0][1:])) "
   ]
  },
  {
   "cell_type": "code",
   "execution_count": 7,
   "id": "5b640746",
   "metadata": {},
   "outputs": [],
   "source": [
    "##Index value, month, year vectors\n",
    "colNum=[]\n",
    "mCol=[]\n",
    "yCol=[]\n",
    "\n",
    "for x,y in tSeries:\n",
    "    colNum.append(x)\n",
    "    dTime=pd.to_datetime(y)\n",
    "    mCol.append(dTime.month)\n",
    "    yCol.append(dTime.year)"
   ]
  },
  {
   "cell_type": "code",
   "execution_count": 8,
   "id": "50bc9473",
   "metadata": {},
   "outputs": [],
   "source": [
    "##Diff between beginning and end\n",
    "df=[relevantBs[345]-relevantBs[1]]\n",
    "df=np.array(df) \n"
   ]
  },
  {
   "cell_type": "code",
   "execution_count": 9,
   "id": "22aa6691",
   "metadata": {},
   "outputs": [
    {
     "name": "stdout",
     "output_type": "stream",
     "text": [
      "19\n"
     ]
    }
   ],
   "source": [
    "##Location of biggest difference 1995-2023\n",
    "maxChng=df.argmax()\n",
    "print(maxChng)"
   ]
  },
  {
   "cell_type": "code",
   "execution_count": 22,
   "id": "b77df6b3",
   "metadata": {},
   "outputs": [
    {
     "name": "stdout",
     "output_type": "stream",
     "text": [
      "Kensington & Chelsea\n",
      "Hackney\n"
     ]
    }
   ],
   "source": [
    "##Name of biggest change 1995->2023\n",
    "print(returnBname(relevantBs,maxChng))\n",
    "print(returnBname(relevantBs,11))\n"
   ]
  },
  {
   "cell_type": "code",
   "execution_count": 24,
   "id": "9337c4ac",
   "metadata": {},
   "outputs": [
    {
     "name": "stdout",
     "output_type": "stream",
     "text": [
      "*********\n"
     ]
    },
    {
     "ename": "AttributeError",
     "evalue": "'list' object has no attribute 'flatten'",
     "output_type": "error",
     "traceback": [
      "\u001b[0;31m---------------------------------------------------------------------------\u001b[0m",
      "\u001b[0;31mAttributeError\u001b[0m                            Traceback (most recent call last)",
      "Cell \u001b[0;32mIn[24], line 12\u001b[0m\n\u001b[1;32m      9\u001b[0m m18\u001b[38;5;241m=\u001b[39mavg2018\u001b[38;5;241m.\u001b[39mmean(axis\u001b[38;5;241m=\u001b[39m\u001b[38;5;241m1\u001b[39m)\n\u001b[1;32m     11\u001b[0m ratio\u001b[38;5;241m=\u001b[39m[m98\u001b[38;5;241m/\u001b[39mm18]\n\u001b[0;32m---> 12\u001b[0m \u001b[38;5;28mprint\u001b[39m(ratio\u001b[38;5;241m.\u001b[39mflatten)\n",
      "\u001b[0;31mAttributeError\u001b[0m: 'list' object has no attribute 'flatten'"
     ]
    }
   ],
   "source": [
    "#Return start and end positions for years 1998-2018\n",
    "sI,eI,rangeIdx=returnRangeIndexVals(yCol,1998,2018)\n",
    "\n",
    "#Compute Ratios of average of 1998 and 2018\n",
    "avg1998=relevantBs.iloc[0:,rtnYrIndx(yCol,1998):rtnYrIndx(yCol,1998)+12]\n",
    "avg2018=relevantBs.iloc[0:,rtnYrIndx(yCol,2018):rtnYrIndx(yCol,2018)+12]\n",
    "m98=avg1998.mean(axis=1)\n",
    "print('*********')\n",
    "m18=avg2018.mean(axis=1)\n",
    "\n",
    "ratio=[m98/m18]\n",
    "print(ratio.flatten)"
   ]
  },
  {
   "cell_type": "code",
   "execution_count": 21,
   "id": "9a99f0dd",
   "metadata": {},
   "outputs": [
    {
     "name": "stdout",
     "output_type": "stream",
     "text": [
      "0.1591879415667593\n",
      "************\n",
      "0.2492858397689723\n"
     ]
    }
   ],
   "source": [
    "print(np.min(ratio))\n",
    "print('************')\n",
    "print(np.max(ratio))"
   ]
  },
  {
   "cell_type": "code",
   "execution_count": 17,
   "id": "7b7d483c",
   "metadata": {},
   "outputs": [],
   "source": [
    "ratioVec=np.array(ratio)"
   ]
  },
  {
   "cell_type": "code",
   "execution_count": 27,
   "id": "b0e72e2c",
   "metadata": {},
   "outputs": [
    {
     "data": {
      "text/plain": [
       "[0.1865530237215323,\n",
       " 0.2031506829950872,\n",
       " 0.22767858352744275,\n",
       " 0.23342505427984456,\n",
       " 0.20194037630771233,\n",
       " 0.2418750472199296,\n",
       " 0.20266979018130085,\n",
       " 0.2356901109638676,\n",
       " 0.2312347720059324,\n",
       " 0.2336344932412798,\n",
       " 0.20789311864129992,\n",
       " 0.1591879415667593,\n",
       " 0.2404707793640174,\n",
       " 0.19373303029045455,\n",
       " 0.2442760761461356,\n",
       " 0.22961054730948405,\n",
       " 0.23635179169692055,\n",
       " 0.2492858397689723,\n",
       " 0.20439595996303264,\n",
       " 0.1964634916904271,\n",
       " 0.23252018956439635,\n",
       " 0.19947058467045872,\n",
       " 0.18267753453916727,\n",
       " 0.2100266611046671,\n",
       " 0.1872116609159464,\n",
       " 0.22300689473290425,\n",
       " 0.24621185459796358,\n",
       " 0.1789317277535508,\n",
       " 0.24111343121969114,\n",
       " 0.21234586253457458,\n",
       " 0.17023055505257234,\n",
       " 0.20871076380852469]"
      ]
     },
     "execution_count": 27,
     "metadata": {},
     "output_type": "execute_result"
    }
   ],
   "source": [
    "list(ratioVec.flatten())"
   ]
  }
 ],
 "metadata": {
  "kernelspec": {
   "display_name": "Python 3 (ipykernel)",
   "language": "python",
   "name": "python3"
  },
  "language_info": {
   "codemirror_mode": {
    "name": "ipython",
    "version": 3
   },
   "file_extension": ".py",
   "mimetype": "text/x-python",
   "name": "python",
   "nbconvert_exporter": "python",
   "pygments_lexer": "ipython3",
   "version": "3.11.5"
  },
  "varInspector": {
   "cols": {
    "lenName": 16,
    "lenType": 16,
    "lenVar": 40
   },
   "kernels_config": {
    "python": {
     "delete_cmd_postfix": "",
     "delete_cmd_prefix": "del ",
     "library": "var_list.py",
     "varRefreshCmd": "print(var_dic_list())"
    },
    "r": {
     "delete_cmd_postfix": ") ",
     "delete_cmd_prefix": "rm(",
     "library": "var_list.r",
     "varRefreshCmd": "cat(var_dic_list()) "
    }
   },
   "types_to_exclude": [
    "module",
    "function",
    "builtin_function_or_method",
    "instance",
    "_Feature"
   ],
   "window_display": false
  }
 },
 "nbformat": 4,
 "nbformat_minor": 5
}
