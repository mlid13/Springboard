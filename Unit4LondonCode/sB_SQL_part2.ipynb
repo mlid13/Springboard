{
 "cells": [
  {
   "cell_type": "code",
   "execution_count": 2,
   "id": "f1d20126-3b92-4047-9c8a-26c59d114859",
   "metadata": {
    "tags": []
   },
   "outputs": [],
   "source": [
    "from sqlalchemy import create_engine, inspect\n",
    "import pandas as pd\n",
    "import datetime as dt\n",
    "\n",
    "engine = create_engine('sqlite:////Users/mlid/Desktop/SpringboardDS/SQLFiles Tier 2/sqlite_db_pythonsqlite.db')"
   ]
  },
  {
   "cell_type": "code",
   "execution_count": 77,
   "id": "ac6782a6-5446-43ac-a8ae-253d4ee0ff6d",
   "metadata": {
    "tags": []
   },
   "outputs": [
    {
     "name": "stdout",
     "output_type": "stream",
     "text": [
      "******Q11**********\n",
      "                 RecBy                   Member\n",
      "0        Burton Tracy          Ponder Stibbons\n",
      "1        Darren Smith          Janice Joplette\n",
      "2        Darren Smith           Gerald Butters\n",
      "3        Darren Smith             Charles Owen\n",
      "4        Darren Smith               Jack Smith\n",
      "5        Darren Smith           Anna Mackenzie\n",
      "6         David Jones            Douglas Jones\n",
      "7      Florence Bader         Ramnaresh Sarwin\n",
      "8      Gerald Butters          Matthew Genting\n",
      "9     Janice Joplette               Nancy Dare\n",
      "10    Janice Joplette              David Jones\n",
      "11     Jemima Farrell            Timothy Baker\n",
      "12     Jemima Farrell             David Pinker\n",
      "13    Matthew Genting         Henrietta Rumney\n",
      "14  Millicent Purview                John Hunt\n",
      "15    Ponder Stibbons               Anne Baker\n",
      "16    Ponder Stibbons           Florence Bader\n",
      "17         Tim Rownam               Tim Boothe\n",
      "18      Timothy Baker              Joan Coplin\n",
      "19        Tracy Smith  Henry Worthington-Smyth\n",
      "20        Tracy Smith        Millicent Purview\n",
      "21        Tracy Smith            Erica Crumpet\n"
     ]
    }
   ],
   "source": [
    "with engine.connect() as con:\n",
    "    rs=con.execute('SELECT m.firstname || \" \" || m.surname AS \"RecBy\",\\\n",
    "       e.firstname || \" \" || e.surname AS \"Member\" \\\n",
    "    FROM Members e\\\n",
    "    INNER JOIN Members m ON m.memid = e.recommendedby\\\n",
    "    ORDER BY RecBy')\n",
    "\n",
    "            \n",
    "    df=pd.DataFrame(rs.fetchall())\n",
    "    print('******Q11**********\\n',df)"
   ]
  },
  {
   "cell_type": "code",
   "execution_count": 136,
   "id": "6bfddc19-6ea4-434b-b3ab-c6ab885a8d9b",
   "metadata": {
    "tags": []
   },
   "outputs": [
    {
     "name": "stdout",
     "output_type": "stream",
     "text": [
      "******Q12**********\n",
      "    facid  Booked\n",
      "0      0     308\n",
      "1      1     276\n",
      "2      2     344\n",
      "3      3     385\n",
      "4      4     421\n",
      "5      5      27\n",
      "6      6     195\n",
      "7      7     421\n",
      "8      8     783\n"
     ]
    }
   ],
   "source": [
    "with engine.connect() as con:\n",
    "    rs=con.execute('SELECT Bookings.facid,\\\n",
    "    count(Bookings.memid) as \"Booked\" \\\n",
    "    FROM Bookings where Bookings.memid<>0 \\\n",
    "   group by Bookings.facid')\n",
    "\n",
    "            \n",
    "    df=pd.DataFrame(rs.fetchall())\n",
    "    print('******Q12**********\\n',df)"
   ]
  },
  {
   "cell_type": "code",
   "execution_count": 141,
   "id": "0878ded8-107f-49cc-827d-09ab2edb2d20",
   "metadata": {
    "tags": []
   },
   "outputs": [
    {
     "name": "stdout",
     "output_type": "stream",
     "text": [
      "******Q13*********\n",
      "     facid  Booked month\n",
      "0       0      65    07\n",
      "1       0     111    08\n",
      "2       0     132    09\n",
      "3       1      41    07\n",
      "4       1     109    08\n",
      "5       1     126    09\n",
      "6       2      51    07\n",
      "7       2     132    08\n",
      "8       2     161    09\n",
      "9       3      48    07\n",
      "10      3     143    08\n",
      "11      3     194    09\n",
      "12      4      77    07\n",
      "13      4     153    08\n",
      "14      4     191    09\n",
      "15      5       4    07\n",
      "16      5       9    08\n",
      "17      5      14    09\n",
      "18      6      23    07\n",
      "19      6      85    08\n",
      "20      6      87    09\n",
      "21      7      68    07\n",
      "22      7     154    08\n",
      "23      7     199    09\n",
      "24      8     103    07\n",
      "25      8     272    08\n",
      "26      8     408    09\n"
     ]
    }
   ],
   "source": [
    "with engine.connect() as con:\n",
    "    rs=con.execute('SELECT Bookings.facid,\\\n",
    "    count(Bookings.memid) as \"Booked\", \\\n",
    "    strftime(\"%m\", Bookings.starttime) as month\\\n",
    "    FROM Bookings where Bookings.memid<>0\\\n",
    "    group by Bookings.facid, month')\n",
    "\n",
    "            \n",
    "    df=pd.DataFrame(rs.fetchall())\n",
    "    print('******Q13*********\\n',df)"
   ]
  }
 ],
 "metadata": {
  "kernelspec": {
   "display_name": "Python 3 (ipykernel)",
   "language": "python",
   "name": "python3"
  },
  "language_info": {
   "codemirror_mode": {
    "name": "ipython",
    "version": 3
   },
   "file_extension": ".py",
   "mimetype": "text/x-python",
   "name": "python",
   "nbconvert_exporter": "python",
   "pygments_lexer": "ipython3",
   "version": "3.11.5"
  }
 },
 "nbformat": 4,
 "nbformat_minor": 5
}
