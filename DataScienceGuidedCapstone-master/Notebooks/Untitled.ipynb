{
 "cells": [
  {
   "cell_type": "code",
   "execution_count": 2,
   "id": "302a1fba-3aa5-40f2-a1de-12914c36d968",
   "metadata": {
    "tags": []
   },
   "outputs": [
    {
     "name": "stdout",
     "output_type": "stream",
     "text": [
      "00000\n"
     ]
    }
   ],
   "source": [
    "print('0'*5)"
   ]
  },
  {
   "cell_type": "code",
   "execution_count": 10,
   "id": "899e0648-41e6-4334-9be4-50cc065871bd",
   "metadata": {
    "tags": []
   },
   "outputs": [],
   "source": [
    "l=[66,43,25,32,43, 50, -4, -2]"
   ]
  },
  {
   "cell_type": "code",
   "execution_count": 15,
   "id": "01084a2a-9a2e-4286-a939-12306a591836",
   "metadata": {
    "tags": []
   },
   "outputs": [
    {
     "name": "stdout",
     "output_type": "stream",
     "text": [
      "[-4, -2, 25, 32, 43, 50, 66]\n"
     ]
    }
   ],
   "source": [
    "print(sorted(set(l)))"
   ]
  },
  {
   "cell_type": "code",
   "execution_count": 16,
   "id": "18045fac-c8cf-4506-8647-47057a83156d",
   "metadata": {
    "tags": []
   },
   "outputs": [
    {
     "ename": "TypeError",
     "evalue": "'<' not supported between instances of 'list' and 'int'",
     "output_type": "error",
     "traceback": [
      "\u001b[0;31m---------------------------------------------------------------------------\u001b[0m",
      "\u001b[0;31mTypeError\u001b[0m                                 Traceback (most recent call last)",
      "Cell \u001b[0;32mIn[16], line 1\u001b[0m\n\u001b[0;32m----> 1\u001b[0m \u001b[38;5;28mbool\u001b[39m(l\u001b[38;5;241m<\u001b[39m\u001b[38;5;241m0\u001b[39m)\n",
      "\u001b[0;31mTypeError\u001b[0m: '<' not supported between instances of 'list' and 'int'"
     ]
    }
   ],
   "source": [
    "bool(l<0)"
   ]
  }
 ],
 "metadata": {
  "kernelspec": {
   "display_name": "Python 3 (ipykernel)",
   "language": "python",
   "name": "python3"
  },
  "language_info": {
   "codemirror_mode": {
    "name": "ipython",
    "version": 3
   },
   "file_extension": ".py",
   "mimetype": "text/x-python",
   "name": "python",
   "nbconvert_exporter": "python",
   "pygments_lexer": "ipython3",
   "version": "3.11.5"
  }
 },
 "nbformat": 4,
 "nbformat_minor": 5
}
