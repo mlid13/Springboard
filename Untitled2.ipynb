{
 "cells": [
  {
   "cell_type": "code",
   "execution_count": 57,
   "id": "2dc7d78c-d5b1-4343-8b1e-0ff031034b86",
   "metadata": {},
   "outputs": [],
   "source": [
    "from sqlalchemy import create_engine, inspect\n",
    "import pandas as pd\n",
    "import datetime as dt\n",
    "\n",
    "engine = create_engine('sqlite:////Users/mlid/Desktop/SpringboardDS/SQLFiles Tier 2/sqlite_db_pythonsqlite.db')\n"
   ]
  },
  {
   "cell_type": "code",
   "execution_count": 170,
   "id": "dfa56e76-aef9-4bb7-beb6-d2a0fef6ac49",
   "metadata": {
    "tags": []
   },
   "outputs": [],
   "source": [
    "with engine.connect() as con:\n",
    "    rs=con.execute('select * \\\n",
    "    from Members')\n",
    "    mems = pd.DataFrame(rs.fetchall())\n",
    "    mems.columns = rs.keys()\n",
    "    \n",
    "    rs=con.execute('select * from Facilities')\n",
    "    facs=pd.DataFrame(rs.fetchall())\n",
    "    facs.columns= rs.keys()\n",
    "    \n",
    "    rs=con.execute('select * from Bookings')\n",
    "    books=pd.DataFrame(rs.fetchall())\n",
    "    books.columns = rs.keys()"
   ]
  },
  {
   "cell_type": "code",
   "execution_count": 74,
   "id": "3664d4cf-9d52-471d-85c1-3695a7d2c4ae",
   "metadata": {
    "tags": []
   },
   "outputs": [],
   "source": [
    "combo=books.merge(facs,on='facid')"
   ]
  },
  {
   "cell_type": "code",
   "execution_count": 133,
   "id": "3feab878-724c-4b83-89a0-7f713c6ccda1",
   "metadata": {
    "tags": []
   },
   "outputs": [],
   "source": [
    "for x in combo['memid']:\n",
    "    if x == 0:\n",
    "        combo['rev']=combo['guestcost']*combo['slots']\n",
    "    else:\n",
    "        combo['rev']=combo['membercost']*combo['slots']"
   ]
  },
  {
   "cell_type": "code",
   "execution_count": 134,
   "id": "159915d1-64e3-4c9f-a635-79f8bbaf6410",
   "metadata": {
    "tags": []
   },
   "outputs": [],
   "source": [
    "combo['starttime'] = pd.to_datetime(combo['starttime'], format='%Y-%m-%d %H:%M:%S')"
   ]
  },
  {
   "cell_type": "code",
   "execution_count": 169,
   "id": "35c999d0-946a-4831-acc8-6eeb44257d28",
   "metadata": {
    "tags": []
   },
   "outputs": [
    {
     "data": {
      "text/plain": [
       "name\n",
       "Badminton Court     18739.5\n",
       "Massage Room 1     112320.0\n",
       "Massage Room 2      18240.0\n",
       "Pool Table           4550.0\n",
       "Snooker Table        4540.0\n",
       "Squash Court        19320.0\n",
       "Table Tennis         4150.0\n",
       "Tennis Court 1      33000.0\n",
       "Tennis Court 2      31950.0\n",
       "Name: rev, dtype: float64"
      ]
     },
     "execution_count": 169,
     "metadata": {},
     "output_type": "execute_result"
    }
   ],
   "source": [
    "#rev=combo.groupby([combo.starttime.dt.date,'name'])['rev'].sum()\n",
    "rev=combo.groupby('name')['rev'].sum()\n",
    "rev #Revenue per "
   ]
  },
  {
   "cell_type": "code",
   "execution_count": 161,
   "id": "2a9b516b-f4f2-4d4c-99ce-6235d44de13b",
   "metadata": {
    "tags": []
   },
   "outputs": [],
   "source": [
    "rev_df=pd.DataFrame(rev)\n",
    "rev_df=rev_df.reset_index()"
   ]
  },
  {
   "cell_type": "code",
   "execution_count": 164,
   "id": "4614f581-6e3e-4722-a8af-1ce7eb93c0d5",
   "metadata": {
    "tags": []
   },
   "outputs": [],
   "source": [
    "rev_df['starttime']=pd.to_datetime(rev_df['starttime'], format='%Y-%m-%d %H:%M:%S')\n",
    "revA=rev_df.groupby(rev_df.starttime.dt.date)['rev'].sum()"
   ]
  },
  {
   "cell_type": "code",
   "execution_count": 171,
   "id": "6e5f4e39-2bfc-4192-8d54-138a41c007bd",
   "metadata": {
    "tags": []
   },
   "outputs": [
    {
     "data": {
      "text/plain": [
       "starttime\n",
       "2012-07-03     225.0\n",
       "2012-07-04     755.0\n",
       "2012-07-05     386.5\n",
       "2012-07-06     501.5\n",
       "2012-07-07    1094.5\n",
       "               ...  \n",
       "2012-09-26    3932.0\n",
       "2012-09-27    4034.0\n",
       "2012-09-28    4757.0\n",
       "2012-09-29    3967.0\n",
       "2012-09-30    3952.0\n",
       "Name: rev, Length: 90, dtype: float64"
      ]
     },
     "execution_count": 171,
     "metadata": {},
     "output_type": "execute_result"
    }
   ],
   "source": [
    "revA"
   ]
  },
  {
   "cell_type": "code",
   "execution_count": 175,
   "id": "f720f5b5-ef42-42b0-bd6d-12165bd9d09c",
   "metadata": {
    "tags": []
   },
   "outputs": [
    {
     "data": {
      "text/html": [
       "<div>\n",
       "<style scoped>\n",
       "    .dataframe tbody tr th:only-of-type {\n",
       "        vertical-align: middle;\n",
       "    }\n",
       "\n",
       "    .dataframe tbody tr th {\n",
       "        vertical-align: top;\n",
       "    }\n",
       "\n",
       "    .dataframe thead th {\n",
       "        text-align: right;\n",
       "    }\n",
       "</style>\n",
       "<table border=\"1\" class=\"dataframe\">\n",
       "  <thead>\n",
       "    <tr style=\"text-align: right;\">\n",
       "      <th></th>\n",
       "      <th>bookid</th>\n",
       "      <th>facid</th>\n",
       "      <th>memid</th>\n",
       "      <th>starttime</th>\n",
       "      <th>slots</th>\n",
       "    </tr>\n",
       "  </thead>\n",
       "  <tbody>\n",
       "    <tr>\n",
       "      <th>0</th>\n",
       "      <td>0</td>\n",
       "      <td>3</td>\n",
       "      <td>1</td>\n",
       "      <td>2012-07-03 11:00:00</td>\n",
       "      <td>2</td>\n",
       "    </tr>\n",
       "    <tr>\n",
       "      <th>1</th>\n",
       "      <td>1</td>\n",
       "      <td>4</td>\n",
       "      <td>1</td>\n",
       "      <td>2012-07-03 08:00:00</td>\n",
       "      <td>2</td>\n",
       "    </tr>\n",
       "    <tr>\n",
       "      <th>2</th>\n",
       "      <td>2</td>\n",
       "      <td>6</td>\n",
       "      <td>0</td>\n",
       "      <td>2012-07-03 18:00:00</td>\n",
       "      <td>2</td>\n",
       "    </tr>\n",
       "    <tr>\n",
       "      <th>3</th>\n",
       "      <td>3</td>\n",
       "      <td>7</td>\n",
       "      <td>1</td>\n",
       "      <td>2012-07-03 19:00:00</td>\n",
       "      <td>2</td>\n",
       "    </tr>\n",
       "    <tr>\n",
       "      <th>4</th>\n",
       "      <td>4</td>\n",
       "      <td>8</td>\n",
       "      <td>1</td>\n",
       "      <td>2012-07-03 10:00:00</td>\n",
       "      <td>1</td>\n",
       "    </tr>\n",
       "    <tr>\n",
       "      <th>...</th>\n",
       "      <td>...</td>\n",
       "      <td>...</td>\n",
       "      <td>...</td>\n",
       "      <td>...</td>\n",
       "      <td>...</td>\n",
       "    </tr>\n",
       "    <tr>\n",
       "      <th>4038</th>\n",
       "      <td>4038</td>\n",
       "      <td>8</td>\n",
       "      <td>29</td>\n",
       "      <td>2012-09-30 16:30:00</td>\n",
       "      <td>2</td>\n",
       "    </tr>\n",
       "    <tr>\n",
       "      <th>4039</th>\n",
       "      <td>4039</td>\n",
       "      <td>8</td>\n",
       "      <td>29</td>\n",
       "      <td>2012-09-30 18:00:00</td>\n",
       "      <td>1</td>\n",
       "    </tr>\n",
       "    <tr>\n",
       "      <th>4040</th>\n",
       "      <td>4040</td>\n",
       "      <td>8</td>\n",
       "      <td>21</td>\n",
       "      <td>2012-09-30 18:30:00</td>\n",
       "      <td>1</td>\n",
       "    </tr>\n",
       "    <tr>\n",
       "      <th>4041</th>\n",
       "      <td>4041</td>\n",
       "      <td>8</td>\n",
       "      <td>16</td>\n",
       "      <td>2012-09-30 19:00:00</td>\n",
       "      <td>1</td>\n",
       "    </tr>\n",
       "    <tr>\n",
       "      <th>4042</th>\n",
       "      <td>4042</td>\n",
       "      <td>8</td>\n",
       "      <td>29</td>\n",
       "      <td>2012-09-30 19:30:00</td>\n",
       "      <td>1</td>\n",
       "    </tr>\n",
       "  </tbody>\n",
       "</table>\n",
       "<p>4043 rows × 5 columns</p>\n",
       "</div>"
      ],
      "text/plain": [
       "      bookid  facid  memid            starttime  slots\n",
       "0          0      3      1  2012-07-03 11:00:00      2\n",
       "1          1      4      1  2012-07-03 08:00:00      2\n",
       "2          2      6      0  2012-07-03 18:00:00      2\n",
       "3          3      7      1  2012-07-03 19:00:00      2\n",
       "4          4      8      1  2012-07-03 10:00:00      1\n",
       "...      ...    ...    ...                  ...    ...\n",
       "4038    4038      8     29  2012-09-30 16:30:00      2\n",
       "4039    4039      8     29  2012-09-30 18:00:00      1\n",
       "4040    4040      8     21  2012-09-30 18:30:00      1\n",
       "4041    4041      8     16  2012-09-30 19:00:00      1\n",
       "4042    4042      8     29  2012-09-30 19:30:00      1\n",
       "\n",
       "[4043 rows x 5 columns]"
      ]
     },
     "execution_count": 175,
     "metadata": {},
     "output_type": "execute_result"
    }
   ],
   "source": [
    "with engine.connect() as con:\n",
    "    rs=con.execute('select * \\\n",
    "    from Bookings')\n",
    "    mems = pd.DataFrame(rs.fetchall())\n",
    "    mems.columns = rs.keys()\n",
    "\n",
    "mems"
   ]
  }
 ],
 "metadata": {
  "kernelspec": {
   "display_name": "Python 3 (ipykernel)",
   "language": "python",
   "name": "python3"
  },
  "language_info": {
   "codemirror_mode": {
    "name": "ipython",
    "version": 3
   },
   "file_extension": ".py",
   "mimetype": "text/x-python",
   "name": "python",
   "nbconvert_exporter": "python",
   "pygments_lexer": "ipython3",
   "version": "3.11.5"
  }
 },
 "nbformat": 4,
 "nbformat_minor": 5
}
